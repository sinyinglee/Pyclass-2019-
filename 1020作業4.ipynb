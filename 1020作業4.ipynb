{
 "cells": [
  {
   "cell_type": "code",
   "execution_count": 3,
   "metadata": {},
   "outputs": [],
   "source": [
    "import ipywidgets as widgets\n",
    "from ipywidgets import interact, interact_manual, fixed\n",
    "from IPython.display import clear_output, display, YouTubeVideo\n",
    "from random import choice"
   ]
  },
  {
   "cell_type": "code",
   "execution_count": 4,
   "metadata": {},
   "outputs": [],
   "source": [
    "recipe1 = YouTubeVideo(\"1uKxk6QBsk0\")\n",
    "recipe2= YouTubeVideo(\"f41mm_m6HG0\")\n",
    "recipe3= YouTubeVideo(\"QD8Hcjt1Yu8\")\n",
    "recipe4= YouTubeVideo(\"SNeokNsByMA\")\n",
    "recipe5= YouTubeVideo(\"MN1mH0CzHdw\")\n",
    "recipe6= YouTubeVideo(\"IoXtEAewhxo\")\n",
    "recipe7= YouTubeVideo(\"I7R8V8xfeFU\")"
   ]
  },
  {
   "cell_type": "code",
   "execution_count": 5,
   "metadata": {},
   "outputs": [
    {
     "data": {
      "application/vnd.jupyter.widget-view+json": {
       "model_id": "249d8b17f4c04337a1290b6121044e5a",
       "version_major": 2,
       "version_minor": 0
      },
      "text/plain": [
       "VBox(children=(Button(description='今天煮什麼呢？', style=ButtonStyle(button_color='lightblue')), Output()))"
      ]
     },
     "metadata": {},
     "output_type": "display_data"
    }
   ],
   "source": [
    "button = widgets.Button(description='今天煮什麼呢？')\n",
    "button.style.button_color = 'lightblue'\n",
    "out = widgets.Output()\n",
    "\n",
    "def button_clicked(_): \n",
    "    with out: \n",
    "        clear_output() #每次都會清掉畫面\n",
    "        recipe = [recipe1, recipe2, recipe3, recipe4, recipe5, recipe6, recipe7]\n",
    "        r_choice = choice(recipe)\n",
    "        display(r_choice)\n",
    "             \n",
    "button.on_click(button_clicked)\n",
    "widgets.VBox([button,out]) "
   ]
  },
  {
   "cell_type": "code",
   "execution_count": null,
   "metadata": {},
   "outputs": [],
   "source": []
  }
 ],
 "metadata": {
  "kernelspec": {
   "display_name": "Python 3",
   "language": "python",
   "name": "python3"
  },
  "language_info": {
   "codemirror_mode": {
    "name": "ipython",
    "version": 3
   },
   "file_extension": ".py",
   "mimetype": "text/x-python",
   "name": "python",
   "nbconvert_exporter": "python",
   "pygments_lexer": "ipython3",
   "version": "3.7.3"
  }
 },
 "nbformat": 4,
 "nbformat_minor": 2
}
