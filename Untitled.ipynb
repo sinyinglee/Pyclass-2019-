{
 "cells": [
  {
   "cell_type": "code",
   "execution_count": null,
   "metadata": {},
   "outputs": [
    {
     "name": "stdout",
     "output_type": "stream",
     "text": [
      "Please visit this URL to authorize this application: https://accounts.google.com/o/oauth2/auth?response_type=code&client_id=965822326692-sd9s4ujqokd84o85j8p5nhe6jsfs0bgk.apps.googleusercontent.com&redirect_uri=urn%3Aietf%3Awg%3Aoauth%3A2.0%3Aoob&scope=https%3A%2F%2Fwww.googleapis.com%2Fauth%2Fyoutube.force-ssl&state=ZdqnawNVG0LvTMsudUpg2gddgvdTO3&prompt=consent&access_type=offline\n"
     ]
    }
   ],
   "source": [
    "import os\n",
    "\n",
    "import google.oauth2.credentials\n",
    "\n",
    "import google_auth_oauthlib.flow\n",
    "from googleapiclient.discovery import build\n",
    "from googleapiclient.errors import HttpError\n",
    "from google_auth_oauthlib.flow import InstalledAppFlow\n",
    "from selenium import webdriver\n",
    "import time\n",
    "\n",
    "\n",
    "# The CLIENT_SECRETS_FILE variable specifies the name of a file that contains\n",
    "# the OAuth 2.0 information for this application, including its client_id and\n",
    "# client_secret.\n",
    "CLIENT_SECRETS_FILE = \"client_secret.json\"\n",
    "\n",
    "# This OAuth 2.0 access scope allows for full read/write access to the\n",
    "# authenticated user's account and requires requests to use an SSL connection.\n",
    "SCOPES = ['https://www.googleapis.com/auth/youtube.force-ssl']\n",
    "API_SERVICE_NAME = 'youtube'\n",
    "API_VERSION = 'v3'\n",
    "\n",
    "\n",
    "def get_authenticated_service():\n",
    "    flow = InstalledAppFlow.from_client_secrets_file(CLIENT_SECRETS_FILE, SCOPES)\n",
    "    credentials = flow.run_console()\n",
    "    return build(API_SERVICE_NAME, API_VERSION, credentials = credentials)\n",
    "\n",
    "\n",
    "client = get_authenticated_service()"
   ]
  },
  {
   "cell_type": "code",
   "execution_count": null,
   "metadata": {},
   "outputs": [],
   "source": []
  }
 ],
 "metadata": {
  "kernelspec": {
   "display_name": "Python 3",
   "language": "python",
   "name": "python3"
  },
  "language_info": {
   "codemirror_mode": {
    "name": "ipython",
    "version": 3
   },
   "file_extension": ".py",
   "mimetype": "text/x-python",
   "name": "python",
   "nbconvert_exporter": "python",
   "pygments_lexer": "ipython3",
   "version": "3.7.3"
  }
 },
 "nbformat": 4,
 "nbformat_minor": 2
}
