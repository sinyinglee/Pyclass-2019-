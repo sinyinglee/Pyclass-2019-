{
 "cells": [
  {
   "cell_type": "code",
   "execution_count": 1,
   "metadata": {},
   "outputs": [],
   "source": [
    "import pandas as pd\n",
    "df = pd.read_csv(\"kkday July.csv\")\n",
    "july_set = set(df[\"product_url\"])"
   ]
  },
  {
   "cell_type": "code",
   "execution_count": 2,
   "metadata": {},
   "outputs": [],
   "source": [
    "df1 = pd.read_csv(\"KKday Aug.csv\")\n",
    "august_set= set(df1[\"selection1_product_mane_url\"])"
   ]
  },
  {
   "cell_type": "code",
   "execution_count": 3,
   "metadata": {},
   "outputs": [],
   "source": [
    "difference = list(august_set - july_set)\n",
    "del difference[0]\n",
    "# print(len(difference))"
   ]
  },
  {
   "cell_type": "code",
   "execution_count": 4,
   "metadata": {},
   "outputs": [],
   "source": [
    "writer = pd.ExcelWriter('difference.xlsx')\n",
    "df_empty = pd.DataFrame(columns=['Unnamed: 0', 'selection1_product_mane_name', 'selection1_product_mane_url', 'selection1_product_name_price', \"selection1_product_mane_confirmation_time\", 'selection1_product_mane_review_score', 'selection1_product_mane_number_of_review',\"selection1_product_mane_cancelation_policy\",\"package_name\",\"package_price\"])\n",
    "url_sectors = df1.groupby(\"selection1_product_mane_url\")\n",
    "for i in difference:\n",
    "    value = url_sectors.get_group(i)\n",
    "    df_empty = pd.concat([df_empty, value])\n",
    "    df_empty.to_excel(writer, sheet_name=\"new acts in Aug\")\n",
    "    \n",
    "writer.save()\n",
    "writer.close()"
   ]
  },
  {
   "cell_type": "code",
   "execution_count": null,
   "metadata": {},
   "outputs": [],
   "source": []
  }
 ],
 "metadata": {
  "kernelspec": {
   "display_name": "Python 3",
   "language": "python",
   "name": "python3"
  },
  "language_info": {
   "codemirror_mode": {
    "name": "ipython",
    "version": 3
   },
   "file_extension": ".py",
   "mimetype": "text/x-python",
   "name": "python",
   "nbconvert_exporter": "python",
   "pygments_lexer": "ipython3",
   "version": "3.7.3"
  }
 },
 "nbformat": 4,
 "nbformat_minor": 2
}
