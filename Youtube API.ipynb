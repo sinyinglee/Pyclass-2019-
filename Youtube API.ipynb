{
 "cells": [
  {
   "cell_type": "code",
   "execution_count": 42,
   "metadata": {},
   "outputs": [],
   "source": [
    "# -*- coding: utf-8 -*-\n",
    "\n",
    "# Sample Python code for youtube.search.list\n",
    "# See instructions for running these code samples locally:\n",
    "# https://developers.google.com/explorer-help/guides/code_samples#python\n",
    "\n",
    "import os\n",
    "\n",
    "import google_auth_oauthlib.flow\n",
    "import googleapiclient.discovery\n",
    "import googleapiclient.errors\n",
    "\n",
    "scopes = [\"https://www.googleapis.com/auth/youtube.force-ssl\"]\n",
    "os.environ[\"OAUTHLIB_INSECURE_TRANSPORT\"] = \"1\"\n",
    "api_service_name = \"youtube\"\n",
    "api_version = \"v3\"\n",
    "client_secrets_file = \"key.json\"\n",
    "\n",
    "# Get credentials and create an API client\n",
    "def authorize():\n",
    "    flow = google_auth_oauthlib.flow.InstalledAppFlow.from_client_secrets_file(\n",
    "        client_secrets_file, scopes)\n",
    "    credentials = flow.run_console()\n",
    "    youtube = googleapiclient.discovery.build(\n",
    "        api_service_name, api_version, credentials=credentials)\n",
    "    return youtube"
   ]
  },
  {
   "cell_type": "code",
   "execution_count": 47,
   "metadata": {},
   "outputs": [],
   "source": [
    "def request(query, youtube):\n",
    "    request = youtube.search().list(\n",
    "    part=\" snippet\",\n",
    "    q=query)\n",
    "    response = request.execute()\n",
    "    return response"
   ]
  },
  {
   "cell_type": "code",
   "execution_count": 45,
   "metadata": {},
   "outputs": [
    {
     "name": "stdout",
     "output_type": "stream",
     "text": [
      "Please visit this URL to authorize this application: https://accounts.google.com/o/oauth2/auth?response_type=code&client_id=589147579311-5hdc9glu0qcgc7n2ko1j6umon05l6jb4.apps.googleusercontent.com&redirect_uri=urn%3Aietf%3Awg%3Aoauth%3A2.0%3Aoob&scope=https%3A%2F%2Fwww.googleapis.com%2Fauth%2Fyoutube.force-ssl&state=Eo8AXg0FQHNL13JZ9048At0fOFhFec&prompt=consent&access_type=offline\n",
      "Enter the authorization code: 4/uwFnojtOR1pC3AUzziI_xY8U2QBpI-kKa_hoRFb8GyI8vfqwJOiUuCs\n"
     ]
    }
   ],
   "source": [
    "client = authorize()"
   ]
  },
  {
   "cell_type": "code",
   "execution_count": 50,
   "metadata": {},
   "outputs": [
    {
     "name": "stdout",
     "output_type": "stream",
     "text": [
      "please type in the song you would like to add to playlist: everything I wanted\n"
     ]
    }
   ],
   "source": [
    "song = input(\"please type in the song you would like to add to playlist: \")"
   ]
  },
  {
   "cell_type": "code",
   "execution_count": 52,
   "metadata": {},
   "outputs": [],
   "source": [
    "song_content = request(song, client)"
   ]
  },
  {
   "cell_type": "code",
   "execution_count": 54,
   "metadata": {},
   "outputs": [],
   "source": [
    "v_id = song_content[\"items\"][0][\"id\"][\"videoId\"]"
   ]
  },
  {
   "cell_type": "code",
   "execution_count": 55,
   "metadata": {},
   "outputs": [],
   "source": [
    "song_link = f\"https://www.youtube.com/watch?v={v_id}\""
   ]
  },
  {
   "cell_type": "code",
   "execution_count": 56,
   "metadata": {
    "scrolled": true
   },
   "outputs": [
    {
     "data": {
      "text/plain": [
       "'https://www.youtube.com/watch?v=qCTMq7xvdXU'"
      ]
     },
     "execution_count": 56,
     "metadata": {},
     "output_type": "execute_result"
    }
   ],
   "source": [
    "song_link"
   ]
  },
  {
   "cell_type": "code",
   "execution_count": 59,
   "metadata": {},
   "outputs": [
    {
     "name": "stdout",
     "output_type": "stream",
     "text": [
      "please type in the song you would like to add to playlist: coastline\n",
      "https://www.youtube.com/watch?v=DAE1NbKstqk\n",
      "please type in the song you would like to add to playlist: christmas Tree farm\n",
      "https://www.youtube.com/watch?v=mN3rDTAdM2o\n",
      "please type in the song you would like to add to playlist: end\n"
     ]
    }
   ],
   "source": [
    "while True:\n",
    "    song = input(\"please type in the song you would like to add to playlist: \")\n",
    "    if song == \"end\":\n",
    "        break\n",
    "    song_content = request(song, client)\n",
    "    v_id = song_content[\"items\"][0][\"id\"][\"videoId\"]\n",
    "    song_link = f\"https://www.youtube.com/watch?v={v_id}\"\n",
    "    print(song_link)"
   ]
  },
  {
   "cell_type": "code",
   "execution_count": null,
   "metadata": {},
   "outputs": [],
   "source": []
  }
 ],
 "metadata": {
  "kernelspec": {
   "display_name": "Python 3",
   "language": "python",
   "name": "python3"
  },
  "language_info": {
   "codemirror_mode": {
    "name": "ipython",
    "version": 3
   },
   "file_extension": ".py",
   "mimetype": "text/x-python",
   "name": "python",
   "nbconvert_exporter": "python",
   "pygments_lexer": "ipython3",
   "version": "3.7.3"
  }
 },
 "nbformat": 4,
 "nbformat_minor": 2
}
