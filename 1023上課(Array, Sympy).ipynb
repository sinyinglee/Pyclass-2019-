{
 "cells": [
  {
   "cell_type": "code",
   "execution_count": 1,
   "metadata": {},
   "outputs": [],
   "source": [
    "%matplotlib inline\n",
    "import numpy as np\n",
    "import matplotlib.pyplot as plt\n",
    "import pandas as pd"
   ]
  },
  {
   "cell_type": "markdown",
   "metadata": {},
   "source": [
    "## Array Oriented Programming"
   ]
  },
  {
   "cell_type": "code",
   "execution_count": 2,
   "metadata": {},
   "outputs": [],
   "source": [
    "grades = [56, 62, 71, 45, 70]"
   ]
  },
  {
   "cell_type": "code",
   "execution_count": 3,
   "metadata": {},
   "outputs": [],
   "source": [
    "new_grades = []"
   ]
  },
  {
   "cell_type": "code",
   "execution_count": 4,
   "metadata": {},
   "outputs": [
    {
     "name": "stdout",
     "output_type": "stream",
     "text": [
      "調整後成績: 74.83\n",
      "調整後成績: 78.74\n",
      "調整後成績: 84.26\n",
      "調整後成績: 67.08\n",
      "調整後成績: 83.67\n"
     ]
    }
   ],
   "source": [
    "for g in grades:\n",
    "    new_g = np.sqrt(g)*10\n",
    "    print(f\"調整後成績: {new_g:.2f}\")\n",
    "    new_grades.append(new_g)"
   ]
  },
  {
   "cell_type": "code",
   "execution_count": 5,
   "metadata": {},
   "outputs": [
    {
     "name": "stdout",
     "output_type": "stream",
     "text": [
      "調整後成績: 89.83\n",
      "調整後成績: 93.74\n",
      "調整後成績: 99.26\n",
      "調整後成績: 82.08\n",
      "調整後成績: 98.67\n"
     ]
    }
   ],
   "source": [
    "new_grades = []\n",
    "\n",
    "for g in grades:\n",
    "    new_g = np.sqrt(g)*10+15\n",
    "    print(f\"調整後成績: {new_g:.2f}\")\n",
    "    new_grades.append(new_g)"
   ]
  },
  {
   "cell_type": "markdown",
   "metadata": {},
   "source": [
    "### 換成 np.array 來做"
   ]
  },
  {
   "cell_type": "code",
   "execution_count": 6,
   "metadata": {},
   "outputs": [],
   "source": [
    "arr_grades = np.array(grades)"
   ]
  },
  {
   "cell_type": "code",
   "execution_count": 7,
   "metadata": {},
   "outputs": [
    {
     "data": {
      "text/plain": [
       "array([56, 62, 71, 45, 70])"
      ]
     },
     "execution_count": 7,
     "metadata": {},
     "output_type": "execute_result"
    }
   ],
   "source": [
    "arr_grades"
   ]
  },
  {
   "cell_type": "code",
   "execution_count": 8,
   "metadata": {},
   "outputs": [
    {
     "data": {
      "text/plain": [
       "array([74.83314774, 78.74007874, 84.26149773, 67.08203932, 83.66600265])"
      ]
     },
     "execution_count": 8,
     "metadata": {},
     "output_type": "execute_result"
    }
   ],
   "source": [
    "np.sqrt(arr_grades)*10"
   ]
  },
  {
   "cell_type": "code",
   "execution_count": 9,
   "metadata": {},
   "outputs": [
    {
     "data": {
      "text/plain": [
       "array([89.83314774, 93.74007874, 99.26149773, 82.08203932, 98.66600265])"
      ]
     },
     "execution_count": 9,
     "metadata": {},
     "output_type": "execute_result"
    }
   ],
   "source": [
    "np.sqrt(arr_grades)*10+15"
   ]
  },
  {
   "cell_type": "code",
   "execution_count": 10,
   "metadata": {},
   "outputs": [],
   "source": [
    "arr_new_grades = np.sqrt(arr_grades)*10+15"
   ]
  },
  {
   "cell_type": "code",
   "execution_count": 11,
   "metadata": {},
   "outputs": [
    {
     "data": {
      "text/plain": [
       "array([89.83314774, 93.74007874, 99.26149773, 82.08203932, 98.66600265])"
      ]
     },
     "execution_count": 11,
     "metadata": {},
     "output_type": "execute_result"
    }
   ],
   "source": [
    "arr_new_grades"
   ]
  },
  {
   "cell_type": "code",
   "execution_count": 12,
   "metadata": {},
   "outputs": [
    {
     "data": {
      "text/plain": [
       "92.71655323715235"
      ]
     },
     "execution_count": 12,
     "metadata": {},
     "output_type": "execute_result"
    }
   ],
   "source": [
    "arr_new_grades.mean() #計算平均值"
   ]
  },
  {
   "cell_type": "code",
   "execution_count": 13,
   "metadata": {},
   "outputs": [
    {
     "data": {
      "text/plain": [
       "6.33540471768489"
      ]
     },
     "execution_count": 13,
     "metadata": {},
     "output_type": "execute_result"
    }
   ],
   "source": [
    "arr_new_grades.std() #計算標準差"
   ]
  },
  {
   "cell_type": "markdown",
   "metadata": {},
   "source": [
    "### Broadcasting"
   ]
  },
  {
   "cell_type": "code",
   "execution_count": 14,
   "metadata": {},
   "outputs": [
    {
     "data": {
      "text/plain": [
       "array([15, 16, 17, 21, 24])"
      ]
     },
     "execution_count": 14,
     "metadata": {},
     "output_type": "execute_result"
    }
   ],
   "source": [
    "np.array([3,4,5,9,12])+ 12"
   ]
  },
  {
   "cell_type": "code",
   "execution_count": 15,
   "metadata": {},
   "outputs": [],
   "source": [
    "mygrades = np.array([89, 99, 60])"
   ]
  },
  {
   "cell_type": "code",
   "execution_count": 16,
   "metadata": {},
   "outputs": [],
   "source": [
    "weights = np.array([0.3, 0.4, 0.3])"
   ]
  },
  {
   "cell_type": "code",
   "execution_count": 17,
   "metadata": {},
   "outputs": [],
   "source": [
    "g = mygrades*weights"
   ]
  },
  {
   "cell_type": "code",
   "execution_count": 18,
   "metadata": {},
   "outputs": [
    {
     "data": {
      "text/plain": [
       "84.3"
      ]
     },
     "execution_count": 18,
     "metadata": {},
     "output_type": "execute_result"
    }
   ],
   "source": [
    "g.sum()"
   ]
  },
  {
   "cell_type": "code",
   "execution_count": 19,
   "metadata": {},
   "outputs": [
    {
     "data": {
      "text/plain": [
       "84.3"
      ]
     },
     "execution_count": 19,
     "metadata": {},
     "output_type": "execute_result"
    }
   ],
   "source": [
    "np.dot(mygrades, weights) #計算內積"
   ]
  },
  {
   "cell_type": "code",
   "execution_count": 20,
   "metadata": {},
   "outputs": [
    {
     "data": {
      "text/plain": [
       "84.3"
      ]
     },
     "execution_count": 20,
     "metadata": {},
     "output_type": "execute_result"
    }
   ],
   "source": [
    "mygrades@weights #與np.dot()功能相同, 計算內積"
   ]
  },
  {
   "cell_type": "markdown",
   "metadata": {},
   "source": [
    "## 不同shape轉換"
   ]
  },
  {
   "cell_type": "markdown",
   "metadata": {},
   "source": [
    "#### 0階array (0階tensor)"
   ]
  },
  {
   "cell_type": "code",
   "execution_count": 21,
   "metadata": {},
   "outputs": [],
   "source": [
    "egg = 94.87"
   ]
  },
  {
   "cell_type": "markdown",
   "metadata": {},
   "source": [
    "#### 1階array (1階tensor)"
   ]
  },
  {
   "cell_type": "code",
   "execution_count": 22,
   "metadata": {},
   "outputs": [],
   "source": [
    "egg = np.array([9,4,8,7])"
   ]
  },
  {
   "cell_type": "markdown",
   "metadata": {},
   "source": [
    "#### 2階array (2階tensor)"
   ]
  },
  {
   "cell_type": "code",
   "execution_count": 23,
   "metadata": {},
   "outputs": [],
   "source": [
    "A = np.array([[1, 2, 3], [4,5,6]])  #矩陣：先列再行"
   ]
  },
  {
   "cell_type": "code",
   "execution_count": 24,
   "metadata": {},
   "outputs": [
    {
     "data": {
      "text/plain": [
       "array([[1, 2, 3],\n",
       "       [4, 5, 6]])"
      ]
     },
     "execution_count": 24,
     "metadata": {},
     "output_type": "execute_result"
    }
   ],
   "source": [
    "A"
   ]
  },
  {
   "cell_type": "code",
   "execution_count": 25,
   "metadata": {},
   "outputs": [
    {
     "data": {
      "text/plain": [
       "array([1, 2, 3, 4, 5, 6])"
      ]
     },
     "execution_count": 25,
     "metadata": {},
     "output_type": "execute_result"
    }
   ],
   "source": [
    "A.ravel() #把矩陣拉平"
   ]
  },
  {
   "cell_type": "code",
   "execution_count": 26,
   "metadata": {},
   "outputs": [],
   "source": [
    "B = np.array([3, 9, 6, 12, 8, 20, 1, 10, 7])"
   ]
  },
  {
   "cell_type": "code",
   "execution_count": 27,
   "metadata": {},
   "outputs": [
    {
     "data": {
      "text/plain": [
       "array([ 3,  9,  6, 12,  8, 20,  1, 10,  7])"
      ]
     },
     "execution_count": 27,
     "metadata": {},
     "output_type": "execute_result"
    }
   ],
   "source": [
    "B"
   ]
  },
  {
   "cell_type": "code",
   "execution_count": 28,
   "metadata": {},
   "outputs": [
    {
     "data": {
      "text/plain": [
       "(2, 3)"
      ]
     },
     "execution_count": 28,
     "metadata": {},
     "output_type": "execute_result"
    }
   ],
   "source": [
    "A.shape"
   ]
  },
  {
   "cell_type": "code",
   "execution_count": 29,
   "metadata": {},
   "outputs": [
    {
     "data": {
      "text/plain": [
       "(9,)"
      ]
     },
     "execution_count": 29,
     "metadata": {},
     "output_type": "execute_result"
    }
   ],
   "source": [
    "B.shape"
   ]
  },
  {
   "cell_type": "code",
   "execution_count": 30,
   "metadata": {},
   "outputs": [],
   "source": [
    "B = B.reshape(3,3)"
   ]
  },
  {
   "cell_type": "code",
   "execution_count": 31,
   "metadata": {},
   "outputs": [
    {
     "data": {
      "text/plain": [
       "array([[ 3,  9,  6],\n",
       "       [12,  8, 20],\n",
       "       [ 1, 10,  7]])"
      ]
     },
     "execution_count": 31,
     "metadata": {},
     "output_type": "execute_result"
    }
   ],
   "source": [
    "B"
   ]
  },
  {
   "cell_type": "code",
   "execution_count": 36,
   "metadata": {},
   "outputs": [],
   "source": [
    "C = A@B"
   ]
  },
  {
   "cell_type": "code",
   "execution_count": 37,
   "metadata": {},
   "outputs": [
    {
     "data": {
      "text/plain": [
       "array([[ 30,  55,  67],\n",
       "       [ 78, 136, 166]])"
      ]
     },
     "execution_count": 37,
     "metadata": {},
     "output_type": "execute_result"
    }
   ],
   "source": [
    "C"
   ]
  },
  {
   "cell_type": "code",
   "execution_count": 38,
   "metadata": {},
   "outputs": [
    {
     "data": {
      "text/plain": [
       "array([ 78, 136, 166])"
      ]
     },
     "execution_count": 38,
     "metadata": {},
     "output_type": "execute_result"
    }
   ],
   "source": [
    "C[1] #取出第一列"
   ]
  },
  {
   "cell_type": "code",
   "execution_count": 39,
   "metadata": {},
   "outputs": [
    {
     "data": {
      "text/plain": [
       "136"
      ]
     },
     "execution_count": 39,
     "metadata": {},
     "output_type": "execute_result"
    }
   ],
   "source": [
    "C[1, 1]"
   ]
  },
  {
   "cell_type": "code",
   "execution_count": 42,
   "metadata": {},
   "outputs": [
    {
     "data": {
      "text/plain": [
       "array([ 67, 166])"
      ]
     },
     "execution_count": 42,
     "metadata": {},
     "output_type": "execute_result"
    }
   ],
   "source": [
    "C[:, 2] #取出兩列的第三個數字"
   ]
  },
  {
   "cell_type": "code",
   "execution_count": 47,
   "metadata": {},
   "outputs": [],
   "source": [
    "X = np.array([3, 9, 2, 3, 1, -1])"
   ]
  },
  {
   "cell_type": "code",
   "execution_count": 48,
   "metadata": {},
   "outputs": [
    {
     "data": {
      "text/plain": [
       "array([[ 3],\n",
       "       [ 9],\n",
       "       [ 2],\n",
       "       [ 3],\n",
       "       [ 1],\n",
       "       [-1]])"
      ]
     },
     "execution_count": 48,
     "metadata": {},
     "output_type": "execute_result"
    }
   ],
   "source": [
    "X.reshape(6,1)"
   ]
  },
  {
   "cell_type": "code",
   "execution_count": 49,
   "metadata": {},
   "outputs": [
    {
     "data": {
      "text/plain": [
       "array([[ 3],\n",
       "       [ 9],\n",
       "       [ 2],\n",
       "       [ 3],\n",
       "       [ 1],\n",
       "       [-1]])"
      ]
     },
     "execution_count": 49,
     "metadata": {},
     "output_type": "execute_result"
    }
   ],
   "source": [
    "X.reshape(len(X), 1)"
   ]
  },
  {
   "cell_type": "markdown",
   "metadata": {},
   "source": [
    "## Array filter 功能"
   ]
  },
  {
   "cell_type": "code",
   "execution_count": 50,
   "metadata": {},
   "outputs": [],
   "source": [
    "grades = np.array([59, 30, 25, 65, 60, 100 ,85, 8])"
   ]
  },
  {
   "cell_type": "code",
   "execution_count": 51,
   "metadata": {},
   "outputs": [],
   "source": [
    "passed = np.array([False, False, False, True, True, True, True, False])"
   ]
  },
  {
   "cell_type": "code",
   "execution_count": 52,
   "metadata": {},
   "outputs": [
    {
     "data": {
      "text/plain": [
       "array([ 65,  60, 100,  85])"
      ]
     },
     "execution_count": 52,
     "metadata": {},
     "output_type": "execute_result"
    }
   ],
   "source": [
    "grades[passed]"
   ]
  },
  {
   "cell_type": "code",
   "execution_count": 55,
   "metadata": {},
   "outputs": [],
   "source": [
    "passed = (grades >=60) ##outcome是True or False"
   ]
  },
  {
   "cell_type": "code",
   "execution_count": 57,
   "metadata": {},
   "outputs": [
    {
     "data": {
      "text/plain": [
       "array([ 65,  60, 100,  85])"
      ]
     },
     "execution_count": 57,
     "metadata": {},
     "output_type": "execute_result"
    }
   ],
   "source": [
    "grades[passed]"
   ]
  },
  {
   "cell_type": "code",
   "execution_count": 58,
   "metadata": {},
   "outputs": [
    {
     "data": {
      "text/plain": [
       "array([ 65,  60, 100,  85])"
      ]
     },
     "execution_count": 58,
     "metadata": {},
     "output_type": "execute_result"
    }
   ],
   "source": [
    "grades[grades >=60]"
   ]
  },
  {
   "cell_type": "code",
   "execution_count": 59,
   "metadata": {},
   "outputs": [
    {
     "data": {
      "text/plain": [
       "array([False, False, False,  True,  True, False, False, False])"
      ]
     },
     "execution_count": 59,
     "metadata": {},
     "output_type": "execute_result"
    }
   ],
   "source": [
    "(grades>=60) & (grades<80)"
   ]
  },
  {
   "cell_type": "code",
   "execution_count": 60,
   "metadata": {},
   "outputs": [
    {
     "data": {
      "text/plain": [
       "array([65, 60])"
      ]
     },
     "execution_count": 60,
     "metadata": {},
     "output_type": "execute_result"
    }
   ],
   "source": [
    "grades[(grades>=60) & (grades<80)]"
   ]
  },
  {
   "cell_type": "markdown",
   "metadata": {},
   "source": [
    "### 畫圖"
   ]
  },
  {
   "cell_type": "code",
   "execution_count": 34,
   "metadata": {},
   "outputs": [],
   "source": [
    "π = np.pi"
   ]
  },
  {
   "cell_type": "code",
   "execution_count": 35,
   "metadata": {},
   "outputs": [],
   "source": [
    "x = np.linspace(-2*π, 2*π, 1000)"
   ]
  },
  {
   "cell_type": "code",
   "execution_count": 36,
   "metadata": {
    "collapsed": true
   },
   "outputs": [
    {
     "data": {
      "text/plain": [
       "array([-6.28318531, -6.27060636, -6.25802741, -6.24544846, -6.23286951,\n",
       "       -6.22029056, -6.20771161, -6.19513266, -6.18255371, -6.16997476,\n",
       "       -6.15739581, -6.14481686, -6.13223791, -6.11965896, -6.10708001,\n",
       "       -6.09450106, -6.08192211, -6.06934316, -6.05676422, -6.04418527,\n",
       "       -6.03160632, -6.01902737, -6.00644842, -5.99386947, -5.98129052,\n",
       "       -5.96871157, -5.95613262, -5.94355367, -5.93097472, -5.91839577,\n",
       "       -5.90581682, -5.89323787, -5.88065892, -5.86807997, -5.85550102,\n",
       "       -5.84292207, -5.83034312, -5.81776417, -5.80518522, -5.79260627,\n",
       "       -5.78002732, -5.76744838, -5.75486943, -5.74229048, -5.72971153,\n",
       "       -5.71713258, -5.70455363, -5.69197468, -5.67939573, -5.66681678,\n",
       "       -5.65423783, -5.64165888, -5.62907993, -5.61650098, -5.60392203,\n",
       "       -5.59134308, -5.57876413, -5.56618518, -5.55360623, -5.54102728,\n",
       "       -5.52844833, -5.51586938, -5.50329043, -5.49071148, -5.47813254,\n",
       "       -5.46555359, -5.45297464, -5.44039569, -5.42781674, -5.41523779,\n",
       "       -5.40265884, -5.39007989, -5.37750094, -5.36492199, -5.35234304,\n",
       "       -5.33976409, -5.32718514, -5.31460619, -5.30202724, -5.28944829,\n",
       "       -5.27686934, -5.26429039, -5.25171144, -5.23913249, -5.22655354,\n",
       "       -5.21397459, -5.20139564, -5.1888167 , -5.17623775, -5.1636588 ,\n",
       "       -5.15107985, -5.1385009 , -5.12592195, -5.113343  , -5.10076405,\n",
       "       -5.0881851 , -5.07560615, -5.0630272 , -5.05044825, -5.0378693 ,\n",
       "       -5.02529035, -5.0127114 , -5.00013245, -4.9875535 , -4.97497455,\n",
       "       -4.9623956 , -4.94981665, -4.9372377 , -4.92465875, -4.9120798 ,\n",
       "       -4.89950086, -4.88692191, -4.87434296, -4.86176401, -4.84918506,\n",
       "       -4.83660611, -4.82402716, -4.81144821, -4.79886926, -4.78629031,\n",
       "       -4.77371136, -4.76113241, -4.74855346, -4.73597451, -4.72339556,\n",
       "       -4.71081661, -4.69823766, -4.68565871, -4.67307976, -4.66050081,\n",
       "       -4.64792186, -4.63534291, -4.62276396, -4.61018502, -4.59760607,\n",
       "       -4.58502712, -4.57244817, -4.55986922, -4.54729027, -4.53471132,\n",
       "       -4.52213237, -4.50955342, -4.49697447, -4.48439552, -4.47181657,\n",
       "       -4.45923762, -4.44665867, -4.43407972, -4.42150077, -4.40892182,\n",
       "       -4.39634287, -4.38376392, -4.37118497, -4.35860602, -4.34602707,\n",
       "       -4.33344812, -4.32086918, -4.30829023, -4.29571128, -4.28313233,\n",
       "       -4.27055338, -4.25797443, -4.24539548, -4.23281653, -4.22023758,\n",
       "       -4.20765863, -4.19507968, -4.18250073, -4.16992178, -4.15734283,\n",
       "       -4.14476388, -4.13218493, -4.11960598, -4.10702703, -4.09444808,\n",
       "       -4.08186913, -4.06929018, -4.05671123, -4.04413228, -4.03155334,\n",
       "       -4.01897439, -4.00639544, -3.99381649, -3.98123754, -3.96865859,\n",
       "       -3.95607964, -3.94350069, -3.93092174, -3.91834279, -3.90576384,\n",
       "       -3.89318489, -3.88060594, -3.86802699, -3.85544804, -3.84286909,\n",
       "       -3.83029014, -3.81771119, -3.80513224, -3.79255329, -3.77997434,\n",
       "       -3.76739539, -3.75481644, -3.7422375 , -3.72965855, -3.7170796 ,\n",
       "       -3.70450065, -3.6919217 , -3.67934275, -3.6667638 , -3.65418485,\n",
       "       -3.6416059 , -3.62902695, -3.616448  , -3.60386905, -3.5912901 ,\n",
       "       -3.57871115, -3.5661322 , -3.55355325, -3.5409743 , -3.52839535,\n",
       "       -3.5158164 , -3.50323745, -3.4906585 , -3.47807955, -3.4655006 ,\n",
       "       -3.45292166, -3.44034271, -3.42776376, -3.41518481, -3.40260586,\n",
       "       -3.39002691, -3.37744796, -3.36486901, -3.35229006, -3.33971111,\n",
       "       -3.32713216, -3.31455321, -3.30197426, -3.28939531, -3.27681636,\n",
       "       -3.26423741, -3.25165846, -3.23907951, -3.22650056, -3.21392161,\n",
       "       -3.20134266, -3.18876371, -3.17618476, -3.16360582, -3.15102687,\n",
       "       -3.13844792, -3.12586897, -3.11329002, -3.10071107, -3.08813212,\n",
       "       -3.07555317, -3.06297422, -3.05039527, -3.03781632, -3.02523737,\n",
       "       -3.01265842, -3.00007947, -2.98750052, -2.97492157, -2.96234262,\n",
       "       -2.94976367, -2.93718472, -2.92460577, -2.91202682, -2.89944787,\n",
       "       -2.88686892, -2.87428998, -2.86171103, -2.84913208, -2.83655313,\n",
       "       -2.82397418, -2.81139523, -2.79881628, -2.78623733, -2.77365838,\n",
       "       -2.76107943, -2.74850048, -2.73592153, -2.72334258, -2.71076363,\n",
       "       -2.69818468, -2.68560573, -2.67302678, -2.66044783, -2.64786888,\n",
       "       -2.63528993, -2.62271098, -2.61013203, -2.59755308, -2.58497414,\n",
       "       -2.57239519, -2.55981624, -2.54723729, -2.53465834, -2.52207939,\n",
       "       -2.50950044, -2.49692149, -2.48434254, -2.47176359, -2.45918464,\n",
       "       -2.44660569, -2.43402674, -2.42144779, -2.40886884, -2.39628989,\n",
       "       -2.38371094, -2.37113199, -2.35855304, -2.34597409, -2.33339514,\n",
       "       -2.32081619, -2.30823724, -2.2956583 , -2.28307935, -2.2705004 ,\n",
       "       -2.25792145, -2.2453425 , -2.23276355, -2.2201846 , -2.20760565,\n",
       "       -2.1950267 , -2.18244775, -2.1698688 , -2.15728985, -2.1447109 ,\n",
       "       -2.13213195, -2.119553  , -2.10697405, -2.0943951 , -2.08181615,\n",
       "       -2.0692372 , -2.05665825, -2.0440793 , -2.03150035, -2.01892141,\n",
       "       -2.00634246, -1.99376351, -1.98118456, -1.96860561, -1.95602666,\n",
       "       -1.94344771, -1.93086876, -1.91828981, -1.90571086, -1.89313191,\n",
       "       -1.88055296, -1.86797401, -1.85539506, -1.84281611, -1.83023716,\n",
       "       -1.81765821, -1.80507926, -1.79250031, -1.77992136, -1.76734241,\n",
       "       -1.75476346, -1.74218451, -1.72960557, -1.71702662, -1.70444767,\n",
       "       -1.69186872, -1.67928977, -1.66671082, -1.65413187, -1.64155292,\n",
       "       -1.62897397, -1.61639502, -1.60381607, -1.59123712, -1.57865817,\n",
       "       -1.56607922, -1.55350027, -1.54092132, -1.52834237, -1.51576342,\n",
       "       -1.50318447, -1.49060552, -1.47802657, -1.46544762, -1.45286867,\n",
       "       -1.44028973, -1.42771078, -1.41513183, -1.40255288, -1.38997393,\n",
       "       -1.37739498, -1.36481603, -1.35223708, -1.33965813, -1.32707918,\n",
       "       -1.31450023, -1.30192128, -1.28934233, -1.27676338, -1.26418443,\n",
       "       -1.25160548, -1.23902653, -1.22644758, -1.21386863, -1.20128968,\n",
       "       -1.18871073, -1.17613178, -1.16355283, -1.15097389, -1.13839494,\n",
       "       -1.12581599, -1.11323704, -1.10065809, -1.08807914, -1.07550019,\n",
       "       -1.06292124, -1.05034229, -1.03776334, -1.02518439, -1.01260544,\n",
       "       -1.00002649, -0.98744754, -0.97486859, -0.96228964, -0.94971069,\n",
       "       -0.93713174, -0.92455279, -0.91197384, -0.89939489, -0.88681594,\n",
       "       -0.87423699, -0.86165805, -0.8490791 , -0.83650015, -0.8239212 ,\n",
       "       -0.81134225, -0.7987633 , -0.78618435, -0.7736054 , -0.76102645,\n",
       "       -0.7484475 , -0.73586855, -0.7232896 , -0.71071065, -0.6981317 ,\n",
       "       -0.68555275, -0.6729738 , -0.66039485, -0.6478159 , -0.63523695,\n",
       "       -0.622658  , -0.61007905, -0.5975001 , -0.58492115, -0.57234221,\n",
       "       -0.55976326, -0.54718431, -0.53460536, -0.52202641, -0.50944746,\n",
       "       -0.49686851, -0.48428956, -0.47171061, -0.45913166, -0.44655271,\n",
       "       -0.43397376, -0.42139481, -0.40881586, -0.39623691, -0.38365796,\n",
       "       -0.37107901, -0.35850006, -0.34592111, -0.33334216, -0.32076321,\n",
       "       -0.30818426, -0.29560531, -0.28302637, -0.27044742, -0.25786847,\n",
       "       -0.24528952, -0.23271057, -0.22013162, -0.20755267, -0.19497372,\n",
       "       -0.18239477, -0.16981582, -0.15723687, -0.14465792, -0.13207897,\n",
       "       -0.11950002, -0.10692107, -0.09434212, -0.08176317, -0.06918422,\n",
       "       -0.05660527, -0.04402632, -0.03144737, -0.01886842, -0.00628947,\n",
       "        0.00628947,  0.01886842,  0.03144737,  0.04402632,  0.05660527,\n",
       "        0.06918422,  0.08176317,  0.09434212,  0.10692107,  0.11950002,\n",
       "        0.13207897,  0.14465792,  0.15723687,  0.16981582,  0.18239477,\n",
       "        0.19497372,  0.20755267,  0.22013162,  0.23271057,  0.24528952,\n",
       "        0.25786847,  0.27044742,  0.28302637,  0.29560531,  0.30818426,\n",
       "        0.32076321,  0.33334216,  0.34592111,  0.35850006,  0.37107901,\n",
       "        0.38365796,  0.39623691,  0.40881586,  0.42139481,  0.43397376,\n",
       "        0.44655271,  0.45913166,  0.47171061,  0.48428956,  0.49686851,\n",
       "        0.50944746,  0.52202641,  0.53460536,  0.54718431,  0.55976326,\n",
       "        0.57234221,  0.58492115,  0.5975001 ,  0.61007905,  0.622658  ,\n",
       "        0.63523695,  0.6478159 ,  0.66039485,  0.6729738 ,  0.68555275,\n",
       "        0.6981317 ,  0.71071065,  0.7232896 ,  0.73586855,  0.7484475 ,\n",
       "        0.76102645,  0.7736054 ,  0.78618435,  0.7987633 ,  0.81134225,\n",
       "        0.8239212 ,  0.83650015,  0.8490791 ,  0.86165805,  0.87423699,\n",
       "        0.88681594,  0.89939489,  0.91197384,  0.92455279,  0.93713174,\n",
       "        0.94971069,  0.96228964,  0.97486859,  0.98744754,  1.00002649,\n",
       "        1.01260544,  1.02518439,  1.03776334,  1.05034229,  1.06292124,\n",
       "        1.07550019,  1.08807914,  1.10065809,  1.11323704,  1.12581599,\n",
       "        1.13839494,  1.15097389,  1.16355283,  1.17613178,  1.18871073,\n",
       "        1.20128968,  1.21386863,  1.22644758,  1.23902653,  1.25160548,\n",
       "        1.26418443,  1.27676338,  1.28934233,  1.30192128,  1.31450023,\n",
       "        1.32707918,  1.33965813,  1.35223708,  1.36481603,  1.37739498,\n",
       "        1.38997393,  1.40255288,  1.41513183,  1.42771078,  1.44028973,\n",
       "        1.45286867,  1.46544762,  1.47802657,  1.49060552,  1.50318447,\n",
       "        1.51576342,  1.52834237,  1.54092132,  1.55350027,  1.56607922,\n",
       "        1.57865817,  1.59123712,  1.60381607,  1.61639502,  1.62897397,\n",
       "        1.64155292,  1.65413187,  1.66671082,  1.67928977,  1.69186872,\n",
       "        1.70444767,  1.71702662,  1.72960557,  1.74218451,  1.75476346,\n",
       "        1.76734241,  1.77992136,  1.79250031,  1.80507926,  1.81765821,\n",
       "        1.83023716,  1.84281611,  1.85539506,  1.86797401,  1.88055296,\n",
       "        1.89313191,  1.90571086,  1.91828981,  1.93086876,  1.94344771,\n",
       "        1.95602666,  1.96860561,  1.98118456,  1.99376351,  2.00634246,\n",
       "        2.01892141,  2.03150035,  2.0440793 ,  2.05665825,  2.0692372 ,\n",
       "        2.08181615,  2.0943951 ,  2.10697405,  2.119553  ,  2.13213195,\n",
       "        2.1447109 ,  2.15728985,  2.1698688 ,  2.18244775,  2.1950267 ,\n",
       "        2.20760565,  2.2201846 ,  2.23276355,  2.2453425 ,  2.25792145,\n",
       "        2.2705004 ,  2.28307935,  2.2956583 ,  2.30823724,  2.32081619,\n",
       "        2.33339514,  2.34597409,  2.35855304,  2.37113199,  2.38371094,\n",
       "        2.39628989,  2.40886884,  2.42144779,  2.43402674,  2.44660569,\n",
       "        2.45918464,  2.47176359,  2.48434254,  2.49692149,  2.50950044,\n",
       "        2.52207939,  2.53465834,  2.54723729,  2.55981624,  2.57239519,\n",
       "        2.58497414,  2.59755308,  2.61013203,  2.62271098,  2.63528993,\n",
       "        2.64786888,  2.66044783,  2.67302678,  2.68560573,  2.69818468,\n",
       "        2.71076363,  2.72334258,  2.73592153,  2.74850048,  2.76107943,\n",
       "        2.77365838,  2.78623733,  2.79881628,  2.81139523,  2.82397418,\n",
       "        2.83655313,  2.84913208,  2.86171103,  2.87428998,  2.88686892,\n",
       "        2.89944787,  2.91202682,  2.92460577,  2.93718472,  2.94976367,\n",
       "        2.96234262,  2.97492157,  2.98750052,  3.00007947,  3.01265842,\n",
       "        3.02523737,  3.03781632,  3.05039527,  3.06297422,  3.07555317,\n",
       "        3.08813212,  3.10071107,  3.11329002,  3.12586897,  3.13844792,\n",
       "        3.15102687,  3.16360582,  3.17618476,  3.18876371,  3.20134266,\n",
       "        3.21392161,  3.22650056,  3.23907951,  3.25165846,  3.26423741,\n",
       "        3.27681636,  3.28939531,  3.30197426,  3.31455321,  3.32713216,\n",
       "        3.33971111,  3.35229006,  3.36486901,  3.37744796,  3.39002691,\n",
       "        3.40260586,  3.41518481,  3.42776376,  3.44034271,  3.45292166,\n",
       "        3.4655006 ,  3.47807955,  3.4906585 ,  3.50323745,  3.5158164 ,\n",
       "        3.52839535,  3.5409743 ,  3.55355325,  3.5661322 ,  3.57871115,\n",
       "        3.5912901 ,  3.60386905,  3.616448  ,  3.62902695,  3.6416059 ,\n",
       "        3.65418485,  3.6667638 ,  3.67934275,  3.6919217 ,  3.70450065,\n",
       "        3.7170796 ,  3.72965855,  3.7422375 ,  3.75481644,  3.76739539,\n",
       "        3.77997434,  3.79255329,  3.80513224,  3.81771119,  3.83029014,\n",
       "        3.84286909,  3.85544804,  3.86802699,  3.88060594,  3.89318489,\n",
       "        3.90576384,  3.91834279,  3.93092174,  3.94350069,  3.95607964,\n",
       "        3.96865859,  3.98123754,  3.99381649,  4.00639544,  4.01897439,\n",
       "        4.03155334,  4.04413228,  4.05671123,  4.06929018,  4.08186913,\n",
       "        4.09444808,  4.10702703,  4.11960598,  4.13218493,  4.14476388,\n",
       "        4.15734283,  4.16992178,  4.18250073,  4.19507968,  4.20765863,\n",
       "        4.22023758,  4.23281653,  4.24539548,  4.25797443,  4.27055338,\n",
       "        4.28313233,  4.29571128,  4.30829023,  4.32086918,  4.33344812,\n",
       "        4.34602707,  4.35860602,  4.37118497,  4.38376392,  4.39634287,\n",
       "        4.40892182,  4.42150077,  4.43407972,  4.44665867,  4.45923762,\n",
       "        4.47181657,  4.48439552,  4.49697447,  4.50955342,  4.52213237,\n",
       "        4.53471132,  4.54729027,  4.55986922,  4.57244817,  4.58502712,\n",
       "        4.59760607,  4.61018502,  4.62276396,  4.63534291,  4.64792186,\n",
       "        4.66050081,  4.67307976,  4.68565871,  4.69823766,  4.71081661,\n",
       "        4.72339556,  4.73597451,  4.74855346,  4.76113241,  4.77371136,\n",
       "        4.78629031,  4.79886926,  4.81144821,  4.82402716,  4.83660611,\n",
       "        4.84918506,  4.86176401,  4.87434296,  4.88692191,  4.89950086,\n",
       "        4.9120798 ,  4.92465875,  4.9372377 ,  4.94981665,  4.9623956 ,\n",
       "        4.97497455,  4.9875535 ,  5.00013245,  5.0127114 ,  5.02529035,\n",
       "        5.0378693 ,  5.05044825,  5.0630272 ,  5.07560615,  5.0881851 ,\n",
       "        5.10076405,  5.113343  ,  5.12592195,  5.1385009 ,  5.15107985,\n",
       "        5.1636588 ,  5.17623775,  5.1888167 ,  5.20139564,  5.21397459,\n",
       "        5.22655354,  5.23913249,  5.25171144,  5.26429039,  5.27686934,\n",
       "        5.28944829,  5.30202724,  5.31460619,  5.32718514,  5.33976409,\n",
       "        5.35234304,  5.36492199,  5.37750094,  5.39007989,  5.40265884,\n",
       "        5.41523779,  5.42781674,  5.44039569,  5.45297464,  5.46555359,\n",
       "        5.47813254,  5.49071148,  5.50329043,  5.51586938,  5.52844833,\n",
       "        5.54102728,  5.55360623,  5.56618518,  5.57876413,  5.59134308,\n",
       "        5.60392203,  5.61650098,  5.62907993,  5.64165888,  5.65423783,\n",
       "        5.66681678,  5.67939573,  5.69197468,  5.70455363,  5.71713258,\n",
       "        5.72971153,  5.74229048,  5.75486943,  5.76744838,  5.78002732,\n",
       "        5.79260627,  5.80518522,  5.81776417,  5.83034312,  5.84292207,\n",
       "        5.85550102,  5.86807997,  5.88065892,  5.89323787,  5.90581682,\n",
       "        5.91839577,  5.93097472,  5.94355367,  5.95613262,  5.96871157,\n",
       "        5.98129052,  5.99386947,  6.00644842,  6.01902737,  6.03160632,\n",
       "        6.04418527,  6.05676422,  6.06934316,  6.08192211,  6.09450106,\n",
       "        6.10708001,  6.11965896,  6.13223791,  6.14481686,  6.15739581,\n",
       "        6.16997476,  6.18255371,  6.19513266,  6.20771161,  6.22029056,\n",
       "        6.23286951,  6.24544846,  6.25802741,  6.27060636,  6.28318531])"
      ]
     },
     "execution_count": 36,
     "metadata": {},
     "output_type": "execute_result"
    }
   ],
   "source": [
    "x"
   ]
  },
  {
   "cell_type": "code",
   "execution_count": 37,
   "metadata": {},
   "outputs": [],
   "source": [
    "y = np.sin(x)"
   ]
  },
  {
   "cell_type": "code",
   "execution_count": 38,
   "metadata": {},
   "outputs": [
    {
     "data": {
      "text/plain": [
       "True"
      ]
     },
     "execution_count": 38,
     "metadata": {},
     "output_type": "execute_result"
    }
   ],
   "source": [
    "len(x) == len(y)"
   ]
  },
  {
   "cell_type": "code",
   "execution_count": 39,
   "metadata": {},
   "outputs": [
    {
     "data": {
      "text/plain": [
       "[<matplotlib.lines.Line2D at 0x1153a0fd0>]"
      ]
     },
     "execution_count": 39,
     "metadata": {},
     "output_type": "execute_result"
    },
    {
     "data": {
      "image/png": "[encoded data removed]",
      "text/plain": [
       "<Figure size 432x288 with 1 Axes>"
      ]
     },
     "metadata": {
      "needs_background": "light"
     },
     "output_type": "display_data"
    }
   ],
   "source": [
    "plt.plot(x, y)"
   ]
  },
  {
   "cell_type": "code",
   "execution_count": 40,
   "metadata": {},
   "outputs": [
    {
     "data": {
      "text/plain": [
       "<matplotlib.collections.PathCollection at 0x115b69438>"
      ]
     },
     "execution_count": 40,
     "metadata": {},
     "output_type": "execute_result"
    },
    {
     "data": {
      "image/png": "[encoded data removed]",
      "text/plain": [
       "<Figure size 432x288 with 1 Axes>"
      ]
     },
     "metadata": {
      "needs_background": "light"
     },
     "output_type": "display_data"
    }
   ],
   "source": [
    "plt.scatter(x[y>0], y[y>0], c = \"#fe5722\")\n",
    "#前面也是y>0是因為要把y>0為true的相對應的x找出來"
   ]
  },
  {
   "cell_type": "markdown",
   "metadata": {},
   "source": [
    "## 模擬數據集"
   ]
  },
  {
   "cell_type": "code",
   "execution_count": 70,
   "metadata": {},
   "outputs": [],
   "source": [
    "x = np.linspace(0,1,50)\n",
    "y = np.sin(x)"
   ]
  },
  {
   "cell_type": "code",
   "execution_count": 71,
   "metadata": {},
   "outputs": [
    {
     "data": {
      "text/plain": [
       "<matplotlib.collections.PathCollection at 0x113f54400>"
      ]
     },
     "execution_count": 71,
     "metadata": {},
     "output_type": "execute_result"
    },
    {
     "data": {
      "image/png": "[encoded data removed]",
      "text/plain": [
       "<Figure size 432x288 with 1 Axes>"
      ]
     },
     "metadata": {
      "needs_background": "light"
     },
     "output_type": "display_data"
    }
   ],
   "source": [
    "plt.scatter(x,y)"
   ]
  },
  {
   "cell_type": "code",
   "execution_count": 72,
   "metadata": {},
   "outputs": [],
   "source": [
    "noise = 0.1*np.random.randn(50)  #變異數為0.1"
   ]
  },
  {
   "cell_type": "code",
   "execution_count": 73,
   "metadata": {},
   "outputs": [
    {
     "data": {
      "text/plain": [
       "<matplotlib.collections.PathCollection at 0x1140a21d0>"
      ]
     },
     "execution_count": 73,
     "metadata": {},
     "output_type": "execute_result"
    },
    {
     "data": {
      "image/png": "[encoded data removed]",
      "text/plain": [
       "<Figure size 432x288 with 1 Axes>"
      ]
     },
     "metadata": {
      "needs_background": "light"
     },
     "output_type": "display_data"
    }
   ],
   "source": [
    "plt.scatter(x,y+noise)"
   ]
  },
  {
   "cell_type": "markdown",
   "metadata": {},
   "source": [
    "## 分類模擬"
   ]
  },
  {
   "cell_type": "code",
   "execution_count": 42,
   "metadata": {},
   "outputs": [],
   "source": [
    "P = np.random.randn(50,2)"
   ]
  },
  {
   "cell_type": "code",
   "execution_count": 44,
   "metadata": {},
   "outputs": [
    {
     "data": {
      "text/plain": [
       "array([[-0.32072583, -0.46754234],\n",
       "       [-0.87911386,  0.53555388],\n",
       "       [ 1.15598427,  0.09370889],\n",
       "       [-0.10837145,  1.42786882],\n",
       "       [ 1.68083249,  0.22281719],\n",
       "       [ 0.19296224,  0.08311642],\n",
       "       [ 0.35072232, -0.40147836],\n",
       "       [-0.10130447, -0.01320014],\n",
       "       [-0.47827298,  0.82874968],\n",
       "       [-0.29631439, -1.9246028 ],\n",
       "       [ 0.63227323, -0.93308474],\n",
       "       [ 1.20253545,  0.05661005],\n",
       "       [ 0.56486728,  0.13285709],\n",
       "       [-0.23952669,  0.71406161],\n",
       "       [ 0.32828745,  0.39570042],\n",
       "       [ 1.83238812, -0.54000429],\n",
       "       [ 0.62777255,  0.19277913],\n",
       "       [ 3.01386607, -1.12121691],\n",
       "       [ 0.25633459, -0.24994666],\n",
       "       [ 0.09483019, -1.05326259],\n",
       "       [ 0.68442587,  0.0556667 ],\n",
       "       [-0.16257239, -0.01067638],\n",
       "       [-0.18639507,  0.72925954],\n",
       "       [-0.0450096 , -0.30118842],\n",
       "       [ 0.06712311,  0.59933729],\n",
       "       [-1.88985207,  0.20029422],\n",
       "       [-0.14818146,  0.25699327],\n",
       "       [-1.22017625,  0.68432229],\n",
       "       [-0.83617361, -0.91676297],\n",
       "       [-1.45383306,  0.91165019],\n",
       "       [-1.10828963, -0.63645991],\n",
       "       [ 0.31850704, -0.05092248],\n",
       "       [-2.37099813,  0.46929348],\n",
       "       [ 0.20055211, -0.77987652],\n",
       "       [-0.33789603, -0.42016969],\n",
       "       [-0.39756649,  0.55231914],\n",
       "       [-2.26412893,  0.25959399],\n",
       "       [ 1.79745123, -0.05923842],\n",
       "       [-0.20037606, -0.20865436],\n",
       "       [ 1.10544923,  1.49650578],\n",
       "       [-0.30162938, -0.01087082],\n",
       "       [-0.22463581, -2.90184363],\n",
       "       [-1.42082872, -1.29952548],\n",
       "       [-0.77666181,  1.2405567 ],\n",
       "       [ 0.33153314, -0.98728428],\n",
       "       [ 0.11094081, -1.44686885],\n",
       "       [-0.65704   , -1.61076828],\n",
       "       [ 0.48472997,  1.49848172],\n",
       "       [ 1.17814487,  0.94886861],\n",
       "       [ 0.67501349, -1.93302558]])"
      ]
     },
     "execution_count": 44,
     "metadata": {},
     "output_type": "execute_result"
    }
   ],
   "source": [
    "P"
   ]
  },
  {
   "cell_type": "code",
   "execution_count": 77,
   "metadata": {},
   "outputs": [
    {
     "data": {
      "text/plain": [
       "<matplotlib.collections.PathCollection at 0x114176240>"
      ]
     },
     "execution_count": 77,
     "metadata": {},
     "output_type": "execute_result"
    },
    {
     "data": {
      "image/png": "[encoded data removed]",
      "text/plain": [
       "<Figure size 432x288 with 1 Axes>"
      ]
     },
     "metadata": {
      "needs_background": "light"
     },
     "output_type": "display_data"
    }
   ],
   "source": [
    "plt.scatter(P[:,0], P[:,1] )"
   ]
  },
  {
   "cell_type": "code",
   "execution_count": 78,
   "metadata": {},
   "outputs": [],
   "source": [
    "cl = np.random.randint(1, 5, 50) "
   ]
  },
  {
   "cell_type": "code",
   "execution_count": 79,
   "metadata": {},
   "outputs": [
    {
     "data": {
      "text/plain": [
       "array([2, 3, 2, 4, 1, 1, 2, 1, 3, 2, 4, 2, 2, 3, 1, 2, 4, 2, 1, 1, 1, 1,\n",
       "       1, 2, 2, 4, 2, 4, 3, 3, 3, 4, 3, 1, 2, 2, 4, 3, 2, 1, 2, 2, 2, 3,\n",
       "       1, 3, 3, 2, 2, 4])"
      ]
     },
     "execution_count": 79,
     "metadata": {},
     "output_type": "execute_result"
    }
   ],
   "source": [
    "cl"
   ]
  },
  {
   "cell_type": "code",
   "execution_count": 84,
   "metadata": {},
   "outputs": [
    {
     "data": {
      "text/plain": [
       "<matplotlib.collections.PathCollection at 0x1144cecc0>"
      ]
     },
     "execution_count": 84,
     "metadata": {},
     "output_type": "execute_result"
    },
    {
     "data": {
      "image/png": "[encoded data removed]",
      "text/plain": [
       "<Figure size 432x288 with 1 Axes>"
      ]
     },
     "metadata": {
      "needs_background": "light"
     },
     "output_type": "display_data"
    }
   ],
   "source": [
    "plt.scatter(P[:,0], P[:,1], c=cl, s=50, alpha=0.5, cmap= \"Accent\") #alpha是透明度 "
   ]
  },
  {
   "cell_type": "markdown",
   "metadata": {},
   "source": [
    "## SymPy"
   ]
  },
  {
   "cell_type": "code",
   "execution_count": 46,
   "metadata": {},
   "outputs": [
    {
     "data": {
      "text/plain": [
       "0.8333333333333333"
      ]
     },
     "execution_count": 46,
     "metadata": {},
     "output_type": "execute_result"
    }
   ],
   "source": [
    "1/2+1/3"
   ]
  },
  {
   "cell_type": "code",
   "execution_count": 47,
   "metadata": {},
   "outputs": [],
   "source": [
    "import sympy as sp"
   ]
  },
  {
   "cell_type": "code",
   "execution_count": 48,
   "metadata": {},
   "outputs": [
    {
     "data": {
      "text/plain": [
       "0.8333333333333333"
      ]
     },
     "execution_count": 48,
     "metadata": {},
     "output_type": "execute_result"
    }
   ],
   "source": [
    "1/2 + 1/3"
   ]
  },
  {
   "cell_type": "code",
   "execution_count": 49,
   "metadata": {
    "scrolled": true
   },
   "outputs": [
    {
     "data": {
      "text/latex": [
       "$\\displaystyle \\frac{5}{6}$"
      ],
      "text/plain": [
       "5/6"
      ]
     },
     "execution_count": 49,
     "metadata": {},
     "output_type": "execute_result"
    }
   ],
   "source": [
    "sp.Rational(1,2) + sp.Rational(1,3)"
   ]
  },
  {
   "cell_type": "code",
   "execution_count": 52,
   "metadata": {},
   "outputs": [],
   "source": [
    "a = sp.S(2)/5+sp.S(1)/5"
   ]
  },
  {
   "cell_type": "code",
   "execution_count": 53,
   "metadata": {},
   "outputs": [
    {
     "data": {
      "text/latex": [
       "$\\displaystyle \\frac{3}{5}$"
      ],
      "text/plain": [
       "3/5"
      ]
     },
     "execution_count": 53,
     "metadata": {},
     "output_type": "execute_result"
    }
   ],
   "source": [
    "a"
   ]
  },
  {
   "cell_type": "code",
   "execution_count": 54,
   "metadata": {},
   "outputs": [
    {
     "data": {
      "text/latex": [
       "$\\displaystyle \\frac{5}{6}$"
      ],
      "text/plain": [
       "5/6"
      ]
     },
     "execution_count": 54,
     "metadata": {},
     "output_type": "execute_result"
    }
   ],
   "source": [
    "sp.sympify(1)/2 + sp.sympify(1)/3"
   ]
  },
  {
   "cell_type": "code",
   "execution_count": 55,
   "metadata": {},
   "outputs": [
    {
     "data": {
      "text/latex": [
       "$\\displaystyle \\frac{5}{6}$"
      ],
      "text/plain": [
       "5/6"
      ]
     },
     "execution_count": 55,
     "metadata": {},
     "output_type": "execute_result"
    }
   ],
   "source": [
    "sp.S(1)/2 + sp.S(1)/3"
   ]
  },
  {
   "cell_type": "code",
   "execution_count": 56,
   "metadata": {},
   "outputs": [],
   "source": [
    "from sympy import S"
   ]
  },
  {
   "cell_type": "code",
   "execution_count": 57,
   "metadata": {},
   "outputs": [
    {
     "data": {
      "text/latex": [
       "$\\displaystyle \\frac{5}{6}$"
      ],
      "text/plain": [
       "5/6"
      ]
     },
     "execution_count": 57,
     "metadata": {},
     "output_type": "execute_result"
    }
   ],
   "source": [
    "S(1)/2+ S(1)/3"
   ]
  },
  {
   "cell_type": "code",
   "execution_count": 58,
   "metadata": {},
   "outputs": [
    {
     "data": {
      "text/latex": [
       "$\\displaystyle \\sqrt{3}$"
      ],
      "text/plain": [
       "sqrt(3)"
      ]
     },
     "execution_count": 58,
     "metadata": {},
     "output_type": "execute_result"
    }
   ],
   "source": [
    "sp.sqrt(3)"
   ]
  },
  {
   "cell_type": "code",
   "execution_count": 97,
   "metadata": {},
   "outputs": [
    {
     "data": {
      "image/png": "[encoded data removed]",
      "text/latex": [
       "$\\displaystyle \\pi$"
      ],
      "text/plain": [
       "π"
      ]
     },
     "execution_count": 97,
     "metadata": {},
     "output_type": "execute_result"
    }
   ],
   "source": [
    "sp.pi"
   ]
  },
  {
   "cell_type": "markdown",
   "metadata": {},
   "source": [
    "## 指定變數"
   ]
  },
  {
   "cell_type": "code",
   "execution_count": 61,
   "metadata": {},
   "outputs": [],
   "source": [
    "x = sp.symbols(\"x\")"
   ]
  },
  {
   "cell_type": "code",
   "execution_count": 62,
   "metadata": {},
   "outputs": [
    {
     "data": {
      "text/latex": [
       "$\\displaystyle x$"
      ],
      "text/plain": [
       "x"
      ]
     },
     "execution_count": 62,
     "metadata": {},
     "output_type": "execute_result"
    }
   ],
   "source": [
    "x"
   ]
  },
  {
   "cell_type": "code",
   "execution_count": 63,
   "metadata": {},
   "outputs": [
    {
     "data": {
      "text/latex": [
       "$\\displaystyle x^{2}$"
      ],
      "text/plain": [
       "x**2"
      ]
     },
     "execution_count": 63,
     "metadata": {},
     "output_type": "execute_result"
    }
   ],
   "source": [
    "x**2"
   ]
  },
  {
   "cell_type": "code",
   "execution_count": 64,
   "metadata": {},
   "outputs": [],
   "source": [
    "x = sp.symbols(r\"\\xi\")"
   ]
  },
  {
   "cell_type": "code",
   "execution_count": 65,
   "metadata": {},
   "outputs": [
    {
     "data": {
      "text/latex": [
       "$\\displaystyle \\xi$"
      ],
      "text/plain": [
       "\\xi"
      ]
     },
     "execution_count": 65,
     "metadata": {},
     "output_type": "execute_result"
    }
   ],
   "source": [
    "x"
   ]
  },
  {
   "cell_type": "code",
   "execution_count": 75,
   "metadata": {},
   "outputs": [],
   "source": [
    "from sympy.abc import x, y"
   ]
  },
  {
   "cell_type": "code",
   "execution_count": 76,
   "metadata": {},
   "outputs": [
    {
     "data": {
      "text/plain": [
       "(x, y)"
      ]
     },
     "execution_count": 76,
     "metadata": {},
     "output_type": "execute_result"
    }
   ],
   "source": [
    "x, y"
   ]
  },
  {
   "cell_type": "code",
   "execution_count": 77,
   "metadata": {},
   "outputs": [],
   "source": [
    "f = x**2 - 3*x +5"
   ]
  },
  {
   "cell_type": "code",
   "execution_count": 92,
   "metadata": {},
   "outputs": [],
   "source": [
    "a = x**3 - 5*x+2"
   ]
  },
  {
   "cell_type": "code",
   "execution_count": 93,
   "metadata": {},
   "outputs": [
    {
     "data": {
      "text/latex": [
       "$\\displaystyle x^{3} - 5 x + 2$"
      ],
      "text/plain": [
       "x**3 - 5*x + 2"
      ]
     },
     "execution_count": 93,
     "metadata": {},
     "output_type": "execute_result"
    }
   ],
   "source": [
    "a"
   ]
  },
  {
   "cell_type": "code",
   "execution_count": 94,
   "metadata": {},
   "outputs": [
    {
     "data": {
      "text/latex": [
       "$\\displaystyle -2$"
      ],
      "text/plain": [
       "-2"
      ]
     },
     "execution_count": 94,
     "metadata": {},
     "output_type": "execute_result"
    }
   ],
   "source": [
    "a.subs(x,1)"
   ]
  },
  {
   "cell_type": "code",
   "execution_count": 90,
   "metadata": {},
   "outputs": [
    {
     "data": {
      "image/png": "[encoded data removed]",
      "text/plain": [
       "<Figure size 432x288 with 1 Axes>"
      ]
     },
     "metadata": {
      "needs_background": "light"
     },
     "output_type": "display_data"
    },
    {
     "data": {
      "text/plain": [
       "<sympy.plotting.plot.Plot at 0x1172aa748>"
      ]
     },
     "execution_count": 90,
     "metadata": {},
     "output_type": "execute_result"
    }
   ],
   "source": [
    "sp.plot(a)"
   ]
  },
  {
   "cell_type": "code",
   "execution_count": 81,
   "metadata": {},
   "outputs": [
    {
     "data": {
      "text/latex": [
       "$\\displaystyle x^{2} - 3 x + 5$"
      ],
      "text/plain": [
       "x**2 - 3*x + 5"
      ]
     },
     "execution_count": 81,
     "metadata": {},
     "output_type": "execute_result"
    }
   ],
   "source": [
    "f"
   ]
  },
  {
   "cell_type": "code",
   "execution_count": 82,
   "metadata": {},
   "outputs": [
    {
     "data": {
      "image/png": "[encoded data removed]",
      "text/plain": [
       "<Figure size 432x288 with 1 Axes>"
      ]
     },
     "metadata": {
      "needs_background": "light"
     },
     "output_type": "display_data"
    },
    {
     "data": {
      "text/plain": [
       "<sympy.plotting.plot.Plot at 0x1171dcba8>"
      ]
     },
     "execution_count": 82,
     "metadata": {},
     "output_type": "execute_result"
    }
   ],
   "source": [
    "sp.plot(f)"
   ]
  },
  {
   "cell_type": "code",
   "execution_count": 109,
   "metadata": {},
   "outputs": [
    {
     "data": {
      "image/png": "[encoded data removed]",
      "text/latex": [
       "$\\displaystyle 2 x - 3$"
      ],
      "text/plain": [
       "2⋅x - 3"
      ]
     },
     "execution_count": 109,
     "metadata": {},
     "output_type": "execute_result"
    }
   ],
   "source": [
    "sp.diff(f)"
   ]
  },
  {
   "cell_type": "code",
   "execution_count": 110,
   "metadata": {},
   "outputs": [
    {
     "data": {
      "image/png": "[encoded data removed]",
      "text/latex": [
       "$\\displaystyle \\frac{x^{3}}{3} - \\frac{3 x^{2}}{2} + 5 x$"
      ],
      "text/plain": [
       " 3      2      \n",
       "x    3⋅x       \n",
       "── - ──── + 5⋅x\n",
       "3     2        "
      ]
     },
     "execution_count": 110,
     "metadata": {},
     "output_type": "execute_result"
    }
   ],
   "source": [
    "sp.integrate(f)"
   ]
  },
  {
   "cell_type": "code",
   "execution_count": 111,
   "metadata": {},
   "outputs": [
    {
     "data": {
      "image/png": "[encoded data removed]",
      "text/latex": [
       "$\\displaystyle 3$"
      ],
      "text/plain": [
       "3"
      ]
     },
     "execution_count": 111,
     "metadata": {},
     "output_type": "execute_result"
    }
   ],
   "source": [
    "f.subs(x,2)"
   ]
  },
  {
   "cell_type": "code",
   "execution_count": 112,
   "metadata": {},
   "outputs": [],
   "source": [
    "from sympy.abc import y"
   ]
  },
  {
   "cell_type": "code",
   "execution_count": 83,
   "metadata": {},
   "outputs": [],
   "source": [
    "g = 3*x*y + 2*x - 5*y**2"
   ]
  },
  {
   "cell_type": "code",
   "execution_count": 84,
   "metadata": {},
   "outputs": [
    {
     "data": {
      "text/latex": [
       "$\\displaystyle 3 x y + 2 x - 5 y^{2}$"
      ],
      "text/plain": [
       "3*x*y + 2*x - 5*y**2"
      ]
     },
     "execution_count": 84,
     "metadata": {},
     "output_type": "execute_result"
    }
   ],
   "source": [
    "g"
   ]
  },
  {
   "cell_type": "code",
   "execution_count": 115,
   "metadata": {},
   "outputs": [
    {
     "data": {
      "image/png": "[encoded data removed]",
      "text/latex": [
       "$\\displaystyle 3 y + 2$"
      ],
      "text/plain": [
       "3⋅y + 2"
      ]
     },
     "execution_count": 115,
     "metadata": {},
     "output_type": "execute_result"
    }
   ],
   "source": [
    "sp.diff(g, x) #對x微分"
   ]
  },
  {
   "cell_type": "code",
   "execution_count": 116,
   "metadata": {},
   "outputs": [
    {
     "data": {
      "image/png": "[encoded data removed]",
      "text/latex": [
       "$\\displaystyle x^{2} \\left(\\frac{3 y}{2} + 1\\right) - 5 x y^{2}$"
      ],
      "text/plain": [
       " 2 ⎛3⋅y    ⎞        2\n",
       "x ⋅⎜─── + 1⎟ - 5⋅x⋅y \n",
       "   ⎝ 2     ⎠         "
      ]
     },
     "execution_count": 116,
     "metadata": {},
     "output_type": "execute_result"
    }
   ],
   "source": [
    "sp.integrate(g,x)"
   ]
  },
  {
   "cell_type": "markdown",
   "metadata": {},
   "source": [
    "### 微分"
   ]
  },
  {
   "cell_type": "code",
   "execution_count": 117,
   "metadata": {},
   "outputs": [
    {
     "data": {
      "image/png": "[encoded data removed]",
      "text/latex": [
       "$\\displaystyle \\frac{1}{x}$"
      ],
      "text/plain": [
       "1\n",
       "─\n",
       "x"
      ]
     },
     "execution_count": 117,
     "metadata": {},
     "output_type": "execute_result"
    }
   ],
   "source": [
    "sp.diff(sp.log(x), x)"
   ]
  },
  {
   "cell_type": "code",
   "execution_count": 118,
   "metadata": {},
   "outputs": [
    {
     "data": {
      "image/png": "[encoded data removed]",
      "text/latex": [
       "$\\displaystyle \\cos{\\left(x \\right)}$"
      ],
      "text/plain": [
       "cos(x)"
      ]
     },
     "execution_count": 118,
     "metadata": {},
     "output_type": "execute_result"
    }
   ],
   "source": [
    "sp.diff(sp.sin(x))"
   ]
  },
  {
   "cell_type": "code",
   "execution_count": 120,
   "metadata": {},
   "outputs": [
    {
     "data": {
      "image/png": "[encoded data removed]",
      "text/latex": [
       "$\\displaystyle - \\sin{\\left(x \\right)}$"
      ],
      "text/plain": [
       "-sin(x)"
      ]
     },
     "execution_count": 120,
     "metadata": {},
     "output_type": "execute_result"
    }
   ],
   "source": [
    "sp.diff(sp.cos(x))"
   ]
  },
  {
   "cell_type": "markdown",
   "metadata": {},
   "source": [
    "### 積分"
   ]
  },
  {
   "cell_type": "code",
   "execution_count": 121,
   "metadata": {},
   "outputs": [
    {
     "data": {
      "image/png": "[encoded data removed]",
      "text/latex": [
       "$\\displaystyle x \\log{\\left(x \\right)} - x$"
      ],
      "text/plain": [
       "x⋅log(x) - x"
      ]
     },
     "execution_count": 121,
     "metadata": {},
     "output_type": "execute_result"
    }
   ],
   "source": [
    "sp.integrate(sp.log(x))"
   ]
  },
  {
   "cell_type": "code",
   "execution_count": 122,
   "metadata": {},
   "outputs": [
    {
     "data": {
      "image/png": "[encoded data removed]",
      "text/latex": [
       "$\\displaystyle -4 + 5 \\log{\\left(5 \\right)}$"
      ],
      "text/plain": [
       "-4 + 5⋅log(5)"
      ]
     },
     "execution_count": 122,
     "metadata": {},
     "output_type": "execute_result"
    }
   ],
   "source": [
    "sp.integrate(sp.log(x), (x, 1, 5))"
   ]
  },
  {
   "cell_type": "markdown",
   "metadata": {},
   "source": [
    "### 極限"
   ]
  },
  {
   "cell_type": "code",
   "execution_count": 124,
   "metadata": {},
   "outputs": [
    {
     "data": {
      "image/png": "[encoded data removed]",
      "text/latex": [
       "$\\displaystyle 1$"
      ],
      "text/plain": [
       "1"
      ]
     },
     "execution_count": 124,
     "metadata": {},
     "output_type": "execute_result"
    }
   ],
   "source": [
    "sp.limit(sp.sin(x)/x, x, 0)"
   ]
  },
  {
   "cell_type": "markdown",
   "metadata": {},
   "source": [
    "### 矩陣"
   ]
  },
  {
   "cell_type": "code",
   "execution_count": 126,
   "metadata": {},
   "outputs": [],
   "source": [
    "A = sp.Matrix([[1,2,3], [4,5,6], [7,8,9]])"
   ]
  },
  {
   "cell_type": "code",
   "execution_count": 127,
   "metadata": {},
   "outputs": [
    {
     "data": {
      "text/latex": [
       "$\\displaystyle \\left[\\begin{matrix}1 & 2 & 3\\\\4 & 5 & 6\\\\7 & 8 & 9\\end{matrix}\\right]$"
      ],
      "text/plain": [
       "⎡1  2  3⎤\n",
       "⎢       ⎥\n",
       "⎢4  5  6⎥\n",
       "⎢       ⎥\n",
       "⎣7  8  9⎦"
      ]
     },
     "execution_count": 127,
     "metadata": {},
     "output_type": "execute_result"
    }
   ],
   "source": [
    "A"
   ]
  },
  {
   "cell_type": "code",
   "execution_count": 95,
   "metadata": {},
   "outputs": [],
   "source": [
    "B = sp.Matrix([[2,5,6], [3,7,8], [4,6,9]])"
   ]
  },
  {
   "cell_type": "code",
   "execution_count": 98,
   "metadata": {},
   "outputs": [
    {
     "data": {
      "text/latex": [
       "$\\displaystyle \\left[\\begin{matrix}2 & 5 & 6\\\\3 & 7 & 8\\\\4 & 6 & 9\\end{matrix}\\right]$"
      ],
      "text/plain": [
       "Matrix([\n",
       "[2, 5, 6],\n",
       "[3, 7, 8],\n",
       "[4, 6, 9]])"
      ]
     },
     "execution_count": 98,
     "metadata": {},
     "output_type": "execute_result"
    }
   ],
   "source": [
    "B"
   ]
  },
  {
   "cell_type": "code",
   "execution_count": 97,
   "metadata": {},
   "outputs": [
    {
     "data": {
      "text/latex": [
       "$\\displaystyle \\left[\\begin{matrix}20 & 37 & 49\\\\47 & 91 & 118\\end{matrix}\\right]$"
      ],
      "text/plain": [
       "Matrix([\n",
       "[20, 37,  49],\n",
       "[47, 91, 118]])"
      ]
     },
     "execution_count": 97,
     "metadata": {},
     "output_type": "execute_result"
    }
   ],
   "source": [
    "A@B"
   ]
  },
  {
   "cell_type": "code",
   "execution_count": 128,
   "metadata": {},
   "outputs": [
    {
     "data": {
      "text/latex": [
       "$\\displaystyle \\left( \\left[\\begin{matrix}1 & 0 & -1\\\\0 & 1 & 2\\\\0 & 0 & 0\\end{matrix}\\right], \\  \\left( 0, \\  1\\right)\\right)$"
      ],
      "text/plain": [
       "⎛⎡1  0  -1⎤        ⎞\n",
       "⎜⎢        ⎥        ⎟\n",
       "⎜⎢0  1  2 ⎥, (0, 1)⎟\n",
       "⎜⎢        ⎥        ⎟\n",
       "⎝⎣0  0  0 ⎦        ⎠"
      ]
     },
     "execution_count": 128,
     "metadata": {},
     "output_type": "execute_result"
    }
   ],
   "source": [
    "A.rref()"
   ]
  },
  {
   "cell_type": "code",
   "execution_count": 132,
   "metadata": {},
   "outputs": [
    {
     "data": {
      "image/png": "[encoded data removed]",
      "text/latex": [
       "$\\displaystyle 0$"
      ],
      "text/plain": [
       "0"
      ]
     },
     "execution_count": 132,
     "metadata": {},
     "output_type": "execute_result"
    }
   ],
   "source": [
    "A.det()"
   ]
  },
  {
   "cell_type": "code",
   "execution_count": 134,
   "metadata": {},
   "outputs": [
    {
     "data": {
      "image/png": "[encoded data removed]",
      "text/latex": [
       "$\\displaystyle x^{2} - 3 x + 5$"
      ],
      "text/plain": [
       " 2          \n",
       "x  - 3⋅x + 5"
      ]
     },
     "execution_count": 134,
     "metadata": {},
     "output_type": "execute_result"
    }
   ],
   "source": [
    "f"
   ]
  },
  {
   "cell_type": "code",
   "execution_count": 136,
   "metadata": {},
   "outputs": [],
   "source": [
    "g = -x**2"
   ]
  },
  {
   "cell_type": "code",
   "execution_count": 138,
   "metadata": {},
   "outputs": [
    {
     "data": {
      "image/png": "[encoded data removed]",
      "text/latex": [
       "$\\displaystyle - x^{2}$"
      ],
      "text/plain": [
       "  2\n",
       "-x "
      ]
     },
     "execution_count": 138,
     "metadata": {},
     "output_type": "execute_result"
    }
   ],
   "source": [
    "g"
   ]
  },
  {
   "cell_type": "code",
   "execution_count": 137,
   "metadata": {},
   "outputs": [
    {
     "data": {
      "image/png": "[encoded data removed]",
      "text/plain": [
       "<Figure size 432x288 with 1 Axes>"
      ]
     },
     "metadata": {
      "needs_background": "light"
     },
     "output_type": "display_data"
    },
    {
     "data": {
      "text/plain": [
       "<sympy.plotting.plot.Plot at 0x123cd73c8>"
      ]
     },
     "execution_count": 137,
     "metadata": {},
     "output_type": "execute_result"
    }
   ],
   "source": [
    "sp.plot(f,g)"
   ]
  },
  {
   "cell_type": "code",
   "execution_count": 139,
   "metadata": {},
   "outputs": [],
   "source": [
    "a = 7"
   ]
  },
  {
   "cell_type": "code",
   "execution_count": 140,
   "metadata": {},
   "outputs": [
    {
     "data": {
      "text/plain": [
       "True"
      ]
     },
     "execution_count": 140,
     "metadata": {},
     "output_type": "execute_result"
    }
   ],
   "source": [
    "sp.isprime(a) #測試是否為質數"
   ]
  },
  {
   "cell_type": "code",
   "execution_count": 141,
   "metadata": {},
   "outputs": [
    {
     "data": {
      "text/plain": [
       "False"
      ]
     },
     "execution_count": 141,
     "metadata": {},
     "output_type": "execute_result"
    }
   ],
   "source": [
    "sp.isprime(123)"
   ]
  },
  {
   "cell_type": "code",
   "execution_count": 143,
   "metadata": {},
   "outputs": [
    {
     "data": {
      "image/png": "[encoded data removed]",
      "text/latex": [
       "$\\displaystyle 2$"
      ],
      "text/plain": [
       "2"
      ]
     },
     "execution_count": 143,
     "metadata": {},
     "output_type": "execute_result"
    }
   ],
   "source": [
    "sp.prime(1)"
   ]
  },
  {
   "cell_type": "code",
   "execution_count": 144,
   "metadata": {},
   "outputs": [
    {
     "data": {
      "image/png": "[encoded data removed]",
      "text/latex": [
       "$\\displaystyle 3$"
      ],
      "text/plain": [
       "3"
      ]
     },
     "execution_count": 144,
     "metadata": {},
     "output_type": "execute_result"
    }
   ],
   "source": [
    "sp.prime(2)"
   ]
  },
  {
   "cell_type": "code",
   "execution_count": 145,
   "metadata": {},
   "outputs": [
    {
     "data": {
      "image/png": "[encoded data removed]",
      "text/latex": [
       "$\\displaystyle 7$"
      ],
      "text/plain": [
       "7"
      ]
     },
     "execution_count": 145,
     "metadata": {},
     "output_type": "execute_result"
    }
   ],
   "source": [
    "sp.prime(4)"
   ]
  },
  {
   "cell_type": "code",
   "execution_count": 146,
   "metadata": {},
   "outputs": [
    {
     "data": {
      "image/png": "[encoded data removed]",
      "text/latex": [
       "$\\displaystyle 98849$"
      ],
      "text/plain": [
       "98849"
      ]
     },
     "execution_count": 146,
     "metadata": {},
     "output_type": "execute_result"
    }
   ],
   "source": [
    "sp.prime(9487)"
   ]
  },
  {
   "cell_type": "code",
   "execution_count": 148,
   "metadata": {},
   "outputs": [
    {
     "data": {
      "text/plain": [
       "True"
      ]
     },
     "execution_count": 148,
     "metadata": {},
     "output_type": "execute_result"
    }
   ],
   "source": [
    "sp.isprime(98849)"
   ]
  },
  {
   "cell_type": "code",
   "execution_count": null,
   "metadata": {},
   "outputs": [
    {
     "name": "stdout",
     "output_type": "stream",
     "text": [
      "(3, 5) 是孿生質數\n",
      "(5, 7) 是孿生質數\n",
      "(11, 13) 是孿生質數\n",
      "(17, 19) 是孿生質數\n",
      "(29, 31) 是孿生質數\n",
      "(41, 43) 是孿生質數\n",
      "(59, 61) 是孿生質數\n",
      "(71, 73) 是孿生質數\n",
      "(101, 103) 是孿生質數\n",
      "(107, 109) 是孿生質數\n",
      "(137, 139) 是孿生質數\n",
      "(149, 151) 是孿生質數\n",
      "(179, 181) 是孿生質數\n",
      "(191, 193) 是孿生質數\n",
      "(197, 199) 是孿生質數\n",
      "(227, 229) 是孿生質數\n",
      "(239, 241) 是孿生質數\n",
      "(269, 271) 是孿生質數\n",
      "(281, 283) 是孿生質數\n",
      "(311, 313) 是孿生質數\n",
      "(347, 349) 是孿生質數\n",
      "(419, 421) 是孿生質數\n",
      "(431, 433) 是孿生質數\n",
      "(461, 463) 是孿生質數\n",
      "(521, 523) 是孿生質數\n",
      "(569, 571) 是孿生質數\n",
      "(599, 601) 是孿生質數\n",
      "(617, 619) 是孿生質數\n",
      "(641, 643) 是孿生質數\n",
      "(659, 661) 是孿生質數\n",
      "(809, 811) 是孿生質數\n",
      "(821, 823) 是孿生質數\n",
      "(827, 829) 是孿生質數\n",
      "(857, 859) 是孿生質數\n",
      "(881, 883) 是孿生質數\n",
      "(1019, 1021) 是孿生質數\n",
      "(1031, 1033) 是孿生質數\n",
      "(1049, 1051) 是孿生質數\n",
      "(1061, 1063) 是孿生質數\n",
      "(1091, 1093) 是孿生質數\n",
      "(1151, 1153) 是孿生質數\n",
      "(1229, 1231) 是孿生質數\n",
      "(1277, 1279) 是孿生質數\n",
      "(1289, 1291) 是孿生質數\n",
      "(1301, 1303) 是孿生質數\n",
      "(1319, 1321) 是孿生質數\n",
      "(1427, 1429) 是孿生質數\n",
      "(1451, 1453) 是孿生質數\n",
      "(1481, 1483) 是孿生質數\n",
      "(1487, 1489) 是孿生質數\n",
      "(1607, 1609) 是孿生質數\n",
      "(1619, 1621) 是孿生質數\n",
      "(1667, 1669) 是孿生質數\n",
      "(1697, 1699) 是孿生質數\n",
      "(1721, 1723) 是孿生質數\n",
      "(1787, 1789) 是孿生質數\n",
      "(1871, 1873) 是孿生質數\n",
      "(1877, 1879) 是孿生質數\n",
      "(1931, 1933) 是孿生質數\n",
      "(1949, 1951) 是孿生質數\n",
      "(1997, 1999) 是孿生質數\n",
      "(2027, 2029) 是孿生質數\n",
      "(2081, 2083) 是孿生質數\n",
      "(2087, 2089) 是孿生質數\n",
      "(2111, 2113) 是孿生質數\n",
      "(2129, 2131) 是孿生質數\n",
      "(2141, 2143) 是孿生質數\n",
      "(2237, 2239) 是孿生質數\n",
      "(2267, 2269) 是孿生質數\n",
      "(2309, 2311) 是孿生質數\n",
      "(2339, 2341) 是孿生質數\n",
      "(2381, 2383) 是孿生質數\n",
      "(2549, 2551) 是孿生質數\n",
      "(2591, 2593) 是孿生質數\n",
      "(2657, 2659) 是孿生質數\n",
      "(2687, 2689) 是孿生質數\n",
      "(2711, 2713) 是孿生質數\n",
      "(2729, 2731) 是孿生質數\n",
      "(2789, 2791) 是孿生質數\n",
      "(2801, 2803) 是孿生質數\n",
      "(2969, 2971) 是孿生質數\n",
      "(2999, 3001) 是孿生質數\n",
      "(3119, 3121) 是孿生質數\n",
      "(3167, 3169) 是孿生質數\n",
      "(3251, 3253) 是孿生質數\n",
      "(3257, 3259) 是孿生質數\n",
      "(3299, 3301) 是孿生質數\n",
      "(3329, 3331) 是孿生質數\n",
      "(3359, 3361) 是孿生質數\n",
      "(3371, 3373) 是孿生質數\n",
      "(3389, 3391) 是孿生質數\n",
      "(3461, 3463) 是孿生質數\n",
      "(3467, 3469) 是孿生質數\n",
      "(3527, 3529) 是孿生質數\n",
      "(3539, 3541) 是孿生質數\n",
      "(3557, 3559) 是孿生質數\n",
      "(3581, 3583) 是孿生質數\n",
      "(3671, 3673) 是孿生質數\n",
      "(3767, 3769) 是孿生質數\n",
      "(3821, 3823) 是孿生質數\n",
      "(3851, 3853) 是孿生質數\n",
      "(3917, 3919) 是孿生質數\n",
      "(3929, 3931) 是孿生質數\n",
      "(4001, 4003) 是孿生質數\n",
      "(4019, 4021) 是孿生質數\n",
      "(4049, 4051) 是孿生質數\n",
      "(4091, 4093) 是孿生質數\n",
      "(4127, 4129) 是孿生質數\n",
      "(4157, 4159) 是孿生質數\n",
      "(4217, 4219) 是孿生質數\n",
      "(4229, 4231) 是孿生質數\n",
      "(4241, 4243) 是孿生質數\n",
      "(4259, 4261) 是孿生質數\n",
      "(4271, 4273) 是孿生質數\n",
      "(4337, 4339) 是孿生質數\n",
      "(4421, 4423) 是孿生質數\n",
      "(4481, 4483) 是孿生質數\n",
      "(4517, 4519) 是孿生質數\n",
      "(4547, 4549) 是孿生質數\n",
      "(4637, 4639) 是孿生質數\n",
      "(4649, 4651) 是孿生質數\n",
      "(4721, 4723) 是孿生質數\n",
      "(4787, 4789) 是孿生質數\n",
      "(4799, 4801) 是孿生質數\n",
      "(4931, 4933) 是孿生質數\n",
      "(4967, 4969) 是孿生質數\n",
      "(5009, 5011) 是孿生質數\n",
      "(5021, 5023) 是孿生質數\n",
      "(5099, 5101) 是孿生質數\n",
      "(5231, 5233) 是孿生質數\n",
      "(5279, 5281) 是孿生質數\n",
      "(5417, 5419) 是孿生質數\n",
      "(5441, 5443) 是孿生質數\n",
      "(5477, 5479) 是孿生質數\n",
      "(5501, 5503) 是孿生質數\n",
      "(5519, 5521) 是孿生質數\n",
      "(5639, 5641) 是孿生質數\n",
      "(5651, 5653) 是孿生質數\n",
      "(5657, 5659) 是孿生質數\n",
      "(5741, 5743) 是孿生質數\n",
      "(5849, 5851) 是孿生質數\n",
      "(5867, 5869) 是孿生質數\n",
      "(5879, 5881) 是孿生質數\n",
      "(6089, 6091) 是孿生質數\n",
      "(6131, 6133) 是孿生質數\n",
      "(6197, 6199) 是孿生質數\n",
      "(6269, 6271) 是孿生質數\n",
      "(6299, 6301) 是孿生質數\n",
      "(6359, 6361) 是孿生質數\n",
      "(6449, 6451) 是孿生質數\n",
      "(6551, 6553) 是孿生質數\n",
      "(6569, 6571) 是孿生質數\n",
      "(6659, 6661) 是孿生質數\n",
      "(6689, 6691) 是孿生質數\n",
      "(6701, 6703) 是孿生質數\n",
      "(6761, 6763) 是孿生質數\n",
      "(6779, 6781) 是孿生質數\n",
      "(6791, 6793) 是孿生質數\n",
      "(6827, 6829) 是孿生質數\n",
      "(6869, 6871) 是孿生質數\n",
      "(6947, 6949) 是孿生質數\n",
      "(6959, 6961) 是孿生質數\n",
      "(7127, 7129) 是孿生質數\n",
      "(7211, 7213) 是孿生質數\n",
      "(7307, 7309) 是孿生質數\n",
      "(7331, 7333) 是孿生質數\n",
      "(7349, 7351) 是孿生質數\n",
      "(7457, 7459) 是孿生質數\n",
      "(7487, 7489) 是孿生質數\n",
      "(7547, 7549) 是孿生質數\n",
      "(7559, 7561) 是孿生質數\n",
      "(7589, 7591) 是孿生質數\n",
      "(7757, 7759) 是孿生質數\n",
      "(7877, 7879) 是孿生質數\n",
      "(7949, 7951) 是孿生質數\n",
      "(8009, 8011) 是孿生質數\n",
      "(8087, 8089) 是孿生質數\n",
      "(8219, 8221) 是孿生質數\n",
      "(8231, 8233) 是孿生質數\n",
      "(8291, 8293) 是孿生質數\n",
      "(8387, 8389) 是孿生質數\n",
      "(8429, 8431) 是孿生質數\n",
      "(8537, 8539) 是孿生質數\n",
      "(8597, 8599) 是孿生質數\n",
      "(8627, 8629) 是孿生質數\n",
      "(8819, 8821) 是孿生質數\n",
      "(8837, 8839) 是孿生質數\n",
      "(8861, 8863) 是孿生質數\n",
      "(8969, 8971) 是孿生質數\n",
      "(8999, 9001) 是孿生質數\n",
      "(9011, 9013) 是孿生質數\n",
      "(9041, 9043) 是孿生質數\n",
      "(9239, 9241) 是孿生質數\n",
      "(9281, 9283) 是孿生質數\n",
      "(9341, 9343) 是孿生質數\n",
      "(9419, 9421) 是孿生質數\n",
      "(9431, 9433) 是孿生質數\n",
      "(9437, 9439) 是孿生質數\n",
      "(9461, 9463) 是孿生質數\n",
      "(9629, 9631) 是孿生質數\n",
      "(9677, 9679) 是孿生質數\n",
      "(9719, 9721) 是孿生質數\n",
      "(9767, 9769) 是孿生質數\n",
      "(9857, 9859) 是孿生質數\n",
      "(9929, 9931) 是孿生質數\n",
      "(10007, 10009) 是孿生質數\n",
      "(10037, 10039) 是孿生質數\n",
      "(10067, 10069) 是孿生質數\n",
      "(10091, 10093) 是孿生質數\n",
      "(10139, 10141) 是孿生質數\n",
      "(10271, 10273) 是孿生質數\n",
      "(10301, 10303) 是孿生質數\n",
      "(10331, 10333) 是孿生質數\n",
      "(10427, 10429) 是孿生質數\n",
      "(10457, 10459) 是孿生質數\n",
      "(10499, 10501) 是孿生質數\n",
      "(10529, 10531) 是孿生質數\n",
      "(10709, 10711) 是孿生質數\n",
      "(10859, 10861) 是孿生質數\n",
      "(10889, 10891) 是孿生質數\n",
      "(10937, 10939) 是孿生質數\n",
      "(11057, 11059) 是孿生質數\n",
      "(11069, 11071) 是孿生質數\n",
      "(11117, 11119) 是孿生質數\n",
      "(11159, 11161) 是孿生質數\n",
      "(11171, 11173) 是孿生質數\n",
      "(11351, 11353) 是孿生質數\n",
      "(11489, 11491) 是孿生質數\n",
      "(11549, 11551) 是孿生質數\n",
      "(11699, 11701) 是孿生質數\n",
      "(11717, 11719) 是孿生質數\n",
      "(11777, 11779) 是孿生質數\n",
      "(11831, 11833) 是孿生質數\n",
      "(11939, 11941) 是孿生質數\n",
      "(11969, 11971) 是孿生質數\n",
      "(12041, 12043) 是孿生質數\n",
      "(12071, 12073) 是孿生質數\n",
      "(12107, 12109) 是孿生質數\n",
      "(12161, 12163) 是孿生質數\n",
      "(12239, 12241) 是孿生質數\n",
      "(12251, 12253) 是孿生質數\n",
      "(12377, 12379) 是孿生質數\n",
      "(12539, 12541) 是孿生質數\n",
      "(12611, 12613) 是孿生質數\n",
      "(12821, 12823) 是孿生質數\n",
      "(12917, 12919) 是孿生質數\n",
      "(13001, 13003) 是孿生質數\n",
      "(13007, 13009) 是孿生質數\n",
      "(13217, 13219) 是孿生質數\n",
      "(13337, 13339) 是孿生質數\n",
      "(13397, 13399) 是孿生質數\n",
      "(13679, 13681) 是孿生質數\n",
      "(13691, 13693) 是孿生質數\n",
      "(13709, 13711) 是孿生質數\n",
      "(13721, 13723) 是孿生質數\n",
      "(13757, 13759) 是孿生質數\n",
      "(13829, 13831) 是孿生質數\n",
      "(13877, 13879) 是孿生質數\n",
      "(13901, 13903) 是孿生質數\n",
      "(13931, 13933) 是孿生質數\n",
      "(13997, 13999) 是孿生質數\n",
      "(14009, 14011) 是孿生質數\n",
      "(14081, 14083) 是孿生質數\n",
      "(14249, 14251) 是孿生質數\n",
      "(14321, 14323) 是孿生質數\n",
      "(14387, 14389) 是孿生質數\n",
      "(14447, 14449) 是孿生質數\n",
      "(14549, 14551) 是孿生質數\n",
      "(14561, 14563) 是孿生質數\n",
      "(14591, 14593) 是孿生質數\n",
      "(14627, 14629) 是孿生質數\n",
      "(14867, 14869) 是孿生質數\n",
      "(15137, 15139) 是孿生質數\n",
      "(15269, 15271) 是孿生質數\n",
      "(15287, 15289) 是孿生質數\n",
      "(15329, 15331) 是孿生質數\n",
      "(15359, 15361) 是孿生質數\n",
      "(15581, 15583) 是孿生質數\n",
      "(15641, 15643) 是孿生質數\n",
      "(15647, 15649) 是孿生質數\n",
      "(15731, 15733) 是孿生質數\n",
      "(15737, 15739) 是孿生質數\n",
      "(15887, 15889) 是孿生質數\n",
      "(15971, 15973) 是孿生質數\n",
      "(16061, 16063) 是孿生質數\n",
      "(16067, 16069) 是孿生質數\n",
      "(16139, 16141) 是孿生質數\n",
      "(16187, 16189) 是孿生質數\n",
      "(16229, 16231) 是孿生質數\n",
      "(16361, 16363) 是孿生質數\n",
      "(16451, 16453) 是孿生質數\n",
      "(16631, 16633) 是孿生質數\n",
      "(16649, 16651) 是孿生質數\n",
      "(16691, 16693) 是孿生質數\n",
      "(16829, 16831) 是孿生質數\n",
      "(16901, 16903) 是孿生質數\n",
      "(16979, 16981) 是孿生質數\n",
      "(17027, 17029) 是孿生質數\n",
      "(17189, 17191) 是孿生質數\n",
      "(17207, 17209) 是孿生質數\n",
      "(17291, 17293) 是孿生質數\n",
      "(17387, 17389) 是孿生質數\n",
      "(17417, 17419) 是孿生質數\n",
      "(17489, 17491) 是孿生質數\n",
      "(17579, 17581) 是孿生質數\n",
      "(17597, 17599) 是孿生質數\n",
      "(17657, 17659) 是孿生質數\n",
      "(17681, 17683) 是孿生質數\n",
      "(17747, 17749) 是孿生質數\n",
      "(17789, 17791) 是孿生質數\n",
      "(17837, 17839) 是孿生質數\n",
      "(17909, 17911) 是孿生質數\n",
      "(17921, 17923) 是孿生質數\n",
      "(17957, 17959) 是孿生質數\n",
      "(17987, 17989) 是孿生質數\n",
      "(18041, 18043) 是孿生質數\n",
      "(18047, 18049) 是孿生質數\n",
      "(18059, 18061) 是孿生質數\n",
      "(18119, 18121) 是孿生質數\n",
      "(18131, 18133) 是孿生質數\n",
      "(18251, 18253) 是孿生質數\n",
      "(18287, 18289) 是孿生質數\n",
      "(18311, 18313) 是孿生質數\n",
      "(18521, 18523) 是孿生質數\n",
      "(18539, 18541) 是孿生質數\n",
      "(18911, 18913) 是孿生質數\n",
      "(18917, 18919) 是孿生質數\n",
      "(19079, 19081) 是孿生質數\n",
      "(19139, 19141) 是孿生質數\n",
      "(19181, 19183) 是孿生質數\n",
      "(19211, 19213) 是孿生質數\n",
      "(19379, 19381) 是孿生質數\n",
      "(19421, 19423) 是孿生質數\n",
      "(19427, 19429) 是孿生質數\n",
      "(19469, 19471) 是孿生質數\n",
      "(19541, 19543) 是孿生質數\n",
      "(19697, 19699) 是孿生質數\n",
      "(19751, 19753) 是孿生質數\n",
      "(19841, 19843) 是孿生質數\n",
      "(19889, 19891) 是孿生質數\n",
      "(19961, 19963) 是孿生質數\n",
      "(19991, 19993) 是孿生質數\n",
      "(20021, 20023) 是孿生質數\n",
      "(20147, 20149) 是孿生質數\n",
      "(20231, 20233) 是孿生質數\n",
      "(20357, 20359) 是孿生質數\n",
      "(20441, 20443) 是孿生質數\n",
      "(20477, 20479) 是孿生質數\n",
      "(20507, 20509) 是孿生質數\n",
      "(20549, 20551) 是孿生質數\n",
      "(20639, 20641) 是孿生質數\n",
      "(20717, 20719) 是孿生質數\n",
      "(20747, 20749) 是孿生質數\n",
      "(20771, 20773) 是孿生質數\n",
      "(20807, 20809) 是孿生質數\n",
      "(20897, 20899) 是孿生質數\n",
      "(20981, 20983) 是孿生質數\n",
      "(21011, 21013) 是孿生質數\n",
      "(21017, 21019) 是孿生質數\n",
      "(21059, 21061) 是孿生質數\n",
      "(21191, 21193) 是孿生質數\n",
      "(21317, 21319) 是孿生質數\n",
      "(21377, 21379) 是孿生質數\n",
      "(21491, 21493) 是孿生質數\n",
      "(21521, 21523) 是孿生質數\n",
      "(21557, 21559) 是孿生質數\n",
      "(21587, 21589) 是孿生質數\n",
      "(21599, 21601) 是孿生質數\n",
      "(21611, 21613) 是孿生質數\n",
      "(21647, 21649) 是孿生質數\n",
      "(21737, 21739) 是孿生質數\n",
      "(21839, 21841) 是孿生質數\n",
      "(22037, 22039) 是孿生質數\n",
      "(22091, 22093) 是孿生質數\n",
      "(22109, 22111) 是孿生質數\n",
      "(22157, 22159) 是孿生質數\n",
      "(22271, 22273) 是孿生質數\n",
      "(22277, 22279) 是孿生質數\n",
      "(22367, 22369) 是孿生質數\n",
      "(22481, 22483) 是孿生質數\n",
      "(22541, 22543) 是孿生質數\n",
      "(22571, 22573) 是孿生質數\n",
      "(22619, 22621) 是孿生質數\n",
      "(22637, 22639) 是孿生質數\n",
      "(22697, 22699) 是孿生質數\n",
      "(22739, 22741) 是孿生質數\n",
      "(22859, 22861) 是孿生質數\n",
      "(22961, 22963) 是孿生質數\n",
      "(23027, 23029) 是孿生質數\n",
      "(23039, 23041) 是孿生質數\n",
      "(23057, 23059) 是孿生質數\n",
      "(23201, 23203) 是孿生質數\n",
      "(23291, 23293) 是孿生質數\n",
      "(23369, 23371) 是孿生質數\n",
      "(23537, 23539) 是孿生質數\n",
      "(23561, 23563) 是孿生質數\n",
      "(23627, 23629) 是孿生質數\n",
      "(23669, 23671) 是孿生質數\n",
      "(23687, 23689) 是孿生質數\n",
      "(23741, 23743) 是孿生質數\n",
      "(23831, 23833) 是孿生質數\n",
      "(23909, 23911) 是孿生質數\n",
      "(24107, 24109) 是孿生質數\n",
      "(24179, 24181) 是孿生質數\n",
      "(24371, 24373) 是孿生質數\n",
      "(24419, 24421) 是孿生質數\n",
      "(24917, 24919) 是孿生質數\n",
      "(24977, 24979) 是孿生質數\n",
      "(25031, 25033) 是孿生質數\n",
      "(25169, 25171) 是孿生質數\n",
      "(25301, 25303) 是孿生質數\n",
      "(25307, 25309) 是孿生質數\n",
      "(25409, 25411) 是孿生質數\n",
      "(25469, 25471) 是孿生質數\n"
     ]
    },
    {
     "name": "stdout",
     "output_type": "stream",
     "text": [
      "(25577, 25579) 是孿生質數\n",
      "(25601, 25603) 是孿生質數\n",
      "(25799, 25801) 是孿生質數\n",
      "(25847, 25849) 是孿生質數\n",
      "(25931, 25933) 是孿生質數\n",
      "(25997, 25999) 是孿生質數\n",
      "(26111, 26113) 是孿生質數\n",
      "(26249, 26251) 是孿生質數\n",
      "(26261, 26263) 是孿生質數\n",
      "(26681, 26683) 是孿生質數\n",
      "(26699, 26701) 是孿生質數\n",
      "(26711, 26713) 是孿生質數\n",
      "(26729, 26731) 是孿生質數\n",
      "(26861, 26863) 是孿生質數\n",
      "(26879, 26881) 是孿生質數\n",
      "(26891, 26893) 是孿生質數\n",
      "(26951, 26953) 是孿生質數\n",
      "(27059, 27061) 是孿生質數\n",
      "(27107, 27109) 是孿生質數\n",
      "(27239, 27241) 是孿生質數\n",
      "(27281, 27283) 是孿生質數\n",
      "(27407, 27409) 是孿生質數\n",
      "(27479, 27481) 是孿生質數\n",
      "(27527, 27529) 是孿生質數\n",
      "(27539, 27541) 是孿生質數\n",
      "(27581, 27583) 是孿生質數\n",
      "(27689, 27691) 是孿生質數\n",
      "(27737, 27739) 是孿生質數\n",
      "(27749, 27751) 是孿生質數\n",
      "(27791, 27793) 是孿生質數\n",
      "(27917, 27919) 是孿生質數\n",
      "(27941, 27943) 是孿生質數\n",
      "(28097, 28099) 是孿生質數\n",
      "(28109, 28111) 是孿生質數\n",
      "(28181, 28183) 是孿生質數\n",
      "(28277, 28279) 是孿生質數\n",
      "(28307, 28309) 是孿生質數\n",
      "(28349, 28351) 是孿生質數\n",
      "(28409, 28411) 是孿生質數\n",
      "(28547, 28549) 是孿生質數\n",
      "(28571, 28573) 是孿生質數\n",
      "(28619, 28621) 是孿生質數\n",
      "(28661, 28663) 是孿生質數\n",
      "(28751, 28753) 是孿生質數\n",
      "(29021, 29023) 是孿生質數\n",
      "(29129, 29131) 是孿生質數\n",
      "(29207, 29209) 是孿生質數\n",
      "(29387, 29389) 是孿生質數\n",
      "(29399, 29401) 是孿生質數\n",
      "(29567, 29569) 是孿生質數\n",
      "(29669, 29671) 是孿生質數\n",
      "(29759, 29761) 是孿生質數\n",
      "(29879, 29881) 是孿生質數\n",
      "(30011, 30013) 是孿生質數\n",
      "(30089, 30091) 是孿生質數\n",
      "(30137, 30139) 是孿生質數\n",
      "(30269, 30271) 是孿生質數\n",
      "(30389, 30391) 是孿生質數\n",
      "(30467, 30469) 是孿生質數\n",
      "(30491, 30493) 是孿生質數\n",
      "(30557, 30559) 是孿生質數\n",
      "(30839, 30841) 是孿生質數\n",
      "(30851, 30853) 是孿生質數\n",
      "(30869, 30871) 是孿生質數\n",
      "(31079, 31081) 是孿生質數\n",
      "(31121, 31123) 是孿生質數\n",
      "(31151, 31153) 是孿生質數\n",
      "(31181, 31183) 是孿生質數\n",
      "(31247, 31249) 是孿生質數\n",
      "(31319, 31321) 是孿生質數\n",
      "(31391, 31393) 是孿生質數\n",
      "(31511, 31513) 是孿生質數\n",
      "(31541, 31543) 是孿生質數\n",
      "(31721, 31723) 是孿生質數\n",
      "(31727, 31729) 是孿生質數\n",
      "(31769, 31771) 是孿生質數\n",
      "(31847, 31849) 是孿生質數\n",
      "(32027, 32029) 是孿生質數\n",
      "(32057, 32059) 是孿生質數\n",
      "(32117, 32119) 是孿生質數\n",
      "(32141, 32143) 是孿生質數\n",
      "(32189, 32191) 是孿生質數\n",
      "(32297, 32299) 是孿生質數\n",
      "(32321, 32323) 是孿生質數\n",
      "(32369, 32371) 是孿生質數\n",
      "(32411, 32413) 是孿生質數\n",
      "(32441, 32443) 是孿生質數\n",
      "(32531, 32533) 是孿生質數\n",
      "(32561, 32563) 是孿生質數\n",
      "(32609, 32611) 是孿生質數\n",
      "(32717, 32719) 是孿生質數\n",
      "(32801, 32803) 是孿生質數\n",
      "(32831, 32833) 是孿生質數\n",
      "(32909, 32911) 是孿生質數\n",
      "(32939, 32941) 是孿生質數\n",
      "(32969, 32971) 是孿生質數\n",
      "(33071, 33073) 是孿生質數\n",
      "(33149, 33151) 是孿生質數\n",
      "(33179, 33181) 是孿生質數\n",
      "(33287, 33289) 是孿生質數\n",
      "(33329, 33331) 是孿生質數\n",
      "(33347, 33349) 是孿生質數\n",
      "(33587, 33589) 是孿生質數\n",
      "(33599, 33601) 是孿生質數\n",
      "(33617, 33619) 是孿生質數\n",
      "(33749, 33751) 是孿生質數\n",
      "(33767, 33769) 是孿生質數\n",
      "(33809, 33811) 是孿生質數\n",
      "(33827, 33829) 是孿生質數\n",
      "(34031, 34033) 是孿生質數\n",
      "(34127, 34129) 是孿生質數\n",
      "(34157, 34159) 是孿生質數\n",
      "(34211, 34213) 是孿生質數\n",
      "(34259, 34261) 是孿生質數\n",
      "(34301, 34303) 是孿生質數\n",
      "(34367, 34369) 是孿生質數\n",
      "(34469, 34471) 是孿生質數\n",
      "(34499, 34501) 是孿生質數\n",
      "(34511, 34513) 是孿生質數\n",
      "(34589, 34591) 是孿生質數\n",
      "(34649, 34651) 是孿生質數\n",
      "(34757, 34759) 是孿生質數\n",
      "(34841, 34843) 是孿生質數\n",
      "(34847, 34849) 是孿生質數\n",
      "(34961, 34963) 是孿生質數\n",
      "(35051, 35053) 是孿生質數\n",
      "(35081, 35083) 是孿生質數\n",
      "(35279, 35281) 是孿生質數\n",
      "(35447, 35449) 是孿生質數\n",
      "(35507, 35509) 是孿生質數\n",
      "(35531, 35533) 是孿生質數\n",
      "(35591, 35593) 是孿生質數\n",
      "(35729, 35731) 是孿生質數\n",
      "(35801, 35803) 是孿生質數\n",
      "(35837, 35839) 是孿生質數\n",
      "(35897, 35899) 是孿生質數\n",
      "(36011, 36013) 是孿生質數\n",
      "(36107, 36109) 是孿生質數\n",
      "(36341, 36343) 是孿生質數\n",
      "(36467, 36469) 是孿生質數\n",
      "(36527, 36529) 是孿生質數\n",
      "(36779, 36781) 是孿生質數\n",
      "(36791, 36793) 是孿生質數\n",
      "(36899, 36901) 是孿生質數\n",
      "(36929, 36931) 是孿生質數\n",
      "(37019, 37021) 是孿生質數\n",
      "(37199, 37201) 是孿生質數\n",
      "(37307, 37309) 是孿生質數\n",
      "(37337, 37339) 是孿生質數\n",
      "(37361, 37363) 是孿生質數\n",
      "(37547, 37549) 是孿生質數\n",
      "(37571, 37573) 是孿生質數\n",
      "(37589, 37591) 是孿生質數\n",
      "(37691, 37693) 是孿生質數\n",
      "(37781, 37783) 是孿生質數\n",
      "(37811, 37813) 是孿生質數\n",
      "(37991, 37993) 是孿生質數\n",
      "(38237, 38239) 是孿生質數\n",
      "(38327, 38329) 是孿生質數\n",
      "(38447, 38449) 是孿生質數\n",
      "(38459, 38461) 是孿生質數\n",
      "(38567, 38569) 是孿生質數\n",
      "(38609, 38611) 是孿生質數\n",
      "(38651, 38653) 是孿生質數\n",
      "(38669, 38671) 是孿生質數\n",
      "(38711, 38713) 是孿生質數\n",
      "(38747, 38749) 是孿生質數\n",
      "(38921, 38923) 是孿生質數\n",
      "(39041, 39043) 是孿生質數\n",
      "(39161, 39163) 是孿生質數\n",
      "(39227, 39229) 是孿生質數\n",
      "(39239, 39241) 是孿生質數\n",
      "(39341, 39343) 是孿生質數\n",
      "(39371, 39373) 是孿生質數\n",
      "(39509, 39511) 是孿生質數\n",
      "(39827, 39829) 是孿生質數\n",
      "(39839, 39841) 是孿生質數\n",
      "(40037, 40039) 是孿生質數\n",
      "(40127, 40129) 是孿生質數\n",
      "(40151, 40153) 是孿生質數\n",
      "(40427, 40429) 是孿生質數\n",
      "(40529, 40531) 是孿生質數\n",
      "(40637, 40639) 是孿生質數\n",
      "(40697, 40699) 是孿生質數\n",
      "(40847, 40849) 是孿生質數\n",
      "(41141, 41143) 是孿生質數\n",
      "(41177, 41179) 是孿生質數\n",
      "(41201, 41203) 是孿生質數\n",
      "(41231, 41233) 是孿生質數\n",
      "(41387, 41389) 是孿生質數\n",
      "(41411, 41413) 是孿生質數\n",
      "(41519, 41521) 是孿生質數\n",
      "(41609, 41611) 是孿生質數\n",
      "(41759, 41761) 是孿生質數\n",
      "(41849, 41851) 是孿生質數\n",
      "(41957, 41959) 是孿生質數\n",
      "(41981, 41983) 是孿生質數\n",
      "(42017, 42019) 是孿生質數\n",
      "(42071, 42073) 是孿生質數\n",
      "(42179, 42181) 是孿生質數\n",
      "(42221, 42223) 是孿生質數\n",
      "(42281, 42283) 是孿生質數\n",
      "(42407, 42409) 是孿生質數\n",
      "(42461, 42463) 是孿生質數\n",
      "(42569, 42571) 是孿生質數\n",
      "(42641, 42643) 是孿生質數\n",
      "(42701, 42703) 是孿生質數\n",
      "(42839, 42841) 是孿生質數\n",
      "(42899, 42901) 是孿生質數\n",
      "(43049, 43051) 是孿生質數\n",
      "(43319, 43321) 是孿生質數\n",
      "(43397, 43399) 是孿生質數\n",
      "(43541, 43543) 是孿生質數\n",
      "(43577, 43579) 是孿生質數\n",
      "(43607, 43609) 是孿生質數\n",
      "(43649, 43651) 是孿生質數\n",
      "(43781, 43783) 是孿生質數\n",
      "(43787, 43789) 是孿生質數\n",
      "(43889, 43891) 是孿生質數\n",
      "(43961, 43963) 是孿生質數\n",
      "(44027, 44029) 是孿生質數\n",
      "(44087, 44089) 是孿生質數\n",
      "(44129, 44131) 是孿生質數\n",
      "(44201, 44203) 是孿生質數\n",
      "(44267, 44269) 是孿生質數\n",
      "(44279, 44281) 是孿生質數\n",
      "(44381, 44383) 是孿生質數\n",
      "(44531, 44533) 是孿生質數\n",
      "(44621, 44623) 是孿生質數\n",
      "(44699, 44701) 是孿生質數\n",
      "(44771, 44773) 是孿生質數\n",
      "(45119, 45121) 是孿生質數\n",
      "(45137, 45139) 是孿生質數\n",
      "(45179, 45181) 是孿生質數\n",
      "(45317, 45319) 是孿生質數\n",
      "(45341, 45343) 是孿生質數\n",
      "(45587, 45589) 是孿生質數\n",
      "(45821, 45823) 是孿生質數\n",
      "(46049, 46051) 是孿生質數\n",
      "(46091, 46093) 是孿生質數\n",
      "(46181, 46183) 是孿生質數\n",
      "(46271, 46273) 是孿生質數\n",
      "(46307, 46309) 是孿生質數\n",
      "(46349, 46351) 是孿生質數\n",
      "(46439, 46441) 是孿生質數\n",
      "(46589, 46591) 是孿生質數\n",
      "(46679, 46681) 是孿生質數\n",
      "(46769, 46771) 是孿生質數\n",
      "(46817, 46819) 是孿生質數\n",
      "(46829, 46831) 是孿生質數\n",
      "(47057, 47059) 是孿生質數\n",
      "(47147, 47149) 是孿生質數\n",
      "(47351, 47353) 是孿生質數\n",
      "(47387, 47389) 是孿生質數\n",
      "(47417, 47419) 是孿生質數\n",
      "(47657, 47659) 是孿生質數\n",
      "(47699, 47701) 是孿生質數\n",
      "(47711, 47713) 是孿生質數\n",
      "(47741, 47743) 是孿生質數\n",
      "(47777, 47779) 是孿生質數\n",
      "(47807, 47809) 是孿生質數\n",
      "(48119, 48121) 是孿生質數\n",
      "(48311, 48313) 是孿生質數\n",
      "(48407, 48409) 是孿生質數\n",
      "(48479, 48481) 是孿生質數\n",
      "(48539, 48541) 是孿生質數\n",
      "(48647, 48649) 是孿生質數\n",
      "(48677, 48679) 是孿生質數\n",
      "(48731, 48733) 是孿生質數\n",
      "(48779, 48781) 是孿生質數\n",
      "(48821, 48823) 是孿生質數\n",
      "(48857, 48859) 是孿生質數\n",
      "(48869, 48871) 是孿生質數\n",
      "(48989, 48991) 是孿生質數\n",
      "(49031, 49033) 是孿生質數\n",
      "(49121, 49123) 是孿生質數\n",
      "(49169, 49171) 是孿生質數\n",
      "(49199, 49201) 是孿生質數\n",
      "(49277, 49279) 是孿生質數\n",
      "(49331, 49333) 是孿生質數\n",
      "(49367, 49369) 是孿生質數\n",
      "(49391, 49393) 是孿生質數\n",
      "(49409, 49411) 是孿生質數\n",
      "(49529, 49531) 是孿生質數\n",
      "(49547, 49549) 是孿生質數\n",
      "(49667, 49669) 是孿生質數\n",
      "(49739, 49741) 是孿生質數\n",
      "(49787, 49789) 是孿生質數\n",
      "(49919, 49921) 是孿生質數\n",
      "(49937, 49939) 是孿生質數\n",
      "(49991, 49993) 是孿生質數\n",
      "(50021, 50023) 是孿生質數\n",
      "(50051, 50053) 是孿生質數\n",
      "(50129, 50131) 是孿生質數\n",
      "(50261, 50263) 是孿生質數\n",
      "(50459, 50461) 是孿生質數\n",
      "(50549, 50551) 是孿生質數\n",
      "(50591, 50593) 是孿生質數\n",
      "(50891, 50893) 是孿生質數\n",
      "(50969, 50971) 是孿生質數\n",
      "(51059, 51061) 是孿生質數\n",
      "(51131, 51133) 是孿生質數\n",
      "(51197, 51199) 是孿生質數\n",
      "(51239, 51241) 是孿生質數\n",
      "(51341, 51343) 是孿生質數\n",
      "(51347, 51349) 是孿生質數\n",
      "(51419, 51421) 是孿生質數\n",
      "(51437, 51439) 是孿生質數\n",
      "(51479, 51481) 是孿生質數\n",
      "(51719, 51721) 是孿生質數\n",
      "(51767, 51769) 是孿生質數\n",
      "(51827, 51829) 是孿生質數\n",
      "(51869, 51871) 是孿生質數\n",
      "(51971, 51973) 是孿生質數\n",
      "(52067, 52069) 是孿生質數\n",
      "(52181, 52183) 是孿生質數\n",
      "(52289, 52291) 是孿生質數\n",
      "(52361, 52363) 是孿生質數\n",
      "(52541, 52543) 是孿生質數\n",
      "(52709, 52711) 是孿生質數\n",
      "(52859, 52861) 是孿生質數\n",
      "(52901, 52903) 是孿生質數\n",
      "(53087, 53089) 是孿生質數\n",
      "(53147, 53149) 是孿生質數\n",
      "(53171, 53173) 是孿生質數\n",
      "(53231, 53233) 是孿生質數\n",
      "(53267, 53269) 是孿生質數\n",
      "(53279, 53281) 是孿生質數\n",
      "(53549, 53551) 是孿生質數\n",
      "(53591, 53593) 是孿生質數\n",
      "(53609, 53611) 是孿生質數\n",
      "(53717, 53719) 是孿生質數\n",
      "(53897, 53899) 是孿生質數\n",
      "(54011, 54013) 是孿生質數\n",
      "(54401, 54403) 是孿生質數\n",
      "(54419, 54421) 是孿生質數\n",
      "(54497, 54499) 是孿生質數\n",
      "(54539, 54541) 是孿生質數\n",
      "(54581, 54583) 是孿生質數\n",
      "(54629, 54631) 是孿生質數\n",
      "(54917, 54919) 是孿生質數\n",
      "(55049, 55051) 是孿生質數\n",
      "(55217, 55219) 是孿生質數\n",
      "(55331, 55333) 是孿生質數\n",
      "(55337, 55339) 是孿生質數\n",
      "(55439, 55441) 是孿生質數\n",
      "(55619, 55621) 是孿生質數\n",
      "(55631, 55633) 是孿生質數\n",
      "(55661, 55663) 是孿生質數\n",
      "(55817, 55819) 是孿生質數\n",
      "(55901, 55903) 是孿生質數\n",
      "(55931, 55933) 是孿生質數\n",
      "(56039, 56041) 是孿生質數\n",
      "(56099, 56101) 是孿生質數\n",
      "(56207, 56209) 是孿生質數\n",
      "(56237, 56239) 是孿生質數\n",
      "(56267, 56269) 是孿生質數\n",
      "(56477, 56479) 是孿生質數\n",
      "(56501, 56503) 是孿生質數\n",
      "(56531, 56533) 是孿生質數\n",
      "(56597, 56599) 是孿生質數\n",
      "(56711, 56713) 是孿生質數\n",
      "(56807, 56809) 是孿生質數\n",
      "(56891, 56893) 是孿生質數\n",
      "(56909, 56911) 是孿生質數\n",
      "(56921, 56923) 是孿生質數\n",
      "(57191, 57193) 是孿生質數\n",
      "(57221, 57223) 是孿生質數\n",
      "(57269, 57271) 是孿生質數\n",
      "(57329, 57331) 是孿生質數\n",
      "(57347, 57349) 是孿生質數\n",
      "(57527, 57529) 是孿生質數\n",
      "(57557, 57559) 是孿生質數\n",
      "(57791, 57793) 是孿生質數\n",
      "(57899, 57901) 是孿生質數\n",
      "(58109, 58111) 是孿生質數\n",
      "(58151, 58153) 是孿生質數\n",
      "(58169, 58171) 是孿生質數\n",
      "(58229, 58231) 是孿生質數\n",
      "(58367, 58369) 是孿生質數\n",
      "(58391, 58393) 是孿生質數\n",
      "(58439, 58441) 是孿生質數\n",
      "(58451, 58453) 是孿生質數\n",
      "(58601, 58603) 是孿生質數\n",
      "(58787, 58789) 是孿生質數\n",
      "(58907, 58909) 是孿生質數\n",
      "(59009, 59011) 是孿生質數\n",
      "(59021, 59023) 是孿生質數\n",
      "(59051, 59053) 是孿生質數\n",
      "(59207, 59209) 是孿生質數\n",
      "(59219, 59221) 是孿生質數\n"
     ]
    },
    {
     "name": "stdout",
     "output_type": "stream",
     "text": [
      "(59357, 59359) 是孿生質數\n",
      "(59417, 59419) 是孿生質數\n",
      "(59441, 59443) 是孿生質數\n",
      "(59471, 59473) 是孿生質數\n",
      "(59627, 59629) 是孿生質數\n",
      "(59669, 59671) 是孿生質數\n",
      "(60089, 60091) 是孿生質數\n",
      "(60101, 60103) 是孿生質數\n",
      "(60167, 60169) 是孿生質數\n",
      "(60257, 60259) 是孿生質數\n",
      "(60647, 60649) 是孿生質數\n",
      "(60659, 60661) 是孿生質數\n",
      "(60761, 60763) 是孿生質數\n",
      "(60887, 60889) 是孿生質數\n",
      "(60899, 60901) 是孿生質數\n",
      "(60917, 60919) 是孿生質數\n",
      "(61151, 61153) 是孿生質數\n",
      "(61331, 61333) 是孿生質數\n",
      "(61379, 61381) 是孿生質數\n",
      "(61469, 61471) 是孿生質數\n",
      "(61559, 61561) 是孿生質數\n",
      "(61979, 61981) 是孿生質數\n",
      "(62129, 62131) 是孿生質數\n",
      "(62141, 62143) 是孿生質數\n",
      "(62189, 62191) 是孿生質數\n",
      "(62297, 62299) 是孿生質數\n",
      "(62927, 62929) 是孿生質數\n",
      "(62969, 62971) 是孿生質數\n",
      "(62981, 62983) 是孿生質數\n",
      "(62987, 62989) 是孿生質數\n",
      "(63029, 63031) 是孿生質數\n",
      "(63197, 63199) 是孿生質數\n",
      "(63311, 63313) 是孿生質數\n",
      "(63389, 63391) 是孿生質數\n",
      "(63419, 63421) 是孿生質數\n",
      "(63587, 63589) 是孿生質數\n",
      "(63599, 63601) 是孿生質數\n",
      "(63647, 63649) 是孿生質數\n",
      "(63689, 63691) 是孿生質數\n",
      "(63839, 63841) 是孿生質數\n",
      "(64151, 64153) 是孿生質數\n",
      "(64187, 64189) 是孿生質數\n",
      "(64301, 64303) 是孿生質數\n",
      "(64451, 64453) 是孿生質數\n",
      "(64577, 64579) 是孿生質數\n",
      "(64661, 64663) 是孿生質數\n",
      "(64781, 64783) 是孿生質數\n",
      "(64877, 64879) 是孿生質數\n",
      "(64919, 64921) 是孿生質數\n",
      "(65027, 65029) 是孿生質數\n",
      "(65099, 65101) 是孿生質數\n",
      "(65171, 65173) 是孿生質數\n",
      "(65267, 65269) 是孿生質數\n",
      "(65447, 65449) 是孿生質數\n",
      "(65519, 65521) 是孿生質數\n",
      "(65537, 65539) 是孿生質數\n",
      "(65579, 65581) 是孿生質數\n",
      "(65699, 65701) 是孿生質數\n",
      "(65717, 65719) 是孿生質數\n",
      "(65729, 65731) 是孿生質數\n",
      "(65837, 65839) 是孿生質數\n"
     ]
    }
   ],
   "source": [
    "for i in range(1, 10000000):\n",
    "    a = sp.prime(i)\n",
    "    b = sp.prime(i+1)\n",
    "\n",
    "    if b - a ==2:\n",
    "        print((a, b), \"是孿生質數\")"
   ]
  },
  {
   "cell_type": "code",
   "execution_count": null,
   "metadata": {},
   "outputs": [],
   "source": []
  }
 ],
 "metadata": {
  "kernelspec": {
   "display_name": "Python 3",
   "language": "python",
   "name": "python3"
  },
  "language_info": {
   "codemirror_mode": {
    "name": "ipython",
    "version": 3
   },
   "file_extension": ".py",
   "mimetype": "text/x-python",
   "name": "python",
   "nbconvert_exporter": "python",
   "pygments_lexer": "ipython3",
   "version": "3.7.3"
  }
 },
 "nbformat": 4,
 "nbformat_minor": 2
}
