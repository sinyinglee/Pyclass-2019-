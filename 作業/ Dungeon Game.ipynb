{
 "cells": [
  {
   "cell_type": "code",
   "execution_count": 41,
   "metadata": {},
   "outputs": [
    {
     "name": "stdout",
     "output_type": "stream",
     "text": [
      "(0, 1, 10)\n",
      "(0, 1, 5)\n",
      "(0, 9, 0)\n"
     ]
    }
   ],
   "source": [
    "def move(player, direction):\n",
    "    x, y, hp = player\n",
    "    X,Y= direction\n",
    "    player=(x+X, y+Y, hp)\n",
    "    new_x, new_y, hp= player\n",
    "    \n",
    "    if new_x<0:\n",
    "        new_x=0\n",
    "        hp=hp-5\n",
    "        \n",
    "    if new_x>9:\n",
    "        new_x=9\n",
    "        hp=hp-5\n",
    "        \n",
    "    if new_y<0 :\n",
    "        new_y=0\n",
    "        hp=hp-5\n",
    "        \n",
    "    if new_y>9:\n",
    "        new_y=9\n",
    "        hp=hp-5\n",
    "    \n",
    "    return new_x, new_y, hp\n",
    "\n",
    "print(move((1, 1, 10), (-1, 0)))\n",
    "print(move((0, 1, 10), (-1, 0)))\n",
    "print(move((0, 9, 5), (0, 1)))"
   ]
  },
  {
   "cell_type": "code",
   "execution_count": 19,
   "metadata": {},
   "outputs": [
    {
     "name": "stdout",
     "output_type": "stream",
     "text": [
      "(0, 1, 10)\n",
      "(-1, 1, 10)\n"
     ]
    }
   ],
   "source": [
    "def move(player, direction):\n",
    "    x, y, hp = player\n",
    "    X,Y= direction\n",
    "    player=(x+X, y+Y, hp)\n",
    "    new_x, new_y, hp= player\n",
    "    if new_x<0 or new_x==9:\n",
    "        hp=hp-5\n",
    "\n",
    "    if new_y<0 or new_y==9:\n",
    "        hp=hp-5\n",
    "    return player\n",
    "\n",
    "print(move((1, 1, 10), (-1, 0)))\n",
    "print(move((0, 1, 10), (-1, 0)))"
   ]
  },
  {
   "cell_type": "code",
   "execution_count": 59,
   "metadata": {},
   "outputs": [],
   "source": [
    "CELLS= [(0,0), (1,0), (2,0), (3,0),(4,0),\n",
    "        (0,1), (1,1), (2,1), (3,1),(4,1),\n",
    "        (0,2), (1,2), (2,2), (3,2),(4,2),\n",
    "        (0,3), (1,3), (2,3), (3,3),(4,3),\n",
    "        (0,4), (1,4), (2,4), (3,4),(4,4)]\n",
    "\n",
    "\n",
    "def draw_map(player):\n",
    "    print(\" _\"*5)\n",
    "    tile=\"|{}\"\n",
    "    for cell in CELLS:\n",
    "        x, y =cell\n",
    "        if x < 4:\n",
    "            line_end=\"\"\n",
    "            if cell == player:\n",
    "                output= tile.format(\"X\")\n",
    "            else:\n",
    "                output= tile.format(\"_\")\n",
    "        else:\n",
    "            line_end=\"\\n\"\n",
    "            if cell == player:\n",
    "                output = tile.format(\"X|\")\n",
    "            else:\n",
    "                output= tile.format(\"_|\")\n",
    "        print(output, end=line_end)\n",
    "\n",
    "    player=(2,4)\n",
    "    draw_map(player)"
   ]
  },
  {
   "cell_type": "code",
   "execution_count": null,
   "metadata": {},
   "outputs": [],
   "source": []
  }
 ],
 "metadata": {
  "kernelspec": {
   "display_name": "Python 3",
   "language": "python",
   "name": "python3"
  },
  "language_info": {
   "codemirror_mode": {
    "name": "ipython",
    "version": 3
   },
   "file_extension": ".py",
   "mimetype": "text/x-python",
   "name": "python",
   "nbconvert_exporter": "python",
   "pygments_lexer": "ipython3",
   "version": "3.6.5"
  }
 },
 "nbformat": 4,
 "nbformat_minor": 2
}
