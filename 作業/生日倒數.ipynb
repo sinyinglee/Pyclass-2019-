{
 "cells": [
  {
   "cell_type": "code",
   "execution_count": null,
   "metadata": {},
   "outputs": [
    {
     "name": "stdout",
     "output_type": "stream",
     "text": [
      "2019/12/25\n"
     ]
    }
   ],
   "source": [
    "import datetime\n",
    "tyear, tmonth, tday=input().split(\"/\")\n",
    "n=0\n",
    "num=int(input())\n",
    "\n",
    "birthday_dict={}\n",
    "\n",
    "while n<num:\n",
    "    name, bday= input().split()\n",
    "    month, day=bday.split(\"/\")\n",
    "    \n",
    "    if int(tmonth) ==int(month) and int(tday) ==int(day):\n",
    "        tdate=datetime.date(int(tyear), int(tmonth), int(tday))\n",
    "        birthday_date=datetime.date(int(tyear), int(month), int(day))\n",
    "        utill_memorial= birthday_date - tdate\n",
    "        last_day= utill_memorial.days\n",
    "        birthday_dict[last_day] = name\n",
    "        \n",
    "    elif int(tmonth) ==int(month) and (int(tday) < int(day)):\n",
    "        tdate=datetime.date(int(tyear), int(tmonth), int(tday))\n",
    "        birthday_date=datetime.date(int(tyear), int(month), int(day))\n",
    "        utill_memorial= birthday_date - tdate\n",
    "        last_day= utill_memorial.days\n",
    "        birthday_dict[last_day] = name\n",
    "        \n",
    "    elif int(tmonth) >=int(month) :\n",
    "        new_year=int(tyear)+1\n",
    "        birthday_date=datetime.date(new_year, int(month), int(day))\n",
    "        tdate=datetime.date(int(tyear), int(tmonth), int(tday))\n",
    "        utill_memorial= birthday_date - tdate\n",
    "        last_day= utill_memorial.days\n",
    "        birthday_dict[last_day] = name\n",
    "        \n",
    "    else:\n",
    "        birthday_date=datetime.date(int(tyear), int(month), int(day))\n",
    "        tdate=datetime.date(int(tyear), int(tmonth), int(tday))\n",
    "        utill_memorial= birthday_date - tdate\n",
    "        last_day= utill_memorial.days\n",
    "        birthday_dict[last_day] = name\n",
    "        \n",
    "    n+=1\n",
    "\n",
    "list=[]\n",
    "    \n",
    "for key in birthday_dict.keys():\n",
    "    list.append(key)\n",
    "list.sort() #天數排序\n",
    "\n",
    "day_list=[]\n",
    "name_list=[]\n",
    "\n",
    "for i in range(len(list)):\n",
    "    day_list.append(list[i])\n",
    "    name_list.append(birthday_dict[list[i]])\n",
    "\n",
    "\n",
    "for i in range(num):\n",
    "    if day_list[i] == 0 or day_list[i]==1:\n",
    "        print(\"{} {} day\".format(name_list[i], day_list[i]))\n",
    "    else:\n",
    "        print(\"{} {} days\".format(name_list[i], day_list[i]))\n",
    "              \n",
    "    \n",
    "    \n",
    "    "
   ]
  },
  {
   "cell_type": "code",
   "execution_count": null,
   "metadata": {},
   "outputs": [],
   "source": []
  }
 ],
 "metadata": {
  "kernelspec": {
   "display_name": "Python 3",
   "language": "python",
   "name": "python3"
  },
  "language_info": {
   "codemirror_mode": {
    "name": "ipython",
    "version": 3
   },
   "file_extension": ".py",
   "mimetype": "text/x-python",
   "name": "python",
   "nbconvert_exporter": "python",
   "pygments_lexer": "ipython3",
   "version": "3.7.3"
  }
 },
 "nbformat": 4,
 "nbformat_minor": 2
}
