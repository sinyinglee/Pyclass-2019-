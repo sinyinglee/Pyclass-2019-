{
 "cells": [
  {
   "cell_type": "code",
   "execution_count": 2,
   "metadata": {},
   "outputs": [
    {
     "name": "stdout",
     "output_type": "stream",
     "text": [
      "Player has only  6  chances to guess\n",
      "Guess number between 1 to 50 4\n",
      "You are too far from the correct number\n",
      "Hurry you have  5  chances left\n",
      "Guess number between 1 to 50 3\n",
      "You are too far from the correct number\n",
      "Hurry you have  4  chances left\n",
      "Guess number between 1 to 50 1\n",
      "You are too far from the correct number\n",
      "Hurry you have  3  chances left\n",
      "Guess number between 1 to 50 56\n",
      "Ohh you missed it but you are too close to the correct number\n",
      "Hurry you have  2  chances left\n",
      "Guess number between 1 to 50 43\n",
      "Ohh you missed it but you are too close to the correct number\n",
      "Hurry you have  1  chances left\n",
      "Guess number between 1 to 50 33\n",
      "You are too far from the correct number\n",
      "Hurry you have  0  chances left\n",
      "Sorry you ran out of the chances\n"
     ]
    }
   ],
   "source": [
    "import random\n",
    "\n",
    "computer_selected=random.randint(1,50)\n",
    "guess_limit=random.randint(1,10)\n",
    "print(\"Player has only \",guess_limit,\" chances to guess\")\n",
    "\n",
    "while(guess_limit!=0):\n",
    "    user_guess=int(input(\"Guess number between 1 to 50 \"))\n",
    "    if computer_selected==user_guess:\n",
    "        print(\"Congratulations you guessed the correct number in \",guess_limit, \"chances\")\n",
    "        break\n",
    "    elif computer_selected-user_guess < 10:\n",
    "        guess_limit-=1\n",
    "        print(\"Ohh you missed it but you are too close to the correct number\")\n",
    "        print(\"Hurry you have \",guess_limit,\" chances left\")\n",
    "    else:\n",
    "        guess_limit-=1\n",
    "        print(\"You are too far from the correct number\")\n",
    "        print(\"Hurry you have \",guess_limit,\" chances left\")\n",
    "if(guess_limit==0):\n",
    "            print(\"Sorry you ran out of the chances\")"
   ]
  },
  {
   "cell_type": "code",
   "execution_count": null,
   "metadata": {},
   "outputs": [],
   "source": []
  }
 ],
 "metadata": {
  "kernelspec": {
   "display_name": "Python 3",
   "language": "python",
   "name": "python3"
  },
  "language_info": {
   "codemirror_mode": {
    "name": "ipython",
    "version": 3
   },
   "file_extension": ".py",
   "mimetype": "text/x-python",
   "name": "python",
   "nbconvert_exporter": "python",
   "pygments_lexer": "ipython3",
   "version": "3.7.3"
  }
 },
 "nbformat": 4,
 "nbformat_minor": 2
}
