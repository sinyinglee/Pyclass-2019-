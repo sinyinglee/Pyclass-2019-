{
 "cells": [
  {
   "cell_type": "code",
   "execution_count": 26,
   "metadata": {},
   "outputs": [],
   "source": [
    "import csv\n",
    "engname = [ ]\n",
    "with open(\"engdoc.csv\",\"r\") as fIn:\n",
    "    csvIn = csv.reader(fIn) \n",
    "    for line in csvIn:\n",
    "        engname.append(line)"
   ]
  },
  {
   "cell_type": "code",
   "execution_count": 27,
   "metadata": {},
   "outputs": [],
   "source": [
    "import requests\n",
    "from pyquery import PyQuery as pq"
   ]
  },
  {
   "cell_type": "code",
   "execution_count": 28,
   "metadata": {},
   "outputs": [],
   "source": [
    "def find_eng():\n",
    "    emp_list=[]\n",
    "    table=[[\"歌名\",\"作詞曲\",]]\n",
    "    for i in engname:\n",
    "        print_list=[]\n",
    "        song=i[0]\n",
    "        print_list.append(song)\n",
    "        song_name=i[0].split() #connect song_name\n",
    "        singer=i[1].split() #connet singer\n",
    "        correct_singer=[]\n",
    "        for i in singer:\n",
    "            if i == singer[0]:\n",
    "                correct_singer.append(singer[0].title())\n",
    "            else:\n",
    "                correct_singer.append(i.lower())\n",
    "        correct_song=[]\n",
    "        for i in song_name:\n",
    "            correct_song.append(i.lower())\n",
    "        new_list=correct_singer+correct_song\n",
    "        song_string=\"-\".join(new_list)\n",
    "        link=\"https://genius.com/{}-lyrics\".format(song_string)\n",
    "        try:\n",
    "            response = requests.get(link)\n",
    "            doc= pq(response.text)\n",
    "            everything=doc( \".metadata_unit--table_row\").text()\n",
    "            label1=doc(\".metadata_unit-label\").text()\n",
    "            everything1=everything.split()\n",
    "            everything2=everything1[0]\n",
    "            label2=label1.split()\n",
    "            label3=label2.index(everything2) #locate second category's name\n",
    "            correct_index=label3+2 #5\n",
    "            get_end_index=everything.index(label2[correct_index])\n",
    "            find_maker=everything[11:get_end_index] \n",
    "            print_list.append(find_maker)\n",
    "        except:\n",
    "            print_list.append(\" \")\n",
    "        table.append(print_list)\n",
    "    return table\n",
    "buggy_eng=find_eng()\n"
   ]
  },
  {
   "cell_type": "code",
   "execution_count": 29,
   "metadata": {
    "collapsed": true
   },
   "outputs": [
    {
     "data": {
      "text/plain": [
       "[['歌名', '作詞曲'],\n",
       " ['The Less I Know The Better', 'Kevin Parker '],\n",
       " ['Quit ', 'Cashmere Cat, Frank Romano, benny blanco & 2 more '],\n",
       " ['Instant Crush ',\n",
       "  'Julian Casablancas, Guy-Manuel de Homem-Christo & Thomas Bangalter '],\n",
       " ['Hide and Seek', 'William Reynolds, Vincent May, Steve Garrigan & 4 more '],\n",
       " ['Love It If We Made It',\n",
       "  'Ross MacDonald, Adam Hann, George Daniel & 1 more '],\n",
       " ['New Friend Request', 'e July 25, 2006 '],\n",
       " ['Lonely Man of Winter', 'Sufjan Stevens '],\n",
       " ['The Moon Song film version', ' '],\n",
       " ['We are young', 'Jeff Bhasker, Andrew Dost, Jack Antonoff & 1 more '],\n",
       " ['oblivious', ' '],\n",
       " ['Bills', 'Ricky Reed, LunchMoney Lewis, Rickard Göransson & 1 more '],\n",
       " ['Money On My Mind', 'Sam Smith & Two Inch Punch '],\n",
       " ['Blind', 'Theo Hutchcraft, Adam Anderson & Jonas Quant '],\n",
       " ['This Christmas Night ', 'Kaskade '],\n",
       " ['Cannonball', 'Damien Rice '],\n",
       " ['Bad Bad News', 'Austin Jenkins, Leon Bridges, Ricky Reed & 3 more '],\n",
       " ['Ride', 'Lana Del Rey & Justin Parker '],\n",
       " ['The A Team', 'Ed Sheeran '],\n",
       " ['NUMB', 'Oren Yoel, Robert Soukiasyan, John Cunningham & 1 more '],\n",
       " ['Sober', 'M-Phazes, Demi Lovato, RØMANS & 1 more '],\n",
       " ['Fly me to the moon', 'Bart Howard '],\n",
       " ['Champagne Supernova', 'Noel Gallagher '],\n",
       " ['The Joke', ' '],\n",
       " ['Audio', 'Diplo, Jr. Blender, King Henry & 2 more ']]"
      ]
     },
     "execution_count": 29,
     "metadata": {},
     "output_type": "execute_result"
    }
   ],
   "source": [
    "buggy_eng"
   ]
  },
  {
   "cell_type": "code",
   "execution_count": 25,
   "metadata": {},
   "outputs": [
    {
     "name": "stdout",
     "output_type": "stream",
     "text": [
      "Lana Del Rey & Justin Parker \n"
     ]
    }
   ],
   "source": [
    "response = requests.get(\"https://genius.com/Lana-del-rey-ride-lyrics\")\n",
    "doc= pq(response.text)\n",
    "everything=doc( \".metadata_unit--table_row\").text()\n",
    "label1=doc(\".metadata_unit-label\").text()\n",
    "everything1=everything.split()\n",
    "everything2=everything1[0]\n",
    "label2=label1.split()\n",
    "label3=label2.index(everything2) #locate second category's name\n",
    "correct_index=label3+2 #5\n",
    "get_end_index=everything.index(label2[correct_index])\n",
    "find_maker=everything[11:get_end_index] \n",
    "print(find_maker)"
   ]
  },
  {
   "cell_type": "code",
   "execution_count": 30,
   "metadata": {},
   "outputs": [],
   "source": [
    "import csv \n",
    "with open(\"eng_half_finish_doc.csv\", \"w\") as fOut:\n",
    "    csvOut=csv.writer(fOut)\n",
    "    csvOut.writerows(buggy_eng)"
   ]
  },
  {
   "cell_type": "code",
   "execution_count": 31,
   "metadata": {},
   "outputs": [],
   "source": [
    "import csv\n",
    "engname = [ ]\n",
    "with open(\"engdoc.csv\",\"r\") as fIn:\n",
    "    csvIn = csv.reader(fIn) \n",
    "    for line in csvIn:\n",
    "        engname.append(line)"
   ]
  },
  {
   "cell_type": "code",
   "execution_count": null,
   "metadata": {},
   "outputs": [],
   "source": []
  },
  {
   "cell_type": "code",
   "execution_count": 9,
   "metadata": {},
   "outputs": [],
   "source": [
    "import requests\n",
    "from pyquery import PyQuery as pq\n",
    "response = requests.get(\"https://genius.com/Sasha-sloan-older-lyrics\")\n",
    "doc= pq(response.text)\n",
    "everything=doc(\".metadata_unit-info\").text()\n",
    "label=doc(\".metadata_unit-label\").text()\n"
   ]
  },
  {
   "cell_type": "code",
   "execution_count": 10,
   "metadata": {},
   "outputs": [
    {
     "data": {
      "text/plain": [
       "'King Henry Loser - EP King Henry, Danny Silberstein & Sasha Sloan Dale Becker Scott Desmarais & Robin Florent Chris Galland Manny Marroquin King Henry Danny Silberstein & King Henry November 9, 2018'"
      ]
     },
     "execution_count": 10,
     "metadata": {},
     "output_type": "execute_result"
    }
   ],
   "source": [
    "everything"
   ]
  },
  {
   "cell_type": "code",
   "execution_count": 40,
   "metadata": {},
   "outputs": [
    {
     "data": {
      "text/plain": [
       "'Produced by Album Written By Label Assistant Engineering Mastering Mixing Engineering Co-Production Vocals Illustration Animation Release Date Remixed By'"
      ]
     },
     "execution_count": 40,
     "metadata": {},
     "output_type": "execute_result"
    }
   ],
   "source": [
    "label"
   ]
  },
  {
   "cell_type": "code",
   "execution_count": null,
   "metadata": {},
   "outputs": [],
   "source": []
  },
  {
   "cell_type": "code",
   "execution_count": null,
   "metadata": {},
   "outputs": [],
   "source": []
  }
 ],
 "metadata": {
  "kernelspec": {
   "display_name": "Python 3",
   "language": "python",
   "name": "python3"
  },
  "language_info": {
   "codemirror_mode": {
    "name": "ipython",
    "version": 3
   },
   "file_extension": ".py",
   "mimetype": "text/x-python",
   "name": "python",
   "nbconvert_exporter": "python",
   "pygments_lexer": "ipython3",
   "version": "3.6.5"
  }
 },
 "nbformat": 4,
 "nbformat_minor": 2
}
