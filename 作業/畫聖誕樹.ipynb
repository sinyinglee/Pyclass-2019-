{
 "cells": [
  {
   "cell_type": "code",
   "execution_count": 11,
   "metadata": {},
   "outputs": [
    {
     "name": "stdout",
     "output_type": "stream",
     "text": [
      "Choose size of the Christmas tree:\n",
      "15\n",
      "       *       \n",
      "      ***      \n",
      "       *       \n",
      "      ***      \n",
      "     *****     \n",
      "       *       \n",
      "      ***      \n",
      "     *****     \n",
      "    *******    \n",
      "       *       \n",
      "      ***      \n",
      "     *****     \n",
      "    *******    \n",
      "   *********   \n",
      "       *       \n",
      "      ***      \n",
      "     *****     \n",
      "    *******    \n",
      "   *********   \n",
      "  ***********  \n",
      "       *       \n",
      "      ***      \n",
      "     *****     \n",
      "    *******    \n",
      "   *********   \n",
      "  ***********  \n",
      " ************* \n",
      "       *       \n",
      "      ***      \n",
      "     *****     \n",
      "    *******    \n",
      "   *********   \n",
      "  ***********  \n",
      " ************* \n",
      "***************\n"
     ]
    }
   ],
   "source": [
    "def print_segment(n, total_width):\n",
    "    for size in range(1, n+1, 2):\n",
    "        print((size * \"*\").center(total_width))\n",
    "\n",
    "def print_tree(size):\n",
    "    for i in range(3, size+1, 2):\n",
    "        print_segment(i, size)\n",
    "\n",
    "print(\"Choose size of the Christmas tree:\")\n",
    "n = int(input())\n",
    "print_tree(n)"
   ]
  },
  {
   "cell_type": "code",
   "execution_count": 13,
   "metadata": {},
   "outputs": [
    {
     "name": "stdout",
     "output_type": "stream",
     "text": [
      "    *     \n",
      "   ***    \n",
      "  *****   \n",
      " *******  \n",
      "********* \n"
     ]
    }
   ],
   "source": [
    "def print_segment(n):\n",
    "    for size in range(1, n+1, 2):\n",
    "        print((size * \"*\").center(n))\n",
    "\n",
    "print_segment(10)"
   ]
  },
  {
   "cell_type": "code",
   "execution_count": null,
   "metadata": {},
   "outputs": [],
   "source": []
  }
 ],
 "metadata": {
  "kernelspec": {
   "display_name": "Python 3",
   "language": "python",
   "name": "python3"
  },
  "language_info": {
   "codemirror_mode": {
    "name": "ipython",
    "version": 3
   },
   "file_extension": ".py",
   "mimetype": "text/x-python",
   "name": "python",
   "nbconvert_exporter": "python",
   "pygments_lexer": "ipython3",
   "version": "3.7.3"
  }
 },
 "nbformat": 4,
 "nbformat_minor": 2
}
