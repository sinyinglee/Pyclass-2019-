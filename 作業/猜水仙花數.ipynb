{
 "cells": [
  {
   "cell_type": "markdown",
   "metadata": {},
   "source": [
    "### 水仙花數是一個三位數，每個位上數字的3次方和等於它本身(例如：1^3 + 5^3+ 3^3 = 153)"
   ]
  },
  {
   "cell_type": "code",
   "execution_count": 9,
   "metadata": {},
   "outputs": [],
   "source": [
    "def narcissistic_number(first, second, third):\n",
    "    for i in range(100,1000):\n",
    "\n",
    "        first = int(i / 100)\n",
    "\n",
    "        second = int((i % 100) / 10)\n",
    "\n",
    "        third = int((i % 100) % 10 )\n",
    "\n",
    "        sum = first **3 + second **3 + third **3 \n",
    "\n",
    "    if sum == i:\n",
    "        print(str(sum)+\" \"+\"是水仙花數\")\n",
    "    else:\n",
    "        print(str(sum)+ \" 不是水仙花數\")"
   ]
  },
  {
   "cell_type": "code",
   "execution_count": 10,
   "metadata": {},
   "outputs": [
    {
     "name": "stdout",
     "output_type": "stream",
     "text": [
      "2187 不是水仙花數\n"
     ]
    }
   ],
   "source": [
    "narcissistic_number(20,30,40)"
   ]
  },
  {
   "cell_type": "code",
   "execution_count": null,
   "metadata": {},
   "outputs": [],
   "source": []
  }
 ],
 "metadata": {
  "kernelspec": {
   "display_name": "Python 3",
   "language": "python",
   "name": "python3"
  },
  "language_info": {
   "codemirror_mode": {
    "name": "ipython",
    "version": 3
   },
   "file_extension": ".py",
   "mimetype": "text/x-python",
   "name": "python",
   "nbconvert_exporter": "python",
   "pygments_lexer": "ipython3",
   "version": "3.7.3"
  }
 },
 "nbformat": 4,
 "nbformat_minor": 2
}
