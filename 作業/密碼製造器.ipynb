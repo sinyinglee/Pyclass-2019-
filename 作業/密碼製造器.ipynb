{
 "cells": [
  {
   "cell_type": "code",
   "execution_count": 3,
   "metadata": {},
   "outputs": [
    {
     "name": "stdout",
     "output_type": "stream",
     "text": [
      "請輸入密碼所需的長度（6-12之間）8\n",
      "請輸入所需的字母個數： 4\n",
      "請輸入所需的數字個數： 4\n",
      "這是你的密碼 0Jn626GT\n"
     ]
    }
   ],
   "source": [
    "import random\n",
    "\n",
    "char_set=['a','b','c','d','e','f','g','h','i','j','k','l','m','n','o',\n",
    "        'p','q','r','s','t','u','v','w','x','y','z','A','B','C','D',\n",
    "        'E','F','G','H','I','J','K','L','M','N','O','P','Q','R','S','T',\n",
    "        'U','V','W','X','Y','Z','0','1','2','3','4','5','6','7','8','9',\n",
    "        '!','@','#','$','%','^','&','*','(',')','{','}','[',']','=','+','-',\n",
    "        '_','/','.',';',':','?','<','>','\\'','|','\\\\']\n",
    "alphabet=['a','b','c','d','e','f','g','h','i','j','k','l','m','n','o',\n",
    "        'p','q','r','s','t','u','v','w','x','y','z','A','B','C','D',\n",
    "        'E','F','G','H','I','J','K','L','M','N','O','P','Q','R','S','T',\n",
    "        'U','V','W','X','Y','Z']\n",
    "numbers=['0','1','2','3','4','5','6','7','8','9']\n",
    "symbols=['!','@','#','$','%','^','&','*','(',')','{','}','[',']','=','+','-',\n",
    "         '_','/','.',';',':','?','<','>','\\'','|','\\\\']\n",
    "\n",
    "pswrd_len=int(input(\"請輸入密碼所需的長度（6-12之間）\"))\n",
    "no_of_letters=int(input(\"請輸入所需的字母個數： \"))\n",
    "no_of_number=int(input(\"請輸入所需的數字個數： \"))\n",
    "no_of_symbols=pswrd_len-no_of_number-no_of_letters\n",
    "password=\"\"\n",
    "while pswrd_len!=len(password):\n",
    "    while no_of_letters!=0:\n",
    "        password=password+random.choice(alphabet)\n",
    "        no_of_letters-=1\n",
    "    while no_of_symbols!=0:\n",
    "        password=password+random.choice(symbols)\n",
    "        no_of_symbols-=1\n",
    "    while no_of_number!=0:\n",
    "        password=password+random.choice(numbers)\n",
    "        no_of_number-=1\n",
    "p_list=list(password)\n",
    "random.shuffle(p_list)\n",
    "password=\"\".join(p_list)\n",
    "print(\"這是你的密碼 \"+password)"
   ]
  },
  {
   "cell_type": "code",
   "execution_count": null,
   "metadata": {},
   "outputs": [],
   "source": []
  }
 ],
 "metadata": {
  "kernelspec": {
   "display_name": "Python 3",
   "language": "python",
   "name": "python3"
  },
  "language_info": {
   "codemirror_mode": {
    "name": "ipython",
    "version": 3
   },
   "file_extension": ".py",
   "mimetype": "text/x-python",
   "name": "python",
   "nbconvert_exporter": "python",
   "pygments_lexer": "ipython3",
   "version": "3.7.3"
  }
 },
 "nbformat": 4,
 "nbformat_minor": 2
}
