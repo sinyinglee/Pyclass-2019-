{
 "cells": [
  {
   "cell_type": "code",
   "execution_count": null,
   "metadata": {},
   "outputs": [],
   "source": [
    "### Python做剪刀、石頭、不"
   ]
  },
  {
   "cell_type": "code",
   "execution_count": 10,
   "metadata": {},
   "outputs": [
    {
     "name": "stdout",
     "output_type": "stream",
     "text": [
      "[1] Stone\n",
      "[2] Paper\n",
      "[3] Scissor\n",
      "Round:  1\n",
      "User: 1\n",
      "Computer: 3\n",
      "Winner: User\n",
      "\n",
      "\n",
      "Round:  2\n",
      "User: 3\n",
      "Computer: 3\n",
      "Winner: Draw\n",
      "\n",
      "\n",
      "Round:  3\n",
      "User: 2\n",
      "Computer: 2\n",
      "Winner: Draw\n",
      "\n",
      "\n",
      "Round:  4\n",
      "User: 2\n",
      "Computer: 3\n",
      "Winner: Computer\n",
      "\n",
      "\n",
      "Round:  5\n",
      "User: end\n",
      "End The Game\n"
     ]
    }
   ],
   "source": [
    "from random import randint\n",
    "\n",
    "print('[1] Stone')\n",
    "print('[2] Paper')\n",
    "print('[3] Scissor')\n",
    "\n",
    "rounds = 1\n",
    "for a in range(5):\n",
    "    com = randint(1,3)\n",
    "    print ('Round: ', rounds)\n",
    "    rounds = rounds + 1\n",
    "    user = input(\"User: \")\n",
    "    if user == \"end\":\n",
    "        print(\"End The Game\")\n",
    "        break\n",
    "    else:\n",
    "        user = eval(user)\n",
    "        print ('Computer:', com)\n",
    "\n",
    "        if user == 1 and com == 1:\n",
    "            print ('Winner: Draw')\n",
    "        elif user == 2 and com ==2:\n",
    "            print ('Winner: Draw')\n",
    "        elif user == 3 and com == 3:\n",
    "            print ('Winner: Draw')\n",
    "        elif user == 1 and com == 2:\n",
    "            print ('Winner: Computer')\n",
    "        elif user == 1 and com == 3:\n",
    "            print ('Winner: User')\n",
    "        elif user == 2 and com == 1:\n",
    "            print ('Winner: User')\n",
    "        elif user == 2 and com == 3:\n",
    "            print ('Winner: Computer')\n",
    "        elif user == 3 and com == 1:\n",
    "            print ('Winner: Computer')\n",
    "        elif user == 3 and com == 2:\n",
    "            print ('Winner: Computer')\n",
    "\n",
    "        else:\n",
    "            print('Invalid')\n",
    "\n",
    "        print('\\n')"
   ]
  },
  {
   "cell_type": "code",
   "execution_count": null,
   "metadata": {},
   "outputs": [],
   "source": []
  }
 ],
 "metadata": {
  "kernelspec": {
   "display_name": "Python 3",
   "language": "python",
   "name": "python3"
  },
  "language_info": {
   "codemirror_mode": {
    "name": "ipython",
    "version": 3
   },
   "file_extension": ".py",
   "mimetype": "text/x-python",
   "name": "python",
   "nbconvert_exporter": "python",
   "pygments_lexer": "ipython3",
   "version": "3.7.3"
  }
 },
 "nbformat": 4,
 "nbformat_minor": 2
}
