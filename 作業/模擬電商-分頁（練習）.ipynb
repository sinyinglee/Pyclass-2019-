{
 "cells": [
  {
   "cell_type": "code",
   "execution_count": 1,
   "metadata": {},
   "outputs": [],
   "source": [
    "import requests"
   ]
  },
  {
   "cell_type": "code",
   "execution_count": 2,
   "metadata": {},
   "outputs": [
    {
     "data": {
      "text/plain": [
       "'Hello there, Mandy Lee!'"
      ]
     },
     "execution_count": 2,
     "metadata": {},
     "output_type": "execute_result"
    }
   ],
   "source": [
    "params = {\"firstname\": \"Mandy\", \"lastname\": \"Lee\"}\n",
    "res = requests.post(url =\"http://pythonscraping.com/pages/files/processing.php\" , data = params)\n",
    "res.text"
   ]
  },
  {
   "cell_type": "code",
   "execution_count": 3,
   "metadata": {},
   "outputs": [],
   "source": [
    "import requests\n",
    "from pyquery import PyQuery as pq\n",
    "response = requests.get(\"https://www.webscraper.io/test-sites/e-commerce/static\") \n",
    "doc= pq(response.text)"
   ]
  },
  {
   "cell_type": "code",
   "execution_count": 23,
   "metadata": {},
   "outputs": [],
   "source": [
    "def crawlThisPage(doc):\n",
    "    collection_list = []\n",
    "    print(len(doc(\".thumbnail\")))\n",
    "    nextDoc = doc\n",
    "    while True:\n",
    "        for eachitem in nextDoc(\".thumbnail\").items():\n",
    "            itemDict = {}\n",
    "            itemDict[\"title\"] = eachitem(\".title\").text() #每個商品名稱\n",
    "            itemDict[\"price\"] = float(eachitem(\".price\").text().replace(\"$\", \"\")) #每個商品價格\n",
    "            collection_list.append(itemDict)\n",
    "        print(doc(\".pagination > li.active + li > a\").attr(\"href\"))\n",
    "        if not nextDoc(\".pagination > li.active + li > a\").attr(\"href\") : # if nextDoc(\".pagination > li.active + li > a\").attr(\"href\")) == None\n",
    "            break\n",
    "        nextDoc = pq(nextDoc(\".pagination > li.active + li > a\").attr(\"href\")) #用成連結\n",
    "    return collection_list"
   ]
  },
  {
   "cell_type": "code",
   "execution_count": 24,
   "metadata": {},
   "outputs": [
    {
     "name": "stdout",
     "output_type": "stream",
     "text": [
      "6\n",
      "http://webscraperio.us-east-1.elasticbeanstalk.com/test-sites/e-commerce/static/computers/laptops?page=2\n",
      "http://webscraperio.us-east-1.elasticbeanstalk.com/test-sites/e-commerce/static/computers/laptops?page=2\n",
      "http://webscraperio.us-east-1.elasticbeanstalk.com/test-sites/e-commerce/static/computers/laptops?page=2\n",
      "http://webscraperio.us-east-1.elasticbeanstalk.com/test-sites/e-commerce/static/computers/laptops?page=2\n",
      "http://webscraperio.us-east-1.elasticbeanstalk.com/test-sites/e-commerce/static/computers/laptops?page=2\n",
      "http://webscraperio.us-east-1.elasticbeanstalk.com/test-sites/e-commerce/static/computers/laptops?page=2\n",
      "http://webscraperio.us-east-1.elasticbeanstalk.com/test-sites/e-commerce/static/computers/laptops?page=2\n",
      "http://webscraperio.us-east-1.elasticbeanstalk.com/test-sites/e-commerce/static/computers/laptops?page=2\n",
      "http://webscraperio.us-east-1.elasticbeanstalk.com/test-sites/e-commerce/static/computers/laptops?page=2\n",
      "http://webscraperio.us-east-1.elasticbeanstalk.com/test-sites/e-commerce/static/computers/laptops?page=2\n",
      "http://webscraperio.us-east-1.elasticbeanstalk.com/test-sites/e-commerce/static/computers/laptops?page=2\n",
      "http://webscraperio.us-east-1.elasticbeanstalk.com/test-sites/e-commerce/static/computers/laptops?page=2\n",
      "http://webscraperio.us-east-1.elasticbeanstalk.com/test-sites/e-commerce/static/computers/laptops?page=2\n",
      "http://webscraperio.us-east-1.elasticbeanstalk.com/test-sites/e-commerce/static/computers/laptops?page=2\n",
      "http://webscraperio.us-east-1.elasticbeanstalk.com/test-sites/e-commerce/static/computers/laptops?page=2\n",
      "http://webscraperio.us-east-1.elasticbeanstalk.com/test-sites/e-commerce/static/computers/laptops?page=2\n",
      "http://webscraperio.us-east-1.elasticbeanstalk.com/test-sites/e-commerce/static/computers/laptops?page=2\n",
      "http://webscraperio.us-east-1.elasticbeanstalk.com/test-sites/e-commerce/static/computers/laptops?page=2\n",
      "http://webscraperio.us-east-1.elasticbeanstalk.com/test-sites/e-commerce/static/computers/laptops?page=2\n",
      "http://webscraperio.us-east-1.elasticbeanstalk.com/test-sites/e-commerce/static/computers/laptops?page=2\n",
      "6\n",
      "http://webscraperio.us-east-1.elasticbeanstalk.com/test-sites/e-commerce/static/computers/tablets?page=2\n",
      "http://webscraperio.us-east-1.elasticbeanstalk.com/test-sites/e-commerce/static/computers/tablets?page=2\n",
      "http://webscraperio.us-east-1.elasticbeanstalk.com/test-sites/e-commerce/static/computers/tablets?page=2\n",
      "http://webscraperio.us-east-1.elasticbeanstalk.com/test-sites/e-commerce/static/computers/tablets?page=2\n",
      "6\n",
      "http://webscraperio.us-east-1.elasticbeanstalk.com/test-sites/e-commerce/static/phones/touch?page=2\n",
      "http://webscraperio.us-east-1.elasticbeanstalk.com/test-sites/e-commerce/static/phones/touch?page=2\n"
     ]
    }
   ],
   "source": [
    "#part 1\n",
    "dataset = []\n",
    "doc.make_links_absolute(base_url = response.url)\n",
    "for eachCate in doc(\"#side-menu > li:nth-child(n+2) > a\").items(): #從主選單下跑出subcate, 可迭代呼叫（for loop可一直呼叫）\n",
    "#     print(eachCate.attr(\"href\"))\n",
    "    lv1Doc= pq(eachCate.attr(\"href\"))\n",
    "    lv1Doc.make_links_absolute(base_url = response.url) #加入這條使成為可以被使用的網址\n",
    "    #產生路徑，但是是無法被使用的網址\n",
    "    for eachsubCate in lv1Doc(\"#side-menu > li.active > ul > li > a\").items():\n",
    "        lv2Doc= pq(eachsubCate.attr(\"href\"))\n",
    "    # part 2\n",
    "        dataset.extend(crawlThisPage(lv2Doc)) #extend, 把小list裡頭每個東西拆開放入list"
   ]
  },
  {
   "cell_type": "code",
   "execution_count": 20,
   "metadata": {},
   "outputs": [
    {
     "data": {
      "text/plain": [
       "[{'title': 'Packard 255 G2', 'price': 416.99},\n",
       " {'title': 'Aspire E1-510', 'price': 306.99},\n",
       " {'title': 'ThinkPad T540p', 'price': 1178.99},\n",
       " {'title': 'ProBook', 'price': 739.99},\n",
       " {'title': 'ThinkPad X240', 'price': 1311.99},\n",
       " {'title': 'Aspire E1-572G', 'price': 581.99},\n",
       " {'title': 'Lenovo IdeaTab', 'price': 69.99},\n",
       " {'title': 'Acer Iconia', 'price': 96.99},\n",
       " {'title': 'Asus MeMO Pad', 'price': 102.99},\n",
       " {'title': 'Amazon Kindle', 'price': 103.99},\n",
       " {'title': 'iPad Mini Retina', 'price': 537.99},\n",
       " {'title': 'IdeaTab A3500L', 'price': 88.99},\n",
       " {'title': 'Nokia 123', 'price': 24.99},\n",
       " {'title': 'LG Optimus', 'price': 57.99},\n",
       " {'title': 'Samsung Galaxy', 'price': 93.99},\n",
       " {'title': 'Nokia X', 'price': 109.99},\n",
       " {'title': 'Sony Xperia', 'price': 118.99},\n",
       " {'title': 'Ubuntu Edge', 'price': 499.99}]"
      ]
     },
     "execution_count": 20,
     "metadata": {},
     "output_type": "execute_result"
    }
   ],
   "source": [
    "dataset"
   ]
  },
  {
   "cell_type": "code",
   "execution_count": null,
   "metadata": {},
   "outputs": [],
   "source": []
  }
 ],
 "metadata": {
  "kernelspec": {
   "display_name": "Python 3",
   "language": "python",
   "name": "python3"
  },
  "language_info": {
   "codemirror_mode": {
    "name": "ipython",
    "version": 3
   },
   "file_extension": ".py",
   "mimetype": "text/x-python",
   "name": "python",
   "nbconvert_exporter": "python",
   "pygments_lexer": "ipython3",
   "version": "3.7.3"
  }
 },
 "nbformat": 4,
 "nbformat_minor": 2
}
