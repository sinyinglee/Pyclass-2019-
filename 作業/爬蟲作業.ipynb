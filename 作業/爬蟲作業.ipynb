{
 "cells": [
  {
   "cell_type": "code",
   "execution_count": 91,
   "metadata": {},
   "outputs": [],
   "source": [
    "import requests\n",
    "from pyquery import PyQuery as pq\n",
    "response = requests.get(\"https://www.billboard.com/charts/year-end/2017/hot-100-songs\") \n",
    "doc= pq(response.text)"
   ]
  },
  {
   "cell_type": "code",
   "execution_count": 92,
   "metadata": {},
   "outputs": [],
   "source": [
    "name_list = []\n",
    "song_list=[]\n",
    "combine_list = []\n",
    "outer_list = []"
   ]
  },
  {
   "cell_type": "code",
   "execution_count": 97,
   "metadata": {},
   "outputs": [
    {
     "name": "stdout",
     "output_type": "stream",
     "text": [
      "1\n",
      "Shape Of You by Ed Sheeran\n",
      "87\n",
      "Sign Of The Times by Harry Styles\n",
      "9\n",
      "Believer by Imagine Dragons\n",
      "22\n",
      "Attention by Charlie Puth\n",
      "12\n",
      "I'm The One by DJ Khaled Featuring Justin Bieber, Quavo, Chance The Rapper & Lil Wayne\n",
      "88\n",
      "Water Under The Bridge by Adele\n",
      "98\n",
      "Do Re Mi by blackbear\n",
      "13\n",
      "XO TOUR Llif3 by Lil Uzi Vert\n",
      "66\n",
      "Loyalty. by Kendrick Lamar Featuring Rihanna\n",
      "54\n",
      "Mercy by Shawn Mendes\n",
      "-1\n"
     ]
    }
   ],
   "source": [
    "import requests\n",
    "from pyquery import PyQuery as pq\n",
    "response = requests.get(\"https://www.billboard.com/charts/year-end/2017/hot-100-songs\") \n",
    "doc= pq(response.text)\n",
    "name_list = []\n",
    "song_list=[]\n",
    "combine_list = []\n",
    "outer_list = []\n",
    "\n",
    "for eachitem in doc(\"#main > div.container.container--xxlight-grey.container--no-side-padding > div > div > div.chart-details__item-list > article > div.ye-chart-item__primary-row > div.ye-chart-item__text > div.ye-chart-item__title\").items():\n",
    "    song=eachitem.text()\n",
    "    song_list.append(song)\n",
    "    \n",
    "for item in doc(\"#main > div.container.container--xxlight-grey.container--no-side-padding > div > div > div.chart-details__item-list > article > div.ye-chart-item__primary-row > div.ye-chart-item__text > div.ye-chart-item__artist\").items():\n",
    "    singer = item.text()\n",
    "    name_list.append(singer)\n",
    "    \n",
    "for i in range(100):\n",
    "    combine_list = []\n",
    "    combine_list.append(song_list[i])\n",
    "    combine_list.append(name_list[i])\n",
    "    outer_list.append(combine_list)\n",
    "\n",
    "while True:\n",
    "    num = input()\n",
    "    if num == \"-1\":\n",
    "        break\n",
    "    index = int(num)-1\n",
    "    print(\"{} by {}\".format(outer_list[index][0], outer_list[index][1]))\n",
    "    \n",
    "\n"
   ]
  },
  {
   "cell_type": "code",
   "execution_count": 148,
   "metadata": {},
   "outputs": [],
   "source": []
  },
  {
   "cell_type": "code",
   "execution_count": 149,
   "metadata": {},
   "outputs": [
    {
     "data": {
      "text/plain": [
       "'Delish'"
      ]
     },
     "execution_count": 149,
     "metadata": {},
     "output_type": "execute_result"
    }
   ],
   "source": [
    "doc(\"#slide-1 > div.slideshow-slide-content > div.slideshow-slide-dek > p:nth-child(2) > a\").text()"
   ]
  },
  {
   "cell_type": "code",
   "execution_count": 2,
   "metadata": {},
   "outputs": [
    {
     "name": "stdout",
     "output_type": "stream",
     "text": [
      "1\n",
      "Ramen Burger\n",
      "None\n"
     ]
    }
   ],
   "source": [
    "import requests\n",
    "from pyquery import PyQuery as pq\n",
    "response = requests.get(\"https://www.delish.com/food/g3758/best-food-trends-2016/?slide=1\") \n",
    "doc= pq(response.text)\n",
    "\n",
    "outer_list = []\n",
    "doc.make_links_absolute(base_url = response.url)\n",
    "for i in range(30):\n",
    "    emp_list = []\n",
    "    food_name=doc(\"#slide-{} > div.slideshow-slide-content > div.slideshow-slide-hed\".format(i)).text()\n",
    "    emp_list.append(food_name)\n",
    "    url_link = doc(\"#slide-{} > div.slideshow-slide-content > div.slideshow-slide-dek > p:nth-child(2) > a\".format(i))\n",
    "    emp_list.append(url_link.attr(\"href\"))\n",
    "    outer_list.append(emp_list)\n",
    "\n",
    "num = int(input())\n",
    "i=0\n",
    "while i < num:\n",
    "    food = input()\n",
    "    i+=1\n",
    "    for item in outer_list:\n",
    "        if food == item[0]:\n",
    "            print(item[1])"
   ]
  },
  {
   "cell_type": "code",
   "execution_count": 128,
   "metadata": {},
   "outputs": [
    {
     "name": "stdout",
     "output_type": "stream",
     "text": [
      "Bulbasaur\n",
      "2 KM\n",
      "-1\n"
     ]
    }
   ],
   "source": [
    "import requests\n",
    "from pyquery import PyQuery as pq\n",
    "response = requests.get(\"https://rankedboost.com/pokemon-go/pokedex/\") \n",
    "doc= pq(response.text)\n",
    "name = []\n",
    "url = []\n",
    "\n",
    "for i in range(1, 506):\n",
    "    poke_name= doc(\"#gg > tr:nth-child({}) > td.first_col.ForTheBeans > span > a > span\".format(i)).text()\n",
    "    name.append(poke_name)\n",
    "    \n",
    "doc.make_links_absolute(base_url = response.url)   \n",
    "for i in range(2, 507):\n",
    "    get_url = doc(\"#gg > tr:nth-child({}) > td.first_col.ForTheBeans > span > a\".format(i)).attr(\"href\")\n",
    "    url.append(get_url) #有一堆url\n",
    "    \n",
    "while True:\n",
    "    ask_poke=input()\n",
    "    if ask_poke == \"-1\":\n",
    "        break\n",
    "    find_index = (name.index(ask_poke)-1)\n",
    "    find_url = url[find_index]\n",
    "    access_url = pq(find_url)\n",
    "    final_distance = access_url(\"body > div.site-container > div > div > div.container > \\\n",
    "    div > main > article > div > div.MainStatsDiv > div.MainStatsDiv2 > div.MainStatsDiv2 > \\\n",
    "    div:nth-child(2) > table > tbody > tr:nth-child(1) > td\").text()\n",
    "    print(final_distance)\n",
    "    \n",
    "    \n",
    "    \n",
    "    \n",
    "        \n",
    "                \n",
    "            \n",
    "            \n",
    "    "
   ]
  },
  {
   "cell_type": "code",
   "execution_count": 149,
   "metadata": {
    "scrolled": false
   },
   "outputs": [
    {
     "name": "stdout",
     "output_type": "stream",
     "text": [
      "2018/01/02,USD,100\n",
      "2018/01/02, 100 USD = 2966 NTD (rate: 29.665)\n",
      "2018/01/04,USD,23\n",
      "2018/01/04, 23 USD = 681 NTD (rate: 29.63)\n",
      "-1\n"
     ]
    }
   ],
   "source": [
    "import requests\n",
    "from pyquery import PyQuery as pq\n",
    "\n",
    "magic_dict = {'USD':1,'HKD':2,'GBP':3,'AUD':4,'CAD':5,'SGD':6,'CHF':7,\n",
    "              'JPY':8,'ZAR':9,'SEK':10, 'NZD':11,'THB':12,'PHP':13,'IDR':14,'EUR':15,\n",
    "              'KRW':16,'VND':17,'MYR':18,'CNY':19 }\n",
    "while True:\n",
    "    exchange_list = []\n",
    "    input_value= input()\n",
    "    if input_value == \"-1\":\n",
    "        break\n",
    "    date, nation, money = input_value.split(\",\")\n",
    "    year, month, day = date.split(\"/\")\n",
    "    response = requests.get(\"https://rate.bot.com.tw/xrt/all/{}-{}-{}\".format(year, month, day)) \n",
    "    doc= pq(response.text)\n",
    "    for i in range(20):\n",
    "        exchange=doc(\"body > div.page-wrapper > main > div:nth-child(4) > \\\n",
    "        table > tbody > tr:nth-child({}) > td:nth-child(5)\".format(i)).text() #所有外幣的匯率\n",
    "        exchange_list.append(exchange)\n",
    "    for key, value in magic_dict.items():\n",
    "        if nation == key:\n",
    "            rate = exchange_list[value]\n",
    "    result = round(int(money) * float(rate))\n",
    "    magic_str = ('{}, {} {} = {} NTD (rate: {})'.format(date,money,nation,result,rate))\n",
    "    print(magic_str)\n",
    "        \n",
    "    \n",
    "    \n",
    "\n",
    "\n"
   ]
  },
  {
   "cell_type": "code",
   "execution_count": null,
   "metadata": {},
   "outputs": [],
   "source": [
    "2018/01/02,USD,100\n",
    "2018/01/04,USD,23\n",
    "2018/02/12,AUD,200\n",
    "2018/02/14,AUD,123\n",
    "2018/04/26,HKD,1234\n",
    "2018/04/27,HKD,2000\n",
    "-1"
   ]
  },
  {
   "cell_type": "code",
   "execution_count": null,
   "metadata": {},
   "outputs": [],
   "source": [
    "2018/01/02, 100 USD = 2966 NTD (rate: 29.665)\n",
    "2018/01/04, 23 USD = 681 NTD (rate: 29.63)\n",
    "2018/02/12, 200 AUD = 4616 NTD (rate: 23.08)\n",
    "2018/02/14, 123 AUD = 2852 NTD (rate: 23.19)\n",
    "2018/04/26, 1234 HKD = 4708 NTD (rate: 3.815)\n",
    "2018/04/27, 2000 HKD = 7608 NTD (rate: 3.804)"
   ]
  },
  {
   "cell_type": "code",
   "execution_count": 67,
   "metadata": {},
   "outputs": [],
   "source": [
    "#part 1\n",
    "dataset = []\n",
    "doc.make_links_absolute(base_url = response.url)\n",
    "for eachCate in doc(\"#side-menu > li:nth-child(n+2) > a\").items(): #從主選單下跑出subcate, 可迭代呼叫（for loop可一直呼叫）\n",
    "    print(eachCate.attr(\"href\"))\n",
    "    lv1Doc= pq(eachCate.attr(\"href\"))\n",
    "    lv1Doc.make_links_absolute(base_url = response.url) #加入這條使成為可以被使用的網址\n",
    "    #產生路徑，但是是無法被使用的網址\n",
    "    for eachsubCate in lv1Doc(\"#side-menu > li.active > ul > li > a\").items():\n",
    "        print(eachsubCate.attr(\"href\"))\n",
    "        lv2Doc= pq(eachsubCate.attr(\"href\"))\n",
    "    # part 2\n",
    "        dataset.extend(crawlThisPage(lv2Doc)) #extend, 把小list裡頭每個東西拆開放入list"
   ]
  },
  {
   "cell_type": "code",
   "execution_count": null,
   "metadata": {},
   "outputs": [],
   "source": [
    "def crawlThisPage(doc):\n",
    "    collection_list = []\n",
    "    print(len(doc(\".thumbnail\")))\n",
    "    for eachitem in doc(\".thumbnail\").items():\n",
    "        itemDict = {}\n",
    "        itemDict[\"title\"] = eachitem(\".title\").text() #每個商品名稱\n",
    "        itemDict[\"price\"] = float(eachitem(\".price\").text().replace(\"$\", \"\")) #每個商品價格\n",
    "        collection_list.append(itemDict)\n",
    "    return collection_list"
   ]
  },
  {
   "cell_type": "code",
   "execution_count": 126,
   "metadata": {},
   "outputs": [],
   "source": [
    "import requests\n",
    "from pyquery import PyQuery as pq\n",
    "response = requests.get(\"https://rate.bot.com.tw/xrt/history\") \n",
    "doc= pq(response.text)"
   ]
  },
  {
   "cell_type": "code",
   "execution_count": 127,
   "metadata": {},
   "outputs": [
    {
     "name": "stdout",
     "output_type": "stream",
     "text": [
      "2018\n",
      "2017\n"
     ]
    }
   ],
   "source": [
    "#如何點選「查詢」進入下一頁\n",
    "print(doc(\"body > div.page-wrapper > main > \\\n",
    "div:nth-child(4) > div.gallery-wrapper > form:nth-child(2) > div.control-group > div > div > select:nth-child(2)\").text())\n"
   ]
  },
  {
   "cell_type": "code",
   "execution_count": null,
   "metadata": {},
   "outputs": [],
   "source": []
  },
  {
   "cell_type": "code",
   "execution_count": null,
   "metadata": {},
   "outputs": [],
   "source": []
  }
 ],
 "metadata": {
  "kernelspec": {
   "display_name": "Python 3",
   "language": "python",
   "name": "python3"
  },
  "language_info": {
   "codemirror_mode": {
    "name": "ipython",
    "version": 3
   },
   "file_extension": ".py",
   "mimetype": "text/x-python",
   "name": "python",
   "nbconvert_exporter": "python",
   "pygments_lexer": "ipython3",
   "version": "3.6.5"
  }
 },
 "nbformat": 4,
 "nbformat_minor": 2
}
