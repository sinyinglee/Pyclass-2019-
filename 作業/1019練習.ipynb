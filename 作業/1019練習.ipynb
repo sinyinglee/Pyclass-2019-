{
 "cells": [
  {
   "cell_type": "markdown",
   "metadata": {},
   "source": [
    "### 猜數字\n",
    "例如：預設答案為1234，玩家輸入：0243，則輸出1A2B。(A前面的數字表示位置正確的數的個數，B前的數字表示\n",
    "數字正確但位置不對"
   ]
  },
  {
   "cell_type": "code",
   "execution_count": 2,
   "metadata": {},
   "outputs": [],
   "source": [
    "import random"
   ]
  },
  {
   "cell_type": "code",
   "execution_count": 3,
   "metadata": {},
   "outputs": [],
   "source": [
    "num_list = [1,2,3,4,5,6,7,8,9]"
   ]
  },
  {
   "cell_type": "code",
   "execution_count": 4,
   "metadata": {},
   "outputs": [],
   "source": [
    "pick_num = random.sample(num_list,4) #取出4個不重複的數字"
   ]
  },
  {
   "cell_type": "code",
   "execution_count": 5,
   "metadata": {},
   "outputs": [
    {
     "name": "stdout",
     "output_type": "stream",
     "text": [
      "[2, 5, 4, 9]\n"
     ]
    }
   ],
   "source": [
    "pick_num #int list\n",
    "def string(i):\n",
    "    k = str(i)\n",
    "    return k \n",
    "make_string = list(map(string, pick_num)) #string int\n",
    "print(pick_num)"
   ]
  },
  {
   "cell_type": "code",
   "execution_count": 6,
   "metadata": {},
   "outputs": [
    {
     "name": "stdout",
     "output_type": "stream",
     "text": [
      ">> 請輸入數字 1234\n",
      "0A2B\n"
     ]
    }
   ],
   "source": [
    "check_str=[]\n",
    "check_num=[]\n",
    "user_num = input(\">> 請輸入數字 \")\n",
    "for i in range(4):\n",
    "    if user_num[i] == make_string[i]:\n",
    "        check_str.append(\"T\")\n",
    "    else: \n",
    "         check_str.append(\"F\")    \n",
    "    if int(user_num[i]) in pick_num:\n",
    "        check_num.append(\"T\")      \n",
    "    else:\n",
    "        check_num.append(\"F\")\n",
    "        \n",
    "        \n",
    "count1= check_str.count(\"T\") #算A\n",
    "count2= check_num.count(\"T\") #算B\n",
    "print(f\"{count1}A{count2}B\")\n",
    "\n",
    "\n"
   ]
  },
  {
   "cell_type": "markdown",
   "metadata": {},
   "source": [
    "## 1. 猜數字完整Code"
   ]
  },
  {
   "cell_type": "code",
   "execution_count": 7,
   "metadata": {},
   "outputs": [],
   "source": [
    "import random"
   ]
  },
  {
   "cell_type": "code",
   "execution_count": 18,
   "metadata": {},
   "outputs": [
    {
     "name": "stdout",
     "output_type": "stream",
     "text": [
      ">> 請輸入數字 1234\n",
      "0A2B\n",
      ">> 請輸入數字 \n"
     ]
    },
    {
     "ename": "IndexError",
     "evalue": "string index out of range",
     "output_type": "error",
     "traceback": [
      "\u001b[0;31m---------------------------------------------------------------------------\u001b[0m",
      "\u001b[0;31mIndexError\u001b[0m                                Traceback (most recent call last)",
      "\u001b[0;32m<ipython-input-18-b20eda44f60c>\u001b[0m in \u001b[0;36m<module>\u001b[0;34m\u001b[0m\n\u001b[1;32m     14\u001b[0m     \u001b[0muser_num\u001b[0m \u001b[0;34m=\u001b[0m \u001b[0minput\u001b[0m\u001b[0;34m(\u001b[0m\u001b[0;34m\">> 請輸入數字 \"\u001b[0m\u001b[0;34m)\u001b[0m\u001b[0;34m\u001b[0m\u001b[0;34m\u001b[0m\u001b[0m\n\u001b[1;32m     15\u001b[0m     \u001b[0;32mfor\u001b[0m \u001b[0mi\u001b[0m \u001b[0;32min\u001b[0m \u001b[0mrange\u001b[0m\u001b[0;34m(\u001b[0m\u001b[0;36m4\u001b[0m\u001b[0;34m)\u001b[0m\u001b[0;34m:\u001b[0m\u001b[0;34m\u001b[0m\u001b[0;34m\u001b[0m\u001b[0m\n\u001b[0;32m---> 16\u001b[0;31m         \u001b[0;32mif\u001b[0m \u001b[0muser_num\u001b[0m\u001b[0;34m[\u001b[0m\u001b[0mi\u001b[0m\u001b[0;34m]\u001b[0m \u001b[0;34m==\u001b[0m \u001b[0mmake_string\u001b[0m\u001b[0;34m[\u001b[0m\u001b[0mi\u001b[0m\u001b[0;34m]\u001b[0m\u001b[0;34m:\u001b[0m\u001b[0;34m\u001b[0m\u001b[0;34m\u001b[0m\u001b[0m\n\u001b[0m\u001b[1;32m     17\u001b[0m             \u001b[0mcheck_str\u001b[0m\u001b[0;34m.\u001b[0m\u001b[0mappend\u001b[0m\u001b[0;34m(\u001b[0m\u001b[0;34m\"T\"\u001b[0m\u001b[0;34m)\u001b[0m\u001b[0;34m\u001b[0m\u001b[0;34m\u001b[0m\u001b[0m\n\u001b[1;32m     18\u001b[0m         \u001b[0;32melse\u001b[0m\u001b[0;34m:\u001b[0m\u001b[0;34m\u001b[0m\u001b[0;34m\u001b[0m\u001b[0m\n",
      "\u001b[0;31mIndexError\u001b[0m: string index out of range"
     ]
    }
   ],
   "source": [
    "num_list = [1,2,3,4,5,6,7,8,9]\n",
    "\n",
    "pick_num = random.sample(num_list,4) #取出4個不重複的數字\n",
    "\n",
    "def string(i): #每個數字都換成string\n",
    "    k = str(i)\n",
    "    return k \n",
    "\n",
    "make_string = list(map(string, pick_num)) #string int\n",
    "\n",
    "while True:\n",
    "    check_str=[]\n",
    "    check_num=[]\n",
    "    user_num = input(\">> 請輸入數字 \")\n",
    "    for i in range(4):\n",
    "        if user_num[i] == make_string[i]:\n",
    "            check_str.append(\"T\")\n",
    "        else: \n",
    "             check_str.append(\"F\")    \n",
    "        if int(user_num[i]) in pick_num:\n",
    "            check_num.append(\"T\")      \n",
    "        else:\n",
    "            check_num.append(\"F\")  \n",
    "    count1= check_str.count(\"T\") #算A\n",
    "    count2= check_num.count(\"T\") #算B\n",
    "    answer = f\"{count1}A{count2}B\"\n",
    "\n",
    "    if answer == \"4A4B\":\n",
    "        print(f\"{answer:^10s}\"+\"\\n\"+\"你簡直太神啦><\")\n",
    "        break\n",
    "    else:\n",
    "        print(answer)\n",
    "\n",
    "\n",
    "\n",
    "\n"
   ]
  },
  {
   "cell_type": "markdown",
   "metadata": {},
   "source": [
    "### 政大午餐吃什麼？"
   ]
  },
  {
   "cell_type": "code",
   "execution_count": 17,
   "metadata": {},
   "outputs": [],
   "source": [
    "import ipywidgets as widgets\n",
    "from ipywidgets import interact, interact_manual, fixed\n",
    "from IPython.display import clear_output\n",
    "from random import choice"
   ]
  },
  {
   "cell_type": "code",
   "execution_count": 18,
   "metadata": {},
   "outputs": [],
   "source": [
    "def food():\n",
    "    shop = [\"小公寓\", \"悅來麵食\", \"左撇子\", \"龐家肉羹\", \"My麵屋\", \"滇味廚房\", \"樂山食堂\", \"里克\",\"金鮨\", \"華越\", \"城市怪獸\", \"白店\", \"黑店\", \"里克\",\"Juicy Bun\", \"波波恰恰\",\"私房麵\",\"舒曼六號\"]\n",
    "    print(choice(shop))"
   ]
  },
  {
   "cell_type": "code",
   "execution_count": 19,
   "metadata": {},
   "outputs": [
    {
     "data": {
      "application/vnd.jupyter.widget-view+json": {
       "model_id": "9eb7550a80fd4317b76003169864c178",
       "version_major": 2,
       "version_minor": 0
      },
      "text/plain": [
       "interactive(children=(Button(description='Run Interact', style=ButtonStyle()), Output()), _dom_classes=('widge…"
      ]
     },
     "metadata": {},
     "output_type": "display_data"
    },
    {
     "data": {
      "text/plain": [
       "<function __main__.food()>"
      ]
     },
     "execution_count": 19,
     "metadata": {},
     "output_type": "execute_result"
    }
   ],
   "source": [
    "interact_manual(food)"
   ]
  },
  {
   "cell_type": "code",
   "execution_count": 20,
   "metadata": {},
   "outputs": [
    {
     "data": {
      "application/vnd.jupyter.widget-view+json": {
       "model_id": "3e8023e2f11049b29fc99bf7f1942bc6",
       "version_major": 2,
       "version_minor": 0
      },
      "text/plain": [
       "Button(description='吃什麼？', style=ButtonStyle())"
      ]
     },
     "metadata": {},
     "output_type": "display_data"
    }
   ],
   "source": [
    "button = widgets.Button(description='吃什麼？')\n",
    "button"
   ]
  },
  {
   "cell_type": "markdown",
   "metadata": {},
   "source": [
    "## 2. 政大午餐吃什麼？"
   ]
  },
  {
   "cell_type": "code",
   "execution_count": 21,
   "metadata": {},
   "outputs": [
    {
     "data": {
      "application/vnd.jupyter.widget-view+json": {
       "model_id": "615240a237e146cdbf7796d896c65de9",
       "version_major": 2,
       "version_minor": 0
      },
      "text/plain": [
       "VBox(children=(Button(description='吃什麼？', style=ButtonStyle(button_color='pink')), Output()))"
      ]
     },
     "metadata": {},
     "output_type": "display_data"
    }
   ],
   "source": [
    "button = widgets.Button(description='吃什麼？')\n",
    "button.style.button_color = 'pink'\n",
    "out = widgets.Output()\n",
    "\n",
    "def button_clicked(_): \n",
    "    with out: \n",
    "        clear_output() #每次都會清掉畫面\n",
    "        shop = [\"小公寓\", \"悅來麵食\", \"左撇子\", \"龐家肉羹\", \"My麵屋\", \"滇味廚房\", \"樂山食堂\", \"里克\",\"金鮨\", \"華越\", \"城市怪獸\", \"白店\", \"黑店\", \"里克\",\"Juicy Bun\", \"波波恰恰\",\"私房麵\",\"舒曼六號\"]\n",
    "        print(choice(shop))\n",
    "        \n",
    "button.on_click(button_clicked) # linking button and function together using a button's method\n",
    "widgets.VBox([button,out]) # displaying button and its output together"
   ]
  },
  {
   "cell_type": "markdown",
   "metadata": {},
   "source": [
    "## 3. 今天煮什麼呢？"
   ]
  },
  {
   "cell_type": "code",
   "execution_count": null,
   "metadata": {},
   "outputs": [],
   "source": [
    "import ipywidgets as widgets\n",
    "from ipywidgets import interact, interact_manual, fixed\n",
    "from IPython.display import clear_output, display, YouTubeVideo\n",
    "from random import choice"
   ]
  },
  {
   "cell_type": "code",
   "execution_count": 50,
   "metadata": {},
   "outputs": [],
   "source": [
    "recipe1 = YouTubeVideo(\"1uKxk6QBsk0\")\n",
    "recipe2= YouTubeVideo(\"f41mm_m6HG0\")\n",
    "recipe3= YouTubeVideo(\"QD8Hcjt1Yu8\")\n",
    "recipe4= YouTubeVideo(\"SNeokNsByMA\")\n",
    "recipe5= YouTubeVideo(\"MN1mH0CzHdw\")\n",
    "recipe6= YouTubeVideo(\"IoXtEAewhxo\")\n",
    "recipe7= YouTubeVideo(\"I7R8V8xfeFU\")"
   ]
  },
  {
   "cell_type": "code",
   "execution_count": 51,
   "metadata": {},
   "outputs": [
    {
     "data": {
      "application/vnd.jupyter.widget-view+json": {
       "model_id": "d9d09f03f53f41378422753614f904f3",
       "version_major": 2,
       "version_minor": 0
      },
      "text/plain": [
       "VBox(children=(Button(description='今天煮什麼呢？', style=ButtonStyle(button_color='lightblue')), Output()))"
      ]
     },
     "metadata": {},
     "output_type": "display_data"
    }
   ],
   "source": [
    "button = widgets.Button(description='今天煮什麼呢？')\n",
    "button.style.button_color = 'lightblue'\n",
    "out = widgets.Output()\n",
    "\n",
    "def button_clicked(_): \n",
    "    with out: \n",
    "        clear_output() #每次都會清掉畫面\n",
    "        shop = [recipe1, recipe2, recipe3, recipe4, recipe5, recipe6, recipe7]\n",
    "        r_choice = choice(shop)\n",
    "        display(r_choice)\n",
    "             \n",
    "button.on_click(button_clicked) # linking button and function together using a button's method\n",
    "widgets.VBox([button,out]) # displaying button and its output together"
   ]
  },
  {
   "cell_type": "markdown",
   "metadata": {},
   "source": [
    "## 4. 今天穿什麼呢？"
   ]
  },
  {
   "cell_type": "code",
   "execution_count": 22,
   "metadata": {},
   "outputs": [],
   "source": [
    "from IPython.display import display, Image"
   ]
  },
  {
   "cell_type": "code",
   "execution_count": 23,
   "metadata": {},
   "outputs": [],
   "source": [
    "outfit = [\"1.jpeg\", \"2.jpg\", \"3.jpeg\",\"4.jpeg\", \"5.jpeg\", \"6.jpeg\"]\n",
    "pick_pic = choice(outfit)"
   ]
  },
  {
   "cell_type": "code",
   "execution_count": 24,
   "metadata": {},
   "outputs": [
    {
     "data": {
      "image/jpeg": "[encoded data removed]",
      "text/plain": [
       "<IPython.core.display.Image object>"
      ]
     },
     "metadata": {},
     "output_type": "display_data"
    }
   ],
   "source": [
    "photo = Image (pick_pic)\n",
    "display(photo)"
   ]
  },
  {
   "cell_type": "markdown",
   "metadata": {},
   "source": []
  },
  {
   "cell_type": "code",
   "execution_count": 3,
   "metadata": {},
   "outputs": [],
   "source": []
  },
  {
   "cell_type": "code",
   "execution_count": null,
   "metadata": {},
   "outputs": [],
   "source": []
  },
  {
   "cell_type": "code",
   "execution_count": 8,
   "metadata": {},
   "outputs": [],
   "source": []
  },
  {
   "cell_type": "code",
   "execution_count": null,
   "metadata": {},
   "outputs": [],
   "source": []
  },
  {
   "cell_type": "code",
   "execution_count": null,
   "metadata": {},
   "outputs": [],
   "source": []
  },
  {
   "cell_type": "code",
   "execution_count": null,
   "metadata": {},
   "outputs": [],
   "source": []
  }
 ],
 "metadata": {
  "kernelspec": {
   "display_name": "Python 3",
   "language": "python",
   "name": "python3"
  },
  "language_info": {
   "codemirror_mode": {
    "name": "ipython",
    "version": 3
   },
   "file_extension": ".py",
   "mimetype": "text/x-python",
   "name": "python",
   "nbconvert_exporter": "python",
   "pygments_lexer": "ipython3",
   "version": "3.7.3"
  }
 },
 "nbformat": 4,
 "nbformat_minor": 2
}
