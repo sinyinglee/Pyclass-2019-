{
 "cells": [
  {
   "cell_type": "code",
   "execution_count": 2,
   "metadata": {},
   "outputs": [],
   "source": [
    "import requests\n",
    "from pyquery import PyQuery as pq"
   ]
  },
  {
   "cell_type": "code",
   "execution_count": 3,
   "metadata": {},
   "outputs": [],
   "source": [
    "def index_page(index_url): #首頁的連結\n",
    "    res = requests.get(index_url)\n",
    "    res.encoding = \"big5\" #修正文字碼\n",
    "    doc=pq(res.text)\n",
    "    doc.make_links_absolute(base_url=res.url) \n",
    "    for eachLv1Doc in doc(\".content .site-list\").items():\n",
    "        lv1_page(eachLv1Doc('a').attr(\"href\"))"
   ]
  },
  {
   "cell_type": "code",
   "execution_count": 4,
   "metadata": {},
   "outputs": [],
   "source": [
    "def lv1_page(url):\n",
    "    lv1Doc = pq(url) #取得大類別連結\n",
    "    if \"活動\" in lv1Doc(\"#cl-menucate .sitelist:nth-child(1) .stitle\") \\\n",
    "    .text():\n",
    "        for eachLv2Doc in lv1Doc(\"#cl-menucate .sitelist:nth-child(n+2) .list\").text().items():\n",
    "            print(eachLv2Doc(\"a\").attr(\"href\"))\n",
    "    else:\n",
    "        for eachLv2Doc in lv1Doc(\"#cl-menucate .sitelist .list\").text().items():\n",
    "            print(eachLv2Doc(\"a\").attr(\"href\"))"
   ]
  },
  {
   "cell_type": "code",
   "execution_count": 7,
   "metadata": {},
   "outputs": [],
   "source": [
    "def lv2_page(url):\n",
    "    Iv2Doc = pq(url)\n",
    "    for eachItem in lv2Doc(\"#srp_result_list .item\").items():\n",
    "        eachItem(\".srp-pdtitle\").text()\n",
    "        \n",
    "    \n",
    "    "
   ]
  },
  {
   "cell_type": "code",
   "execution_count": 8,
   "metadata": {},
   "outputs": [
    {
     "ename": "AttributeError",
     "evalue": "'str' object has no attribute 'items'",
     "output_type": "error",
     "traceback": [
      "\u001b[0;31m---------------------------------------------------------------------------\u001b[0m",
      "\u001b[0;31mAttributeError\u001b[0m                            Traceback (most recent call last)",
      "\u001b[0;32m<ipython-input-8-c23d53d46960>\u001b[0m in \u001b[0;36m<module>\u001b[0;34m()\u001b[0m\n\u001b[0;32m----> 1\u001b[0;31m \u001b[0mindex_page\u001b[0m\u001b[0;34m(\u001b[0m\u001b[0;34m\"https://tw.buy.yahoo.com/help/helper.asp?p=sitemap\"\u001b[0m\u001b[0;34m)\u001b[0m\u001b[0;34m\u001b[0m\u001b[0m\n\u001b[0m",
      "\u001b[0;32m<ipython-input-3-e2fc8185d7d3>\u001b[0m in \u001b[0;36mindex_page\u001b[0;34m(index_url)\u001b[0m\n\u001b[1;32m      5\u001b[0m     \u001b[0mdoc\u001b[0m\u001b[0;34m.\u001b[0m\u001b[0mmake_links_absolute\u001b[0m\u001b[0;34m(\u001b[0m\u001b[0mbase_url\u001b[0m\u001b[0;34m=\u001b[0m\u001b[0mres\u001b[0m\u001b[0;34m.\u001b[0m\u001b[0murl\u001b[0m\u001b[0;34m)\u001b[0m\u001b[0;34m\u001b[0m\u001b[0m\n\u001b[1;32m      6\u001b[0m     \u001b[0;32mfor\u001b[0m \u001b[0meachLv1Doc\u001b[0m \u001b[0;32min\u001b[0m \u001b[0mdoc\u001b[0m\u001b[0;34m(\u001b[0m\u001b[0;34m\".content .site-list\"\u001b[0m\u001b[0;34m)\u001b[0m\u001b[0;34m.\u001b[0m\u001b[0mitems\u001b[0m\u001b[0;34m(\u001b[0m\u001b[0;34m)\u001b[0m\u001b[0;34m:\u001b[0m\u001b[0;34m\u001b[0m\u001b[0m\n\u001b[0;32m----> 7\u001b[0;31m         \u001b[0mlv1_page\u001b[0m\u001b[0;34m(\u001b[0m\u001b[0meachLv1Doc\u001b[0m\u001b[0;34m(\u001b[0m\u001b[0;34m'a'\u001b[0m\u001b[0;34m)\u001b[0m\u001b[0;34m.\u001b[0m\u001b[0mattr\u001b[0m\u001b[0;34m(\u001b[0m\u001b[0;34m\"href\"\u001b[0m\u001b[0;34m)\u001b[0m\u001b[0;34m)\u001b[0m\u001b[0;34m\u001b[0m\u001b[0m\n\u001b[0m",
      "\u001b[0;32m<ipython-input-4-e27dea5a0c4c>\u001b[0m in \u001b[0;36mlv1_page\u001b[0;34m(url)\u001b[0m\n\u001b[1;32m      2\u001b[0m     \u001b[0mlv1Doc\u001b[0m \u001b[0;34m=\u001b[0m \u001b[0mpq\u001b[0m\u001b[0;34m(\u001b[0m\u001b[0murl\u001b[0m\u001b[0;34m)\u001b[0m \u001b[0;31m#取得大類別連結\u001b[0m\u001b[0;34m\u001b[0m\u001b[0m\n\u001b[1;32m      3\u001b[0m     \u001b[0;32mif\u001b[0m \u001b[0;34m\"活動\"\u001b[0m \u001b[0;32min\u001b[0m \u001b[0mlv1Doc\u001b[0m\u001b[0;34m(\u001b[0m\u001b[0;34m\"#cl-menucate .sitelist:nth-child(1) .stitle\"\u001b[0m\u001b[0;34m)\u001b[0m     \u001b[0;34m.\u001b[0m\u001b[0mtext\u001b[0m\u001b[0;34m(\u001b[0m\u001b[0;34m)\u001b[0m\u001b[0;34m:\u001b[0m\u001b[0;34m\u001b[0m\u001b[0m\n\u001b[0;32m----> 4\u001b[0;31m         \u001b[0;32mfor\u001b[0m \u001b[0meachLv2Doc\u001b[0m \u001b[0;32min\u001b[0m \u001b[0mlv1Doc\u001b[0m\u001b[0;34m(\u001b[0m\u001b[0;34m\"#cl-menucate .sitelist:nth-child(n+2) .list\"\u001b[0m\u001b[0;34m)\u001b[0m\u001b[0;34m.\u001b[0m\u001b[0mtext\u001b[0m\u001b[0;34m(\u001b[0m\u001b[0;34m)\u001b[0m\u001b[0;34m.\u001b[0m\u001b[0mitems\u001b[0m\u001b[0;34m(\u001b[0m\u001b[0;34m)\u001b[0m\u001b[0;34m:\u001b[0m\u001b[0;34m\u001b[0m\u001b[0m\n\u001b[0m\u001b[1;32m      5\u001b[0m             \u001b[0mprint\u001b[0m\u001b[0;34m(\u001b[0m\u001b[0meachLv2Doc\u001b[0m\u001b[0;34m(\u001b[0m\u001b[0;34m\"a\"\u001b[0m\u001b[0;34m)\u001b[0m\u001b[0;34m.\u001b[0m\u001b[0mattr\u001b[0m\u001b[0;34m(\u001b[0m\u001b[0;34m\"href\"\u001b[0m\u001b[0;34m)\u001b[0m\u001b[0;34m)\u001b[0m\u001b[0;34m\u001b[0m\u001b[0m\n\u001b[1;32m      6\u001b[0m     \u001b[0;32melse\u001b[0m\u001b[0;34m:\u001b[0m\u001b[0;34m\u001b[0m\u001b[0m\n",
      "\u001b[0;31mAttributeError\u001b[0m: 'str' object has no attribute 'items'"
     ]
    }
   ],
   "source": [
    "index_page(\"https://tw.buy.yahoo.com/help/helper.asp?p=sitemap\")\n"
   ]
  },
  {
   "cell_type": "code",
   "execution_count": 18,
   "metadata": {},
   "outputs": [
    {
     "data": {
      "text/plain": [
       "\"流行女裝 百貨專櫃女裝 男裝 大尺碼 穿搭配件 飾品 101原創 Candybox 糖罐子 OB嚴選 SUITANGTANG AIR SPACE服裝 beartwo SO NICE tokichoi 東京著衣 TATA betty's貝蒂思 earth music&ecology gozo H:CONNECT LIYO理優 OUWEY / 伊蕾 獨身貴族 / CHICA 牛仔休閒(男) 牛仔休閒(女) Levis EDWIN BLUE WAY BIG TRAIN BRAPPERS BOBSON Lee bossini 堡獅龍 CACO GIORDANO Jeep ROUSH zu·zai 自在 Earl Jean 曼黛瑪璉 Mode Marie 黛安芬 Triumph 華歌爾 Wacoal 奧黛莉 EASY SHOP 蕾黛絲 Ladies 瑪登瑪朵 Modern Girl 思薇爾 Swear 羅絲美 / La Felino aimerfeel LADY 男性內著 女性內衣 運動內衣 調整型 / 塑身衣 情趣 / 性感睡衣 男女居家睡衣 襪子 運動女鞋 運動男鞋 休閒女鞋 休閒男鞋 / 男皮鞋 時尚流行女鞋 質感專櫃鞋 adidas官方旗艦店 ASICS官方旗艦店 PUMA旗艦店 Steve Madden A.S.O / effie AS D+AF Disney collection by FILA grace gift Hush Puppies MAGY / ORIN NINE WEST Sports City Timberland TOMS DAPHNE達芙妮 百貨專櫃 / 真皮女包 國民時尚女包 男包 / 運動休閒包 2R手工真皮 ANNA DOLLY BAG TO YOU FUNNNY JOE&MICHELLE Arnold Palmer雨傘 JW KINAZ Kipling MIRYOKU PLAYBOY包包 PORTER satana SPRING VOVAROVA空氣包 uniarts 電競主機 / 週邊 電玩 / 遊戲 PlayStation 電競主機 / 週邊 筆記型電腦 Apple iPad/Mac/配件 品牌桌上型電腦 DIY桌上型電腦 LCD液晶螢幕 印表機 / 掃描 / 標籤機 光碟片 / 墨水 / 碳粉 外接硬碟 / NAS 內接硬碟(SSD) 記憶卡 隨身碟 鍵盤 / 滑鼠 / 繪圖板 VR / USB / 電腦週邊 電腦包 / 筆電內袋 手機保護貼 / 平板保護貼 網路設備 電腦DIY零組件 電腦軟體 視訊 / 智能家居 / 物聯網 居家安全 / 監控 / 電子鎖 辦公室用品 紙材 手機 平板電腦 手機殼 / 皮套 / 自拍棒 平板殼 / 皮套 / 線材 手機保護貼 / 平板保護貼 耳機 / 耳麥 / 擴大機 / MP3 智慧穿戴 / 運動手環 行動電源 / 電池 ASUS華碩 手機 Apple?iPhone/Watch 小米商品/配件 相機 / 單眼 / 鏡頭 / 拍立得 攝影機 / 空拍機 / 配件 防潮箱 / 相機配件 望遠鏡 / 放大鏡 / 顯微鏡 智慧家電 電視 投影機 音響 / 喇叭 / 劇院 電視盒播放器 / 樂器 廚房家電 生活家電 吸塵器 電冰箱 洗衣機 / 乾衣機 冷氣 / 暖氣 / 電風扇 除濕機 / 清淨機 美容家電 按摩家電 情趣專區 衛生紙 / 衛生棉 尿布 / 濕紙巾 清潔日用 醫療保健用品 / 保險套 美髮沐浴 / 口腔清潔 飲料 / 茶 / 水 / 沖泡 休閒零食 / 進口零食 泡麵 / 食品 / 調味料 熟食 / 小吃 / 滷味 蛋糕 / 甜點 / 麵包 生鮮肉品 / 水果蔬菜 聯合利華官方旗艦店 孕婦裝 / 孕產用品 嬰幼用品 / 嬰幼寢具 玩具 / 模型 / 積木 童裝 / 穿搭配件 童鞋 / 書包 / 童包 FUNBOX麗嬰國際 Gennie’s奇妮 mamaway ohoh-mini Sanrio / Hello Kitty Yahoo!品牌商品館 六甲村 安妮公主童裝 奇哥 麗嬰房 寵物 鍋具餐具 / 杯瓶酒器 餐廚 / 烘焙用品 衛浴設備 收納用品 / 收納櫃 / 架 沙發 桌椅 櫥櫃 床墊 / 床架 衛浴設備 鍋具餐具 / 杯瓶酒器 開運風水 單人/雙人/加大寢具 棉被/毯類/枕頭/保潔墊 東妮寢飾 家飾 / 織品 / 燈飾 夢特嬌 YVONNE Cozy inn 寬庭行旅 歐系精品包 / 配件 美日精品包 / 配件 精品服飾 / 鞋子 名牌太陽眼鏡 / 眼鏡 專櫃飾品 國際名牌飾品 鑽石 黃金 / 珠寶 / 珍珠 手錶 / 時鐘 CALVIN KLEIN旗艦店 鎮金店官方旗艦店 瑞士錶 / 精品錶 agnes b. CHANEL香奈兒 COACH LV路易威登 GUCCI MICHAEL KORS PRADA SEIKO旗艦店 CASIO卡西歐 CITIZEN星辰表 專櫃保養 / 彩妝 開架保養 / 彩妝 醫學美容保養 香水 / 香氛 保健食品 / 養生 / 維他命 窈窕 / 纖盈 / 美肌 / 美體 專業 / 沙龍髮品 Abbott亞培 BRAND’S白蘭氏 NOW健而婷 船井生醫 Estee Lauder雅詩蘭黛 IOPE艾諾碧 運動休閒女裝 運動休閒男裝 運動用品 / 配件 泳裝 / 比基尼 戶外服飾 / 配件 健身器材 戶外露營 / 登山用品 行李箱 自行車 機車 / 電動機車 汽機車用品 行車記錄器 / 導航 書籍 雜誌 / 文具 影音DVD 彌月送禮 禮物精選 餐券、住宿、遊樂券 101原創 beartwo BIG TRAIN BLUE WAY BRAPPERS CACO Candybox 糖罐子 Earl Jean earth music&ecology gozo H:CONNECT Jeep Levis LIYO理優 OUWEY / 伊蕾 ROUSH SO NICE SUITANGTANG TATA tokichoi 東京著衣 zu·zai 自在 Lee AIR SPACE服裝 betty's貝蒂思 bossini 堡獅龍 BOBSON EDWIN GIORDANO OB嚴選 獨身貴族 / CHICA aimerfeel 瑪登瑪朵 Modern Girl 奧黛莉 EASY SHOP LADY 思薇爾 Swear 曼黛瑪璉 Mode Marie 華歌爾 Wacoal 蕾黛絲 Ladies 黛安芬 Triumph 羅絲美 / La Felino adidas官方旗艦店 ALDO ANDRE / Minelli ASICS官方旗艦店 Aviator CONVERSE旗艦店 DADA旗艦店 Disney collection by FILA GDC HANNFORT MISS 21 New Balance旗艦店 PUMA旗艦店 SANUK Steve Madden TAS Timberland TOMS Vince Camuto A.S.O / effie Ann’S AS BESO D+AF DIANA FAIR LADY grace gift Hush Puppies iki2 KOKKO MAGY / ORIN NINE WEST PLAYBOY鞋子 PONY Sports City DAPHNE達芙妮 2R真皮皮夾 ANNA DOLLY FUNNNY JOE&MICHELLE JW SAMSONITE新秀麗 uniarts VOVAROVA空氣包 2R手工真皮 Arnold Palmer雨傘 BAG TO YOU American Tourister KINAZ Kipling MIRYOKU PLAYBOY包包 PORTER satana SPRING 電競主機 / 週邊 Yahoo!品牌商品館 Clarisonic 科萊麗 Dyson戴森 NESPRESSO膠囊咖啡機 PlayStation Panasonic SAMPO聲寶 TATUNG大同 日本虎牌 日本象印 飛利浦 ASUS華碩 手機 GARMIN htc SAMSUNG三星 Sony Mobile CALVIN KLEIN旗艦店 Emphasis點睛品 SEIKO旗艦店 Swatch官方旗艦店 鎮金店官方旗艦店 A-LUXE 亞立詩鑽石 蘇菲亞珠寶 +ONE% 歐恩伊 Abbott亞培 BRAND’S白蘭氏 DF美肌醫生 Dr.Douxi 朵璽 Dr.Hsieh 謝醫師 Estee Lauder雅詩蘭黛 GARNIER卡尼爾 GLAMGLOW IOPE艾諾碧 JILL STUART L'OCCITANE歐舒丹 L'OREAL巴黎萊雅 LRP 理膚寶水 LSY林三益刷具 MAYBELLINE 媚比琳 O．P．I Swissvita薇佳 舒摩兒 寵愛之名 benefit DR.WU達爾膚 S-moda 日系美妝 1028只為更美 NOW健而婷 KOSE高絲 LANEIGE蘭芝 Nature’s Gate Neogence霓淨思 NIVEA 妮維雅 Sebamed施巴 THE BODY SHOP VICHY 薇姿 船井生醫 Thermos膳魔師 美國康寧 Cozy inn 東妮寢飾 寬庭行旅 聯合利華官方旗艦店 YVONNE 夢特嬌 Yahoo!品牌商品館 FUNBOX麗嬰國際 Gennie’s奇妮 mamaway ohoh-mini Sanrio / Hello Kitty 六甲村 安妮公主童裝 奇哥 麗嬰房 American Tourister Arcteryx 始祖鳥 Columbia 哥倫比亞 Hilltop 山頂鳥 The North Face adidas官方旗艦店 FILA SAMSONITE新秀麗 Timberland\""
      ]
     },
     "execution_count": 18,
     "metadata": {},
     "output_type": "execute_result"
    }
   ],
   "source": [
    " doc(\".content .site-list\").text() #大類別"
   ]
  },
  {
   "cell_type": "code",
   "execution_count": 31,
   "metadata": {},
   "outputs": [
    {
     "name": "stdout",
     "output_type": "stream",
     "text": [
      "網友都在買！爆款推薦 聖誕交換禮物討論區 冬季NEW!! 針織/雪紡外套 連帽休閒/棒球外套 風衣外套 牛仔外套 毛呢大衣 鋪棉羽絨外套 西裝外套 Eelin伊林選品 KODZ X 許菲菲 SUITANGTANG隋棠 YOCO X 安琪 I.REAL曾莞婷 Bois White AH dream夢想女孩 REESE EE LADY 慢 生活 Jilli~ko Katie Q Kaleena Queen旗袍 KOMI KT 旅途原品 a9 Shester55 4inSTYLE形設計 設計所在 DABI WHATDAY J-well DiFF shop SQUA Eelin伊林選品 CiAO!妞暢貨區 N.C21 正韓暢貨區 ROANN暢貨專區 101原創暢貨區 大尺碼暢貨區 古著暢貨區 W BABIES a9 N.C21正韓 100% Korea Jeans EI shuddai Q-chic AIRKOREA正韓空運 LIYO理優（S~2XL) OB嚴選（XL~3L) ROANN（S~2XL) SISTERS(S-3L) REKO 古著 糖潮 NUMI 初色 La Belleza KVOLL M2M WHATDAY 糖潮（M~4XL) 101原創 100% Korea Jeans 4inSTYLE形設計 5B2F五餅二魚機能服飾 a9 AH dream夢想女孩 Andstyle AIR SPACE LADY AIRKOREA正韓空運 WAVE SHINE Shester55 ALLK Ballet Dolly CiAO!妞 DABI DiFF shop EI shuddai Hera 赫拉 I.REAL曾莞婷 J-well Keer KODZ KVOLL Kugi Girl La Belleza M2M MAYSON Mini嚴選 N.C21正韓 N2 NUMI OMUSES OOTD Q-chic ROANN REKO SISTERS(S-3L) SQUA SUITANGTANG隋棠 TAKODA tokichoi 東京著衣 TATA WHATDAY W BABIES yoco 古著 初色 玩美衣櫃 設計所在 維拉森林 糖潮 天使波堤 摩達客ModaCore\n",
      "MOMA MOSS CLUB Dailo KiKi KeyWear奇威名品 Doch 金安德森 NATURALLY JOJO 冬季新品 春夏出清 造型上衣 外套風衣 禮服洋裝 特色裙子 百搭褲裝 飾品配件 Green Parks MOSS CLUB Dailo AMERICAN HOLIC betty's 貝蒂思 Betty Boop 貝蒂 CANTWO CHICA earth music&ecology E hyphen world gallery H:CONNECT HANA 花木馬 NATURALLY JOJO 金安德森 EPISODE chaber巧帛 KiKi Doch MOMA DEER.W ICHE 衣哲 IGD 英格麗 OUWEY SO NICE 獨身貴族 JESSICA JESSICA RED GLORY21 INTIMATUS 真皮皮衣 MON'S Begonia KeyWear奇威名品 麥雪爾 MYVEGA 衣蝶YIDIE Hedy 赫蒂 YVONNE COLLECTION CRY CHARINYEH 葉珈伶 ICHE暢貨區 YVONNE COLLECTION 暢貨區 TOP GIRL暢貨區 JESSICA 暢貨區\n",
      "國家地理頻道/GFun暢貨中心 聖誕交換禮物討論區 發熱衣 Christian CR7襯衫 DITION Dreamming FASHION館 Monkey Shop ROUSH ZIP日本男裝 可樂思 BuyGlasses麗綺 美國熊 摩達客 極品西服 長袖POLO衫 短袖POLO衫 長袖襯衫 商務單品 短袖襯衫 V領T恤 圓領T恤 連帽T恤 發熱衣 其他 V領針織衫/毛衣 圓領 高領 背心 其他 發熱衣 西裝外套 風衣 羊毛/毛呢大衣 棒球外套/飛行外套 舖棉外套 羽絨外套 背心外套 連帽外套 皮衣外套 其他 棉褲 休閒褲 工作褲 縮口褲 西裝褲 牛仔褲 V領T恤 圓領T恤 背心T恤 其他 棉褲 海灘褲 休閒褲 工作褲 牛仔褲 圍巾 / 圍脖 帽子 手套 太陽眼鏡 男士皮帶 / 腰帶 領帶 領結 方巾/吊帶/袖扣/領夾\n",
      "外套 上衣 洋裝 裙子 褲子 AIR SPACE PLUS Andstyle Ballet Dolly NUMI ROANN TATA PLUS 初色 古著 Ballet Dolly SISTERS(S-3L) LIYO理優（S~2XL) OB嚴選（XL~3L) 襯衫 / POLO衫 T恤 外套 休閒褲 牛仔褲 西裝褲 成套內衣 集中包覆內衣 無鋼圈 / 軟鋼圈內衣 情趣性感睡衣 內褲 塑身衣 塑身褲 局部塑身 / 束胸 合身 四角內褲 寬鬆 四角內褲 三角內褲\n",
      "聖誕交換禮物討論區 高CP＊超值任選福袋 毛帽 貝雷帽 棒球帽 / 老帽 漁夫帽 鴨舌帽 紳士帽 遮陽帽 草帽 其他帽款 太陽眼鏡 / 墨鏡 平光眼鏡 髮帶 髮夾 髮箍 髮圈 假髮 薄圍巾 / 披肩 厚圍巾 / 披肩 圍脖 絲巾 觸控手套 羊毛 / 針織手套 其他手套 袖套 腰封 腰帶 / 腰鍊 圍巾 / 圍脖 帽子 手套 太陽眼鏡 男士皮帶 / 腰帶 領帶 領結 方巾/吊帶/袖扣/領夾 防曬商品 其他配件商品 AnnaSofia Angel Woolen A-Surpriz BeautyFocus Chubby Baby DRAKA 達卡 DZ Hera 赫拉 I-shi MONTAGUT 夢特嬌 PB 皮爾帕門 seoul show 首爾秀 SOFER Sunlead VOVA 拉福 幸福揚邑 梨花HaNA 其他品牌\n"
     ]
    },
    {
     "ename": "KeyboardInterrupt",
     "evalue": "",
     "output_type": "error",
     "traceback": [
      "\u001b[0;31m---------------------------------------------------------------------------\u001b[0m",
      "\u001b[0;31mTypeError\u001b[0m                                 Traceback (most recent call last)",
      "\u001b[0;32m~/anaconda3/lib/python3.6/site-packages/urllib3/connectionpool.py\u001b[0m in \u001b[0;36m_make_request\u001b[0;34m(self, conn, method, url, timeout, chunked, **httplib_request_kw)\u001b[0m\n\u001b[1;32m    379\u001b[0m             \u001b[0;32mtry\u001b[0m\u001b[0;34m:\u001b[0m  \u001b[0;31m# Python 2.7, use buffering of HTTP responses\u001b[0m\u001b[0;34m\u001b[0m\u001b[0m\n\u001b[0;32m--> 380\u001b[0;31m                 \u001b[0mhttplib_response\u001b[0m \u001b[0;34m=\u001b[0m \u001b[0mconn\u001b[0m\u001b[0;34m.\u001b[0m\u001b[0mgetresponse\u001b[0m\u001b[0;34m(\u001b[0m\u001b[0mbuffering\u001b[0m\u001b[0;34m=\u001b[0m\u001b[0;32mTrue\u001b[0m\u001b[0;34m)\u001b[0m\u001b[0;34m\u001b[0m\u001b[0m\n\u001b[0m\u001b[1;32m    381\u001b[0m             \u001b[0;32mexcept\u001b[0m \u001b[0mTypeError\u001b[0m\u001b[0;34m:\u001b[0m  \u001b[0;31m# Python 2.6 and older, Python 3\u001b[0m\u001b[0;34m\u001b[0m\u001b[0m\n",
      "\u001b[0;31mTypeError\u001b[0m: getresponse() got an unexpected keyword argument 'buffering'",
      "\nDuring handling of the above exception, another exception occurred:\n",
      "\u001b[0;31mKeyboardInterrupt\u001b[0m                         Traceback (most recent call last)",
      "\u001b[0;32m<ipython-input-31-4e4dcaba1f89>\u001b[0m in \u001b[0;36m<module>\u001b[0;34m()\u001b[0m\n\u001b[1;32m      1\u001b[0m \u001b[0mdoc\u001b[0m\u001b[0;34m.\u001b[0m\u001b[0mmake_links_absolute\u001b[0m\u001b[0;34m(\u001b[0m\u001b[0mbase_url\u001b[0m\u001b[0;34m=\u001b[0m\u001b[0mres\u001b[0m\u001b[0;34m.\u001b[0m\u001b[0murl\u001b[0m\u001b[0;34m)\u001b[0m \u001b[0;31m#絕對路徑\u001b[0m\u001b[0;34m\u001b[0m\u001b[0m\n\u001b[1;32m      2\u001b[0m \u001b[0;32mfor\u001b[0m \u001b[0meachLv1Doc\u001b[0m \u001b[0;32min\u001b[0m \u001b[0mdoc\u001b[0m\u001b[0;34m(\u001b[0m\u001b[0;34m\".content .site-list\"\u001b[0m\u001b[0;34m)\u001b[0m\u001b[0;34m.\u001b[0m\u001b[0mitems\u001b[0m\u001b[0;34m(\u001b[0m\u001b[0;34m)\u001b[0m\u001b[0;34m:\u001b[0m\u001b[0;34m\u001b[0m\u001b[0m\n\u001b[0;32m----> 3\u001b[0;31m     \u001b[0mlv1Doc\u001b[0m \u001b[0;34m=\u001b[0m \u001b[0mpq\u001b[0m\u001b[0;34m(\u001b[0m\u001b[0meachLv1Doc\u001b[0m\u001b[0;34m(\u001b[0m\u001b[0;34m'a'\u001b[0m\u001b[0;34m)\u001b[0m\u001b[0;34m.\u001b[0m\u001b[0mattr\u001b[0m\u001b[0;34m(\u001b[0m\u001b[0;34m\"href\"\u001b[0m\u001b[0;34m)\u001b[0m\u001b[0;34m)\u001b[0m \u001b[0;31m#取得大類別連結\u001b[0m\u001b[0;34m\u001b[0m\u001b[0m\n\u001b[0m\u001b[1;32m      4\u001b[0m     \u001b[0;32mif\u001b[0m \u001b[0;34m\"活動\"\u001b[0m \u001b[0;32min\u001b[0m \u001b[0mlv1Doc\u001b[0m\u001b[0;34m(\u001b[0m\u001b[0;34m\"#cl-menucate .sitelist:nth-child(1) .stitle\"\u001b[0m\u001b[0;34m)\u001b[0m     \u001b[0;34m.\u001b[0m\u001b[0mtext\u001b[0m\u001b[0;34m(\u001b[0m\u001b[0;34m)\u001b[0m\u001b[0;34m:\u001b[0m\u001b[0;34m\u001b[0m\u001b[0m\n\u001b[1;32m      5\u001b[0m         \u001b[0mprint\u001b[0m\u001b[0;34m(\u001b[0m\u001b[0mlv1Doc\u001b[0m\u001b[0;34m(\u001b[0m\u001b[0;34m\"#cl-menucate .sitelist:nth-child(n+2) .list\"\u001b[0m\u001b[0;34m)\u001b[0m\u001b[0;34m.\u001b[0m\u001b[0mtext\u001b[0m\u001b[0;34m(\u001b[0m\u001b[0;34m)\u001b[0m\u001b[0;34m)\u001b[0m \u001b[0;31m#去掉促銷活動\u001b[0m\u001b[0;34m\u001b[0m\u001b[0m\n",
      "\u001b[0;32m~/anaconda3/lib/python3.6/site-packages/pyquery/pyquery.py\u001b[0m in \u001b[0;36m__init__\u001b[0;34m(self, *args, **kwargs)\u001b[0m\n\u001b[1;32m    221\u001b[0m                     \u001b[0mhtml\u001b[0m \u001b[0;34m=\u001b[0m \u001b[0mopener\u001b[0m\u001b[0;34m(\u001b[0m\u001b[0murl\u001b[0m\u001b[0;34m,\u001b[0m \u001b[0;34m**\u001b[0m\u001b[0mkwargs\u001b[0m\u001b[0;34m)\u001b[0m\u001b[0;34m\u001b[0m\u001b[0m\n\u001b[1;32m    222\u001b[0m                 \u001b[0;32melse\u001b[0m\u001b[0;34m:\u001b[0m\u001b[0;34m\u001b[0m\u001b[0m\n\u001b[0;32m--> 223\u001b[0;31m                     \u001b[0mhtml\u001b[0m \u001b[0;34m=\u001b[0m \u001b[0murl_opener\u001b[0m\u001b[0;34m(\u001b[0m\u001b[0murl\u001b[0m\u001b[0;34m,\u001b[0m \u001b[0mkwargs\u001b[0m\u001b[0;34m)\u001b[0m\u001b[0;34m\u001b[0m\u001b[0m\n\u001b[0m\u001b[1;32m    224\u001b[0m                 \u001b[0;32mif\u001b[0m \u001b[0;32mnot\u001b[0m \u001b[0mself\u001b[0m\u001b[0;34m.\u001b[0m\u001b[0mparser\u001b[0m\u001b[0;34m:\u001b[0m\u001b[0;34m\u001b[0m\u001b[0m\n\u001b[1;32m    225\u001b[0m                     \u001b[0mself\u001b[0m\u001b[0;34m.\u001b[0m\u001b[0mparser\u001b[0m \u001b[0;34m=\u001b[0m \u001b[0;34m'html'\u001b[0m\u001b[0;34m\u001b[0m\u001b[0m\n",
      "\u001b[0;32m~/anaconda3/lib/python3.6/site-packages/pyquery/openers.py\u001b[0m in \u001b[0;36murl_opener\u001b[0;34m(url, kwargs)\u001b[0m\n\u001b[1;32m     76\u001b[0m \u001b[0;32mdef\u001b[0m \u001b[0murl_opener\u001b[0m\u001b[0;34m(\u001b[0m\u001b[0murl\u001b[0m\u001b[0;34m,\u001b[0m \u001b[0mkwargs\u001b[0m\u001b[0;34m)\u001b[0m\u001b[0;34m:\u001b[0m\u001b[0;34m\u001b[0m\u001b[0m\n\u001b[1;32m     77\u001b[0m     \u001b[0;32mif\u001b[0m \u001b[0mHAS_REQUEST\u001b[0m\u001b[0;34m:\u001b[0m\u001b[0;34m\u001b[0m\u001b[0m\n\u001b[0;32m---> 78\u001b[0;31m         \u001b[0;32mreturn\u001b[0m \u001b[0m_requests\u001b[0m\u001b[0;34m(\u001b[0m\u001b[0murl\u001b[0m\u001b[0;34m,\u001b[0m \u001b[0mkwargs\u001b[0m\u001b[0;34m)\u001b[0m\u001b[0;34m\u001b[0m\u001b[0m\n\u001b[0m\u001b[1;32m     79\u001b[0m     \u001b[0;32mreturn\u001b[0m \u001b[0m_urllib\u001b[0m\u001b[0;34m(\u001b[0m\u001b[0murl\u001b[0m\u001b[0;34m,\u001b[0m \u001b[0mkwargs\u001b[0m\u001b[0;34m)\u001b[0m\u001b[0;34m\u001b[0m\u001b[0m\n",
      "\u001b[0;32m~/anaconda3/lib/python3.6/site-packages/pyquery/openers.py\u001b[0m in \u001b[0;36m_requests\u001b[0;34m(url, kwargs)\u001b[0m\n\u001b[1;32m     58\u001b[0m         \u001b[0;32mif\u001b[0m \u001b[0mk\u001b[0m \u001b[0;32min\u001b[0m \u001b[0mkwargs\u001b[0m\u001b[0;34m:\u001b[0m\u001b[0;34m\u001b[0m\u001b[0m\n\u001b[1;32m     59\u001b[0m             \u001b[0mkw\u001b[0m\u001b[0;34m[\u001b[0m\u001b[0mk\u001b[0m\u001b[0;34m]\u001b[0m \u001b[0;34m=\u001b[0m \u001b[0mkwargs\u001b[0m\u001b[0;34m[\u001b[0m\u001b[0mk\u001b[0m\u001b[0;34m]\u001b[0m\u001b[0;34m\u001b[0m\u001b[0m\n\u001b[0;32m---> 60\u001b[0;31m     \u001b[0mresp\u001b[0m \u001b[0;34m=\u001b[0m \u001b[0mmeth\u001b[0m\u001b[0;34m(\u001b[0m\u001b[0murl\u001b[0m\u001b[0;34m=\u001b[0m\u001b[0murl\u001b[0m\u001b[0;34m,\u001b[0m \u001b[0;34m**\u001b[0m\u001b[0mkw\u001b[0m\u001b[0;34m)\u001b[0m\u001b[0;34m\u001b[0m\u001b[0m\n\u001b[0m\u001b[1;32m     61\u001b[0m     \u001b[0;32mif\u001b[0m \u001b[0;32mnot\u001b[0m \u001b[0;34m(\u001b[0m\u001b[0;36m200\u001b[0m \u001b[0;34m<=\u001b[0m \u001b[0mresp\u001b[0m\u001b[0;34m.\u001b[0m\u001b[0mstatus_code\u001b[0m \u001b[0;34m<\u001b[0m \u001b[0;36m300\u001b[0m\u001b[0;34m)\u001b[0m\u001b[0;34m:\u001b[0m\u001b[0;34m\u001b[0m\u001b[0m\n\u001b[1;32m     62\u001b[0m         raise HTTPError(resp.url, resp.status_code,\n",
      "\u001b[0;32m~/anaconda3/lib/python3.6/site-packages/requests/api.py\u001b[0m in \u001b[0;36mget\u001b[0;34m(url, params, **kwargs)\u001b[0m\n\u001b[1;32m     70\u001b[0m \u001b[0;34m\u001b[0m\u001b[0m\n\u001b[1;32m     71\u001b[0m     \u001b[0mkwargs\u001b[0m\u001b[0;34m.\u001b[0m\u001b[0msetdefault\u001b[0m\u001b[0;34m(\u001b[0m\u001b[0;34m'allow_redirects'\u001b[0m\u001b[0;34m,\u001b[0m \u001b[0;32mTrue\u001b[0m\u001b[0;34m)\u001b[0m\u001b[0;34m\u001b[0m\u001b[0m\n\u001b[0;32m---> 72\u001b[0;31m     \u001b[0;32mreturn\u001b[0m \u001b[0mrequest\u001b[0m\u001b[0;34m(\u001b[0m\u001b[0;34m'get'\u001b[0m\u001b[0;34m,\u001b[0m \u001b[0murl\u001b[0m\u001b[0;34m,\u001b[0m \u001b[0mparams\u001b[0m\u001b[0;34m=\u001b[0m\u001b[0mparams\u001b[0m\u001b[0;34m,\u001b[0m \u001b[0;34m**\u001b[0m\u001b[0mkwargs\u001b[0m\u001b[0;34m)\u001b[0m\u001b[0;34m\u001b[0m\u001b[0m\n\u001b[0m\u001b[1;32m     73\u001b[0m \u001b[0;34m\u001b[0m\u001b[0m\n\u001b[1;32m     74\u001b[0m \u001b[0;34m\u001b[0m\u001b[0m\n",
      "\u001b[0;32m~/anaconda3/lib/python3.6/site-packages/requests/api.py\u001b[0m in \u001b[0;36mrequest\u001b[0;34m(method, url, **kwargs)\u001b[0m\n\u001b[1;32m     56\u001b[0m     \u001b[0;31m# cases, and look like a memory leak in others.\u001b[0m\u001b[0;34m\u001b[0m\u001b[0;34m\u001b[0m\u001b[0m\n\u001b[1;32m     57\u001b[0m     \u001b[0;32mwith\u001b[0m \u001b[0msessions\u001b[0m\u001b[0;34m.\u001b[0m\u001b[0mSession\u001b[0m\u001b[0;34m(\u001b[0m\u001b[0;34m)\u001b[0m \u001b[0;32mas\u001b[0m \u001b[0msession\u001b[0m\u001b[0;34m:\u001b[0m\u001b[0;34m\u001b[0m\u001b[0m\n\u001b[0;32m---> 58\u001b[0;31m         \u001b[0;32mreturn\u001b[0m \u001b[0msession\u001b[0m\u001b[0;34m.\u001b[0m\u001b[0mrequest\u001b[0m\u001b[0;34m(\u001b[0m\u001b[0mmethod\u001b[0m\u001b[0;34m=\u001b[0m\u001b[0mmethod\u001b[0m\u001b[0;34m,\u001b[0m \u001b[0murl\u001b[0m\u001b[0;34m=\u001b[0m\u001b[0murl\u001b[0m\u001b[0;34m,\u001b[0m \u001b[0;34m**\u001b[0m\u001b[0mkwargs\u001b[0m\u001b[0;34m)\u001b[0m\u001b[0;34m\u001b[0m\u001b[0m\n\u001b[0m\u001b[1;32m     59\u001b[0m \u001b[0;34m\u001b[0m\u001b[0m\n\u001b[1;32m     60\u001b[0m \u001b[0;34m\u001b[0m\u001b[0m\n",
      "\u001b[0;32m~/anaconda3/lib/python3.6/site-packages/requests/sessions.py\u001b[0m in \u001b[0;36mrequest\u001b[0;34m(self, method, url, params, data, headers, cookies, files, auth, timeout, allow_redirects, proxies, hooks, stream, verify, cert, json)\u001b[0m\n\u001b[1;32m    506\u001b[0m         }\n\u001b[1;32m    507\u001b[0m         \u001b[0msend_kwargs\u001b[0m\u001b[0;34m.\u001b[0m\u001b[0mupdate\u001b[0m\u001b[0;34m(\u001b[0m\u001b[0msettings\u001b[0m\u001b[0;34m)\u001b[0m\u001b[0;34m\u001b[0m\u001b[0m\n\u001b[0;32m--> 508\u001b[0;31m         \u001b[0mresp\u001b[0m \u001b[0;34m=\u001b[0m \u001b[0mself\u001b[0m\u001b[0;34m.\u001b[0m\u001b[0msend\u001b[0m\u001b[0;34m(\u001b[0m\u001b[0mprep\u001b[0m\u001b[0;34m,\u001b[0m \u001b[0;34m**\u001b[0m\u001b[0msend_kwargs\u001b[0m\u001b[0;34m)\u001b[0m\u001b[0;34m\u001b[0m\u001b[0m\n\u001b[0m\u001b[1;32m    509\u001b[0m \u001b[0;34m\u001b[0m\u001b[0m\n\u001b[1;32m    510\u001b[0m         \u001b[0;32mreturn\u001b[0m \u001b[0mresp\u001b[0m\u001b[0;34m\u001b[0m\u001b[0m\n",
      "\u001b[0;32m~/anaconda3/lib/python3.6/site-packages/requests/sessions.py\u001b[0m in \u001b[0;36msend\u001b[0;34m(self, request, **kwargs)\u001b[0m\n\u001b[1;32m    616\u001b[0m \u001b[0;34m\u001b[0m\u001b[0m\n\u001b[1;32m    617\u001b[0m         \u001b[0;31m# Send the request\u001b[0m\u001b[0;34m\u001b[0m\u001b[0;34m\u001b[0m\u001b[0m\n\u001b[0;32m--> 618\u001b[0;31m         \u001b[0mr\u001b[0m \u001b[0;34m=\u001b[0m \u001b[0madapter\u001b[0m\u001b[0;34m.\u001b[0m\u001b[0msend\u001b[0m\u001b[0;34m(\u001b[0m\u001b[0mrequest\u001b[0m\u001b[0;34m,\u001b[0m \u001b[0;34m**\u001b[0m\u001b[0mkwargs\u001b[0m\u001b[0;34m)\u001b[0m\u001b[0;34m\u001b[0m\u001b[0m\n\u001b[0m\u001b[1;32m    619\u001b[0m \u001b[0;34m\u001b[0m\u001b[0m\n\u001b[1;32m    620\u001b[0m         \u001b[0;31m# Total elapsed time of the request (approximately)\u001b[0m\u001b[0;34m\u001b[0m\u001b[0;34m\u001b[0m\u001b[0m\n",
      "\u001b[0;32m~/anaconda3/lib/python3.6/site-packages/requests/adapters.py\u001b[0m in \u001b[0;36msend\u001b[0;34m(self, request, stream, timeout, verify, cert, proxies)\u001b[0m\n\u001b[1;32m    438\u001b[0m                     \u001b[0mdecode_content\u001b[0m\u001b[0;34m=\u001b[0m\u001b[0;32mFalse\u001b[0m\u001b[0;34m,\u001b[0m\u001b[0;34m\u001b[0m\u001b[0m\n\u001b[1;32m    439\u001b[0m                     \u001b[0mretries\u001b[0m\u001b[0;34m=\u001b[0m\u001b[0mself\u001b[0m\u001b[0;34m.\u001b[0m\u001b[0mmax_retries\u001b[0m\u001b[0;34m,\u001b[0m\u001b[0;34m\u001b[0m\u001b[0m\n\u001b[0;32m--> 440\u001b[0;31m                     \u001b[0mtimeout\u001b[0m\u001b[0;34m=\u001b[0m\u001b[0mtimeout\u001b[0m\u001b[0;34m\u001b[0m\u001b[0m\n\u001b[0m\u001b[1;32m    441\u001b[0m                 )\n\u001b[1;32m    442\u001b[0m \u001b[0;34m\u001b[0m\u001b[0m\n",
      "\u001b[0;32m~/anaconda3/lib/python3.6/site-packages/urllib3/connectionpool.py\u001b[0m in \u001b[0;36murlopen\u001b[0;34m(self, method, url, body, headers, retries, redirect, assert_same_host, timeout, pool_timeout, release_conn, chunked, body_pos, **response_kw)\u001b[0m\n\u001b[1;32m    599\u001b[0m                                                   \u001b[0mtimeout\u001b[0m\u001b[0;34m=\u001b[0m\u001b[0mtimeout_obj\u001b[0m\u001b[0;34m,\u001b[0m\u001b[0;34m\u001b[0m\u001b[0m\n\u001b[1;32m    600\u001b[0m                                                   \u001b[0mbody\u001b[0m\u001b[0;34m=\u001b[0m\u001b[0mbody\u001b[0m\u001b[0;34m,\u001b[0m \u001b[0mheaders\u001b[0m\u001b[0;34m=\u001b[0m\u001b[0mheaders\u001b[0m\u001b[0;34m,\u001b[0m\u001b[0;34m\u001b[0m\u001b[0m\n\u001b[0;32m--> 601\u001b[0;31m                                                   chunked=chunked)\n\u001b[0m\u001b[1;32m    602\u001b[0m \u001b[0;34m\u001b[0m\u001b[0m\n\u001b[1;32m    603\u001b[0m             \u001b[0;31m# If we're going to release the connection in ``finally:``, then\u001b[0m\u001b[0;34m\u001b[0m\u001b[0;34m\u001b[0m\u001b[0m\n",
      "\u001b[0;32m~/anaconda3/lib/python3.6/site-packages/urllib3/connectionpool.py\u001b[0m in \u001b[0;36m_make_request\u001b[0;34m(self, conn, method, url, timeout, chunked, **httplib_request_kw)\u001b[0m\n\u001b[1;32m    381\u001b[0m             \u001b[0;32mexcept\u001b[0m \u001b[0mTypeError\u001b[0m\u001b[0;34m:\u001b[0m  \u001b[0;31m# Python 2.6 and older, Python 3\u001b[0m\u001b[0;34m\u001b[0m\u001b[0m\n\u001b[1;32m    382\u001b[0m                 \u001b[0;32mtry\u001b[0m\u001b[0;34m:\u001b[0m\u001b[0;34m\u001b[0m\u001b[0m\n\u001b[0;32m--> 383\u001b[0;31m                     \u001b[0mhttplib_response\u001b[0m \u001b[0;34m=\u001b[0m \u001b[0mconn\u001b[0m\u001b[0;34m.\u001b[0m\u001b[0mgetresponse\u001b[0m\u001b[0;34m(\u001b[0m\u001b[0;34m)\u001b[0m\u001b[0;34m\u001b[0m\u001b[0m\n\u001b[0m\u001b[1;32m    384\u001b[0m                 \u001b[0;32mexcept\u001b[0m \u001b[0mException\u001b[0m \u001b[0;32mas\u001b[0m \u001b[0me\u001b[0m\u001b[0;34m:\u001b[0m\u001b[0;34m\u001b[0m\u001b[0m\n\u001b[1;32m    385\u001b[0m                     \u001b[0;31m# Remove the TypeError from the exception chain in Python 3;\u001b[0m\u001b[0;34m\u001b[0m\u001b[0;34m\u001b[0m\u001b[0m\n",
      "\u001b[0;32m~/anaconda3/lib/python3.6/http/client.py\u001b[0m in \u001b[0;36mgetresponse\u001b[0;34m(self)\u001b[0m\n\u001b[1;32m   1329\u001b[0m         \u001b[0;32mtry\u001b[0m\u001b[0;34m:\u001b[0m\u001b[0;34m\u001b[0m\u001b[0m\n\u001b[1;32m   1330\u001b[0m             \u001b[0;32mtry\u001b[0m\u001b[0;34m:\u001b[0m\u001b[0;34m\u001b[0m\u001b[0m\n\u001b[0;32m-> 1331\u001b[0;31m                 \u001b[0mresponse\u001b[0m\u001b[0;34m.\u001b[0m\u001b[0mbegin\u001b[0m\u001b[0;34m(\u001b[0m\u001b[0;34m)\u001b[0m\u001b[0;34m\u001b[0m\u001b[0m\n\u001b[0m\u001b[1;32m   1332\u001b[0m             \u001b[0;32mexcept\u001b[0m \u001b[0mConnectionError\u001b[0m\u001b[0;34m:\u001b[0m\u001b[0;34m\u001b[0m\u001b[0m\n\u001b[1;32m   1333\u001b[0m                 \u001b[0mself\u001b[0m\u001b[0;34m.\u001b[0m\u001b[0mclose\u001b[0m\u001b[0;34m(\u001b[0m\u001b[0;34m)\u001b[0m\u001b[0;34m\u001b[0m\u001b[0m\n",
      "\u001b[0;32m~/anaconda3/lib/python3.6/http/client.py\u001b[0m in \u001b[0;36mbegin\u001b[0;34m(self)\u001b[0m\n\u001b[1;32m    295\u001b[0m         \u001b[0;31m# read until we get a non-100 response\u001b[0m\u001b[0;34m\u001b[0m\u001b[0;34m\u001b[0m\u001b[0m\n\u001b[1;32m    296\u001b[0m         \u001b[0;32mwhile\u001b[0m \u001b[0;32mTrue\u001b[0m\u001b[0;34m:\u001b[0m\u001b[0;34m\u001b[0m\u001b[0m\n\u001b[0;32m--> 297\u001b[0;31m             \u001b[0mversion\u001b[0m\u001b[0;34m,\u001b[0m \u001b[0mstatus\u001b[0m\u001b[0;34m,\u001b[0m \u001b[0mreason\u001b[0m \u001b[0;34m=\u001b[0m \u001b[0mself\u001b[0m\u001b[0;34m.\u001b[0m\u001b[0m_read_status\u001b[0m\u001b[0;34m(\u001b[0m\u001b[0;34m)\u001b[0m\u001b[0;34m\u001b[0m\u001b[0m\n\u001b[0m\u001b[1;32m    298\u001b[0m             \u001b[0;32mif\u001b[0m \u001b[0mstatus\u001b[0m \u001b[0;34m!=\u001b[0m \u001b[0mCONTINUE\u001b[0m\u001b[0;34m:\u001b[0m\u001b[0;34m\u001b[0m\u001b[0m\n\u001b[1;32m    299\u001b[0m                 \u001b[0;32mbreak\u001b[0m\u001b[0;34m\u001b[0m\u001b[0m\n",
      "\u001b[0;32m~/anaconda3/lib/python3.6/http/client.py\u001b[0m in \u001b[0;36m_read_status\u001b[0;34m(self)\u001b[0m\n\u001b[1;32m    256\u001b[0m \u001b[0;34m\u001b[0m\u001b[0m\n\u001b[1;32m    257\u001b[0m     \u001b[0;32mdef\u001b[0m \u001b[0m_read_status\u001b[0m\u001b[0;34m(\u001b[0m\u001b[0mself\u001b[0m\u001b[0;34m)\u001b[0m\u001b[0;34m:\u001b[0m\u001b[0;34m\u001b[0m\u001b[0m\n\u001b[0;32m--> 258\u001b[0;31m         \u001b[0mline\u001b[0m \u001b[0;34m=\u001b[0m \u001b[0mstr\u001b[0m\u001b[0;34m(\u001b[0m\u001b[0mself\u001b[0m\u001b[0;34m.\u001b[0m\u001b[0mfp\u001b[0m\u001b[0;34m.\u001b[0m\u001b[0mreadline\u001b[0m\u001b[0;34m(\u001b[0m\u001b[0m_MAXLINE\u001b[0m \u001b[0;34m+\u001b[0m \u001b[0;36m1\u001b[0m\u001b[0;34m)\u001b[0m\u001b[0;34m,\u001b[0m \u001b[0;34m\"iso-8859-1\"\u001b[0m\u001b[0;34m)\u001b[0m\u001b[0;34m\u001b[0m\u001b[0m\n\u001b[0m\u001b[1;32m    259\u001b[0m         \u001b[0;32mif\u001b[0m \u001b[0mlen\u001b[0m\u001b[0;34m(\u001b[0m\u001b[0mline\u001b[0m\u001b[0;34m)\u001b[0m \u001b[0;34m>\u001b[0m \u001b[0m_MAXLINE\u001b[0m\u001b[0;34m:\u001b[0m\u001b[0;34m\u001b[0m\u001b[0m\n\u001b[1;32m    260\u001b[0m             \u001b[0;32mraise\u001b[0m \u001b[0mLineTooLong\u001b[0m\u001b[0;34m(\u001b[0m\u001b[0;34m\"status line\"\u001b[0m\u001b[0;34m)\u001b[0m\u001b[0;34m\u001b[0m\u001b[0m\n",
      "\u001b[0;32m~/anaconda3/lib/python3.6/socket.py\u001b[0m in \u001b[0;36mreadinto\u001b[0;34m(self, b)\u001b[0m\n\u001b[1;32m    584\u001b[0m         \u001b[0;32mwhile\u001b[0m \u001b[0;32mTrue\u001b[0m\u001b[0;34m:\u001b[0m\u001b[0;34m\u001b[0m\u001b[0m\n\u001b[1;32m    585\u001b[0m             \u001b[0;32mtry\u001b[0m\u001b[0;34m:\u001b[0m\u001b[0;34m\u001b[0m\u001b[0m\n\u001b[0;32m--> 586\u001b[0;31m                 \u001b[0;32mreturn\u001b[0m \u001b[0mself\u001b[0m\u001b[0;34m.\u001b[0m\u001b[0m_sock\u001b[0m\u001b[0;34m.\u001b[0m\u001b[0mrecv_into\u001b[0m\u001b[0;34m(\u001b[0m\u001b[0mb\u001b[0m\u001b[0;34m)\u001b[0m\u001b[0;34m\u001b[0m\u001b[0m\n\u001b[0m\u001b[1;32m    587\u001b[0m             \u001b[0;32mexcept\u001b[0m \u001b[0mtimeout\u001b[0m\u001b[0;34m:\u001b[0m\u001b[0;34m\u001b[0m\u001b[0m\n\u001b[1;32m    588\u001b[0m                 \u001b[0mself\u001b[0m\u001b[0;34m.\u001b[0m\u001b[0m_timeout_occurred\u001b[0m \u001b[0;34m=\u001b[0m \u001b[0;32mTrue\u001b[0m\u001b[0;34m\u001b[0m\u001b[0m\n",
      "\u001b[0;32m~/anaconda3/lib/python3.6/site-packages/urllib3/contrib/pyopenssl.py\u001b[0m in \u001b[0;36mrecv_into\u001b[0;34m(self, *args, **kwargs)\u001b[0m\n\u001b[1;32m    278\u001b[0m     \u001b[0;32mdef\u001b[0m \u001b[0mrecv_into\u001b[0m\u001b[0;34m(\u001b[0m\u001b[0mself\u001b[0m\u001b[0;34m,\u001b[0m \u001b[0;34m*\u001b[0m\u001b[0margs\u001b[0m\u001b[0;34m,\u001b[0m \u001b[0;34m**\u001b[0m\u001b[0mkwargs\u001b[0m\u001b[0;34m)\u001b[0m\u001b[0;34m:\u001b[0m\u001b[0;34m\u001b[0m\u001b[0m\n\u001b[1;32m    279\u001b[0m         \u001b[0;32mtry\u001b[0m\u001b[0;34m:\u001b[0m\u001b[0;34m\u001b[0m\u001b[0m\n\u001b[0;32m--> 280\u001b[0;31m             \u001b[0;32mreturn\u001b[0m \u001b[0mself\u001b[0m\u001b[0;34m.\u001b[0m\u001b[0mconnection\u001b[0m\u001b[0;34m.\u001b[0m\u001b[0mrecv_into\u001b[0m\u001b[0;34m(\u001b[0m\u001b[0;34m*\u001b[0m\u001b[0margs\u001b[0m\u001b[0;34m,\u001b[0m \u001b[0;34m**\u001b[0m\u001b[0mkwargs\u001b[0m\u001b[0;34m)\u001b[0m\u001b[0;34m\u001b[0m\u001b[0m\n\u001b[0m\u001b[1;32m    281\u001b[0m         \u001b[0;32mexcept\u001b[0m \u001b[0mOpenSSL\u001b[0m\u001b[0;34m.\u001b[0m\u001b[0mSSL\u001b[0m\u001b[0;34m.\u001b[0m\u001b[0mSysCallError\u001b[0m \u001b[0;32mas\u001b[0m \u001b[0me\u001b[0m\u001b[0;34m:\u001b[0m\u001b[0;34m\u001b[0m\u001b[0m\n\u001b[1;32m    282\u001b[0m             \u001b[0;32mif\u001b[0m \u001b[0mself\u001b[0m\u001b[0;34m.\u001b[0m\u001b[0msuppress_ragged_eofs\u001b[0m \u001b[0;32mand\u001b[0m \u001b[0me\u001b[0m\u001b[0;34m.\u001b[0m\u001b[0margs\u001b[0m \u001b[0;34m==\u001b[0m \u001b[0;34m(\u001b[0m\u001b[0;34m-\u001b[0m\u001b[0;36m1\u001b[0m\u001b[0;34m,\u001b[0m \u001b[0;34m'Unexpected EOF'\u001b[0m\u001b[0;34m)\u001b[0m\u001b[0;34m:\u001b[0m\u001b[0;34m\u001b[0m\u001b[0m\n",
      "\u001b[0;32m~/anaconda3/lib/python3.6/site-packages/OpenSSL/SSL.py\u001b[0m in \u001b[0;36mrecv_into\u001b[0;34m(self, buffer, nbytes, flags)\u001b[0m\n\u001b[1;32m   1811\u001b[0m             \u001b[0mresult\u001b[0m \u001b[0;34m=\u001b[0m \u001b[0m_lib\u001b[0m\u001b[0;34m.\u001b[0m\u001b[0mSSL_peek\u001b[0m\u001b[0;34m(\u001b[0m\u001b[0mself\u001b[0m\u001b[0;34m.\u001b[0m\u001b[0m_ssl\u001b[0m\u001b[0;34m,\u001b[0m \u001b[0mbuf\u001b[0m\u001b[0;34m,\u001b[0m \u001b[0mnbytes\u001b[0m\u001b[0;34m)\u001b[0m\u001b[0;34m\u001b[0m\u001b[0m\n\u001b[1;32m   1812\u001b[0m         \u001b[0;32melse\u001b[0m\u001b[0;34m:\u001b[0m\u001b[0;34m\u001b[0m\u001b[0m\n\u001b[0;32m-> 1813\u001b[0;31m             \u001b[0mresult\u001b[0m \u001b[0;34m=\u001b[0m \u001b[0m_lib\u001b[0m\u001b[0;34m.\u001b[0m\u001b[0mSSL_read\u001b[0m\u001b[0;34m(\u001b[0m\u001b[0mself\u001b[0m\u001b[0;34m.\u001b[0m\u001b[0m_ssl\u001b[0m\u001b[0;34m,\u001b[0m \u001b[0mbuf\u001b[0m\u001b[0;34m,\u001b[0m \u001b[0mnbytes\u001b[0m\u001b[0;34m)\u001b[0m\u001b[0;34m\u001b[0m\u001b[0m\n\u001b[0m\u001b[1;32m   1814\u001b[0m         \u001b[0mself\u001b[0m\u001b[0;34m.\u001b[0m\u001b[0m_raise_ssl_error\u001b[0m\u001b[0;34m(\u001b[0m\u001b[0mself\u001b[0m\u001b[0;34m.\u001b[0m\u001b[0m_ssl\u001b[0m\u001b[0;34m,\u001b[0m \u001b[0mresult\u001b[0m\u001b[0;34m)\u001b[0m\u001b[0;34m\u001b[0m\u001b[0m\n\u001b[1;32m   1815\u001b[0m \u001b[0;34m\u001b[0m\u001b[0m\n",
      "\u001b[0;31mKeyboardInterrupt\u001b[0m: "
     ]
    }
   ],
   "source": [
    "doc.make_links_absolute(base_url=res.url) #絕對路徑\n",
    "for eachLv1Doc in doc(\".content .site-list\").items():\n",
    "    lv1Doc = pq(eachLv1Doc('a').attr(\"href\")) #取得大類別連結\n",
    "    if \"活動\" in lv1Doc(\"#cl-menucate .sitelist:nth-child(1) .stitle\") \\\n",
    "    .text():\n",
    "        print(lv1Doc(\"#cl-menucate .sitelist:nth-child(n+2) .list\").text()) #去掉促銷活動\n",
    "    else:\n",
    "        print(lv1Doc(\"#cl-menucate .sitelist .list\").text()) #列出中類別\n",
    "     "
   ]
  },
  {
   "cell_type": "code",
   "execution_count": null,
   "metadata": {},
   "outputs": [],
   "source": []
  },
  {
   "cell_type": "code",
   "execution_count": null,
   "metadata": {},
   "outputs": [],
   "source": []
  }
 ],
 "metadata": {
  "kernelspec": {
   "display_name": "Python 3",
   "language": "python",
   "name": "python3"
  },
  "language_info": {
   "codemirror_mode": {
    "name": "ipython",
    "version": 3
   },
   "file_extension": ".py",
   "mimetype": "text/x-python",
   "name": "python",
   "nbconvert_exporter": "python",
   "pygments_lexer": "ipython3",
   "version": "3.6.5"
  }
 },
 "nbformat": 4,
 "nbformat_minor": 2
}
