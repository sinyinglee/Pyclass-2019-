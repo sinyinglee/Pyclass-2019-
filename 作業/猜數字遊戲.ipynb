{
 "cells": [
  {
   "cell_type": "code",
   "execution_count": 7,
   "metadata": {},
   "outputs": [
    {
     "name": "stdout",
     "output_type": "stream",
     "text": [
      "本局遊戲的最小值:1\n",
      "本局遊戲的最大值:20\n",
      "請輸入你猜的數字：14\n",
      "你猜的數大了...\n",
      "請輸入你猜的數字：6\n",
      "你猜的數大了...\n",
      "請輸入你猜的數字：4\n",
      "恭喜，你猜對了！\n",
      "你總共猜了3次"
     ]
    }
   ],
   "source": [
    "import random\n",
    "rang1 = int(input(\"本局遊戲的最小值:\"))\n",
    "rang2 = int(input(\"本局遊戲的最大值:\"))\n",
    "num = random.randint(rang1,rang2)\n",
    "guess = \"guess\"\n",
    "\n",
    "i = 0\n",
    "while guess != num:\n",
    "    i += 1\n",
    "    guess = int(input(\"請輸入你猜的數字：\"))\n",
    "\n",
    "    if guess == num:\n",
    "        print(\"恭喜，你猜對了！\")\n",
    "    elif guess < num:\n",
    "        print(\"你猜的數小了...\")\n",
    "    else:\n",
    "        print(\"你猜的數大了...\")\n",
    "\n",
    "print(\"你總共猜了%d\" %i + \"次\",end = '')"
   ]
  },
  {
   "cell_type": "code",
   "execution_count": null,
   "metadata": {},
   "outputs": [],
   "source": []
  }
 ],
 "metadata": {
  "kernelspec": {
   "display_name": "Python 3",
   "language": "python",
   "name": "python3"
  },
  "language_info": {
   "codemirror_mode": {
    "name": "ipython",
    "version": 3
   },
   "file_extension": ".py",
   "mimetype": "text/x-python",
   "name": "python",
   "nbconvert_exporter": "python",
   "pygments_lexer": "ipython3",
   "version": "3.7.3"
  }
 },
 "nbformat": 4,
 "nbformat_minor": 2
}
