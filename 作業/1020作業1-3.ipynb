{
 "cells": [
  {
   "cell_type": "markdown",
   "metadata": {},
   "source": [
    "## 1.今天穿什麼呢？"
   ]
  },
  {
   "cell_type": "code",
   "execution_count": 4,
   "metadata": {},
   "outputs": [],
   "source": [
    "from IPython.display import display, Image\n",
    "from random import choice"
   ]
  },
  {
   "cell_type": "code",
   "execution_count": 5,
   "metadata": {},
   "outputs": [],
   "source": [
    "outfit = [\"1.jpeg\", \"2.jpg\", \"3.jpeg\",\"4.jpeg\", \"5.jpeg\", \"6.jpeg\"]\n",
    "pick_pic = choice(outfit)"
   ]
  },
  {
   "cell_type": "code",
   "execution_count": 6,
   "metadata": {},
   "outputs": [
    {
     "data": {
      "image/jpeg": "[encoded data removed]",
      "text/plain": [
       "<IPython.core.display.Image object>"
      ]
     },
     "metadata": {},
     "output_type": "display_data"
    }
   ],
   "source": [
    "photo = Image (pick_pic)\n",
    "display(photo)"
   ]
  },
  {
   "cell_type": "markdown",
   "metadata": {},
   "source": [
    "## 2. 政大午餐吃什麼？"
   ]
  },
  {
   "cell_type": "code",
   "execution_count": 2,
   "metadata": {},
   "outputs": [],
   "source": [
    "import ipywidgets as widgets\n",
    "from ipywidgets import interact, interact_manual, fixed\n",
    "from IPython.display import clear_output\n",
    "from random import choice"
   ]
  },
  {
   "cell_type": "code",
   "execution_count": 3,
   "metadata": {},
   "outputs": [
    {
     "data": {
      "application/vnd.jupyter.widget-view+json": {
       "model_id": "ee4974751eca4660b29e43cd06ad4c42",
       "version_major": 2,
       "version_minor": 0
      },
      "text/plain": [
       "VBox(children=(Button(description='吃什麼？', style=ButtonStyle(button_color='pink')), Output()))"
      ]
     },
     "metadata": {},
     "output_type": "display_data"
    }
   ],
   "source": [
    "button = widgets.Button(description='吃什麼？')\n",
    "button.style.button_color = 'pink'\n",
    "out = widgets.Output()\n",
    "\n",
    "def button_clicked(_): \n",
    "    with out: \n",
    "        clear_output() \n",
    "        shop = [\"小公寓\", \"悅來麵食\", \"左撇子\", \"龐家肉羹\", \"My麵屋\", \"滇味廚房\", \"樂山食堂\", \"里克\",\"金鮨\", \"華越\", \"城市怪獸\", \"白店\", \"黑店\", \"里克\",\"Juicy Bun\", \"波波恰恰\",\"私房麵\",\"舒曼六號\"]\n",
    "        print(choice(shop))\n",
    "        \n",
    "button.on_click(button_clicked) \n",
    "widgets.VBox([button,out]) "
   ]
  },
  {
   "cell_type": "markdown",
   "metadata": {},
   "source": [
    "## 3. 猜數字"
   ]
  },
  {
   "cell_type": "code",
   "execution_count": 6,
   "metadata": {},
   "outputs": [],
   "source": [
    "import random"
   ]
  },
  {
   "cell_type": "code",
   "execution_count": 11,
   "metadata": {},
   "outputs": [
    {
     "name": "stdout",
     "output_type": "stream",
     "text": [
      "[2, 3, 5, 6]\n",
      ">> 請輸入數字 2356\n",
      "   4A4B   \n",
      "你簡直太神啦><\n"
     ]
    }
   ],
   "source": [
    "num_list = [1,2,3,4,5,6,7,8,9]\n",
    "\n",
    "pick_num = random.sample(num_list,4) #取出4個不重複的數字\n",
    "print(pick_num)\n",
    "\n",
    "def string(i): #每個數字都換成string\n",
    "    k = str(i)\n",
    "    return k \n",
    "\n",
    "make_string = list(map(string, pick_num)) #string int\n",
    "\n",
    "while True:\n",
    "    check_str=[]\n",
    "    check_num=[]\n",
    "    user_num = input(\">> 請輸入數字 \")\n",
    "    for i in range(4):\n",
    "        if user_num[i] == make_string[i]:\n",
    "            check_str.append(\"T\")\n",
    "        else: \n",
    "             check_str.append(\"F\")    \n",
    "        if int(user_num[i]) in pick_num:\n",
    "            check_num.append(\"T\")      \n",
    "        else:\n",
    "            check_num.append(\"F\")  \n",
    "    count1= check_str.count(\"T\") #算A\n",
    "    count2= check_num.count(\"T\") #算B\n",
    "    answer = f\"{count1}A{count2}B\"\n",
    "\n",
    "    if answer == \"4A4B\":\n",
    "        print(f\"{answer:^10s}\"+\"\\n\"+\"你簡直太神啦><\")\n",
    "        break\n",
    "    else:\n",
    "        print(answer)\n",
    "\n"
   ]
  },
  {
   "cell_type": "code",
   "execution_count": null,
   "metadata": {},
   "outputs": [],
   "source": []
  }
 ],
 "metadata": {
  "kernelspec": {
   "display_name": "Python 3",
   "language": "python",
   "name": "python3"
  },
  "language_info": {
   "codemirror_mode": {
    "name": "ipython",
    "version": 3
   },
   "file_extension": ".py",
   "mimetype": "text/x-python",
   "name": "python",
   "nbconvert_exporter": "python",
   "pygments_lexer": "ipython3",
   "version": "3.7.3"
  }
 },
 "nbformat": 4,
 "nbformat_minor": 2
}
