{
 "cells": [
  {
   "cell_type": "code",
   "execution_count": 4,
   "metadata": {},
   "outputs": [
    {
     "name": "stdout",
     "output_type": "stream",
     "text": [
      "擲骰子\n",
      "結果\n",
      "3\n",
      "2\n",
      "再擲一次 n\n"
     ]
    }
   ],
   "source": [
    "import random\n",
    "min = 1\n",
    "max = 6\n",
    "\n",
    "roll_again = \"yes\"\n",
    "\n",
    "while roll_again == \"yes\" or roll_again == \"y\":\n",
    "    print(\"擲骰子\")\n",
    "    print(\"結果\")\n",
    "    print(random.randint(min, max))\n",
    "    print(random.randint(min, max))\n",
    "\n",
    "    roll_again = input(\"再擲一次 \")"
   ]
  },
  {
   "cell_type": "code",
   "execution_count": null,
   "metadata": {},
   "outputs": [],
   "source": []
  }
 ],
 "metadata": {
  "kernelspec": {
   "display_name": "Python 3",
   "language": "python",
   "name": "python3"
  },
  "language_info": {
   "codemirror_mode": {
    "name": "ipython",
    "version": 3
   },
   "file_extension": ".py",
   "mimetype": "text/x-python",
   "name": "python",
   "nbconvert_exporter": "python",
   "pygments_lexer": "ipython3",
   "version": "3.7.3"
  }
 },
 "nbformat": 4,
 "nbformat_minor": 2
}
