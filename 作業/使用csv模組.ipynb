{
 "cells": [
  {
   "cell_type": "code",
   "execution_count": 37,
   "metadata": {},
   "outputs": [],
   "source": [
    "import csv\n",
    "song = [ ]\n",
    "with open(\"songname.csv\",\"r\") as fIn:\n",
    "    csvIn = csv.reader(fIn) \n",
    "    for line in csvIn:\n",
    "        song.append(line)"
   ]
  },
  {
   "cell_type": "code",
   "execution_count": 38,
   "metadata": {},
   "outputs": [
    {
     "data": {
      "text/plain": [
       "[['甜蜜城市'],\n",
       " ['萬華的宇宙'],\n",
       " ['南國的孩子'],\n",
       " ['美麗島'],\n",
       " ['長青東街'],\n",
       " ['大國民'],\n",
       " ['田寮37號'],\n",
       " ['鬼扮仙'],\n",
       " ['好朋友只是朋友'],\n",
       " ['海產'],\n",
       " ['無人熟識'],\n",
       " ['幸福路上'],\n",
       " ['在旅行的路上'],\n",
       " ['太平洋的風'],\n",
       " ['黑鳥'],\n",
       " ['欺我庄'],\n",
       " ['別在都蘭的土地上輕易的說著你愛我'],\n",
       " ['骨力走傱'],\n",
       " ['我的世界垮下來'],\n",
       " ['你們的口'],\n",
       " ['The Less I Know The Better'],\n",
       " ['島嶼天光'],\n",
       " ['うららのLa'],\n",
       " ['Quit ft. Ariana Grande'],\n",
       " ['ラビリンス'],\n",
       " ['Instant Crush ft. Julian Casablancas'],\n",
       " ['Hide and Seek'],\n",
       " ['Love It If We Made It'],\n",
       " ['New Friend Request'],\n",
       " ['Lonely Man of Winter'],\n",
       " ['The Moon Song (Film Version)'],\n",
       " ['徒花ネクロマンシー'],\n",
       " ['We are young'],\n",
       " ['白虎野の娘'],\n",
       " ['名前のない怪物'],\n",
       " ['割れたリンゴ'],\n",
       " ['oblivious'],\n",
       " ['Bills'],\n",
       " ['Money On My Mind'],\n",
       " ['Rich (feat. BIGBANG TAEYANG)'],\n",
       " ['Blind'],\n",
       " ['戀愛症候群'],\n",
       " ['This Christmas Night (ft. Dia Frampton)'],\n",
       " ['Cannonball'],\n",
       " ['Bad Bad News'],\n",
       " ['海王星'],\n",
       " ['昨天晚上我夢見你'],\n",
       " ['OK'],\n",
       " ['玻璃心'],\n",
       " ['Ride'],\n",
       " ['像我這樣的人'],\n",
       " ['旅鳥'],\n",
       " ['醜'],\n",
       " ['細粒的目睭'],\n",
       " ['海裡睡人'],\n",
       " ['Blue Bird'],\n",
       " ['Oath Sign'],\n",
       " ['Nevereverland'],\n",
       " ['現実という名の怪物と戦う者たち'],\n",
       " ['The A Team'],\n",
       " ['NUMB'],\n",
       " ['Sober'],\n",
       " ['唯一人'],\n",
       " ['Fly me to the moon'],\n",
       " ['Champagne Supernova'],\n",
       " ['生而為人，我很抱歉'],\n",
       " ['The Joke'],\n",
       " ['僕が死のうと思ったのは'],\n",
       " ['我們都寂寞'],\n",
       " ['ぼくのフレンド'],\n",
       " ['浮雲'],\n",
       " ['能給的只有這麼多'],\n",
       " ['絕望城市'],\n",
       " ['怪美的'],\n",
       " ['無與倫比的美麗'],\n",
       " ['Audio'],\n",
       " ['我們'],\n",
       " ['藍眼睛'],\n",
       " ['水星記']]"
      ]
     },
     "execution_count": 38,
     "metadata": {},
     "output_type": "execute_result"
    }
   ],
   "source": [
    "song[1:]"
   ]
  },
  {
   "cell_type": "code",
   "execution_count": null,
   "metadata": {},
   "outputs": [],
   "source": [
    "import csv \n",
    "with open(\"newdoc.csv\", \"w\") as fOut:\n",
    "    csvOut=csv.writer(fOut)\n",
    "    csvOut.writerows(newdoc)\n",
    "    "
   ]
  },
  {
   "cell_type": "code",
   "execution_count": 15,
   "metadata": {},
   "outputs": [],
   "source": [
    "import csv\n",
    "dataList = [ ]\n",
    "with open(\"tw_population_density.csv\",\"r\") as fIn:\n",
    "    csvIn = csv.reader(fIn) \n",
    "    for line in csvIn:\n",
    "        dataList.append(line)"
   ]
  },
  {
   "cell_type": "code",
   "execution_count": 17,
   "metadata": {},
   "outputs": [],
   "source": [
    "head = dataList[0]\n",
    "body = dataList[1:]"
   ]
  },
  {
   "cell_type": "code",
   "execution_count": 34,
   "metadata": {},
   "outputs": [],
   "source": [
    "def getKey(item):\n",
    "    return int(item[-1])\n",
    "\n",
    "newdoc= sorted(body, key=getKey)\n"
   ]
  },
  {
   "cell_type": "code",
   "execution_count": 35,
   "metadata": {},
   "outputs": [],
   "source": [
    "import csv \n",
    "with open(\"newdoc.csv\", \"w\") as fOut:\n",
    "    csvOut=csv.writer(fOut)\n",
    "    csvOut.writerows(newdoc)\n",
    "    "
   ]
  },
  {
   "cell_type": "code",
   "execution_count": null,
   "metadata": {},
   "outputs": [],
   "source": []
  }
 ],
 "metadata": {
  "kernelspec": {
   "display_name": "Python 3",
   "language": "python",
   "name": "python3"
  },
  "language_info": {
   "codemirror_mode": {
    "name": "ipython",
    "version": 3
   },
   "file_extension": ".py",
   "mimetype": "text/x-python",
   "name": "python",
   "nbconvert_exporter": "python",
   "pygments_lexer": "ipython3",
   "version": "3.6.5"
  }
 },
 "nbformat": 4,
 "nbformat_minor": 2
}
