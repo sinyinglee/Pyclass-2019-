{
 "cells": [
  {
   "cell_type": "markdown",
   "metadata": {},
   "source": [
    "## 問題敘述"
   ]
  },
  {
   "cell_type": "markdown",
   "metadata": {},
   "source": [
    "沒有spotify或kkbox，想建立專屬的免費音樂庫只能從Youtube著手。然而，無論下載音樂或是建立播放清單都是件超麻煩的事，\n",
    "必須一首首查，再一一下載或新增到播放清單，因此希望可以用python寫出一組程式能大量快速地下載歌曲或建立播放清單。"
   ]
  },
  {
   "cell_type": "markdown",
   "metadata": {},
   "source": [
    "## 遇到的困難"
   ]
  },
  {
   "cell_type": "markdown",
   "metadata": {},
   "source": [
    "1. 要怎麼獲取youtube資料？\n",
    "2. 怎麼自動化處理？\n",
    "3. 知道有Youtube API可以使用，但怎麼操作？"
   ]
  },
  {
   "cell_type": "markdown",
   "metadata": {},
   "source": [
    "## 解決辦法"
   ]
  },
  {
   "cell_type": "markdown",
   "metadata": {},
   "source": [
    "1. 使用Youtube API\n",
    "2. 操作selenium\n",
    "3. 嗯...想辦法自己研究挺久的>< 但有志者，事竟成！"
   ]
  },
  {
   "cell_type": "markdown",
   "metadata": {},
   "source": [
    "## 結果"
   ]
  },
  {
   "cell_type": "markdown",
   "metadata": {},
   "source": [
    "1. [Youtube MP3 Downloader](\"https://nbviewer.jupyter.org/github/sinyinglee/Pyclass-2019-/blob/master/Final%20Project/Youtube%20API%20Download.ipynb\")\n",
    "2. [Youtube PlayList Generator](\"https://nbviewer.jupyter.org/github/sinyinglee/Pyclass-2019-/blob/master/Final%20Project/Youtube%20Playlist%20.ipynb\")"
   ]
  },
  {
   "cell_type": "markdown",
   "metadata": {},
   "source": [
    "## 未來展望"
   ]
  },
  {
   "cell_type": "markdown",
   "metadata": {},
   "source": [
    "可以自建網站呈現，讓他人能透過網站輸入欲下載或建立播放清單的歌曲，而網頁會直接回傳播放清單連結或是自動開啟分頁下載mp3檔"
   ]
  },
  {
   "cell_type": "code",
   "execution_count": null,
   "metadata": {},
   "outputs": [],
   "source": []
  }
 ],
 "metadata": {
  "kernelspec": {
   "display_name": "Python 3",
   "language": "python",
   "name": "python3"
  },
  "language_info": {
   "codemirror_mode": {
    "name": "ipython",
    "version": 3
   },
   "file_extension": ".py",
   "mimetype": "text/x-python",
   "name": "python",
   "nbconvert_exporter": "python",
   "pygments_lexer": "ipython3",
   "version": "3.7.3"
  }
 },
 "nbformat": 4,
 "nbformat_minor": 2
}
