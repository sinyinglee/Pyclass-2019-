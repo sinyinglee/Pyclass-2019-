{
 "cells": [
  {
   "cell_type": "markdown",
   "metadata": {},
   "source": [
    "### 使用ToDo list"
   ]
  },
  {
   "cell_type": "markdown",
   "metadata": {},
   "source": [
    "1. 於終端機cd ToDo_App\n",
    "2. 下載虛擬環境,於終端機下指令 \n",
    "    --> pip install virtualenv (如已安裝過則無需再下載, 可用pip freeze確認有無安裝virtualenv\n",
    "3. 建立與啟動虛擬環境\n",
    "    --> source test01/bin/activate （啟動虛擬環境）\n",
    "3. cd my_app\n",
    "6. 啟動網頁\n",
    "   --> python manage.py runserver\n",
    "   (複製於終端機顯示的連結，開啟網頁）"
   ]
  },
  {
   "cell_type": "code",
   "execution_count": null,
   "metadata": {},
   "outputs": [],
   "source": [
    "from IPython.display import Image\n",
    "Image(\"T.png\")"
   ]
  }
 ],
 "metadata": {
  "kernelspec": {
   "display_name": "Python 3",
   "language": "python",
   "name": "python3"
  },
  "language_info": {
   "codemirror_mode": {
    "name": "ipython",
    "version": 3
   },
   "file_extension": ".py",
   "mimetype": "text/x-python",
   "name": "python",
   "nbconvert_exporter": "python",
   "pygments_lexer": "ipython3",
   "version": "3.7.3"
  }
 },
 "nbformat": 4,
 "nbformat_minor": 2
}
