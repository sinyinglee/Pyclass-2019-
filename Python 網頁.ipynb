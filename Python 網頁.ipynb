{
 "cells": [
  {
   "cell_type": "markdown",
   "metadata": {},
   "source": [
    "## Python網頁架設\n",
    "1. Django (大型專案)\n",
    "2. Flask(小巧/靜態網頁)"
   ]
  },
  {
   "cell_type": "code",
   "execution_count": 1,
   "metadata": {
    "collapsed": true
   },
   "outputs": [
    {
     "name": "stdout",
     "output_type": "stream",
     "text": [
      "Requirement already satisfied: streamlit in /anaconda3/lib/python3.7/site-packages (0.51.0)\n",
      "Requirement already satisfied: validators in /anaconda3/lib/python3.7/site-packages (from streamlit) (0.14.1)\n",
      "Requirement already satisfied: toml in /anaconda3/lib/python3.7/site-packages (from streamlit) (0.10.0)\n",
      "Requirement already satisfied: numpy in /anaconda3/lib/python3.7/site-packages (from streamlit) (1.16.4)\n",
      "Requirement already satisfied: watchdog in /anaconda3/lib/python3.7/site-packages (from streamlit) (0.9.0)\n",
      "Requirement already satisfied: click>=7.0 in /anaconda3/lib/python3.7/site-packages (from streamlit) (7.0)\n",
      "Requirement already satisfied: boto3 in /anaconda3/lib/python3.7/site-packages (from streamlit) (1.10.41)\n",
      "Requirement already satisfied: requests in /anaconda3/lib/python3.7/site-packages (from streamlit) (2.22.0)\n",
      "Requirement already satisfied: astor in /anaconda3/lib/python3.7/site-packages (from streamlit) (0.8.0)\n",
      "Requirement already satisfied: enum-compat in /anaconda3/lib/python3.7/site-packages (from streamlit) (0.0.3)\n",
      "Requirement already satisfied: protobuf>=3.6.0 in /anaconda3/lib/python3.7/site-packages (from streamlit) (3.10.0)\n",
      "Requirement already satisfied: tornado<6.0,>=5.0 in /anaconda3/lib/python3.7/site-packages (from streamlit) (5.1.1)\n",
      "Requirement already satisfied: pillow>=6.2.0 in /anaconda3/lib/python3.7/site-packages (from streamlit) (6.2.1)\n",
      "Requirement already satisfied: botocore in /anaconda3/lib/python3.7/site-packages (from streamlit) (1.13.41)\n",
      "Requirement already satisfied: altair>=3.2.0 in /anaconda3/lib/python3.7/site-packages (from streamlit) (4.0.0)\n",
      "Requirement already satisfied: future in /anaconda3/lib/python3.7/site-packages (from streamlit) (0.18.2)\n",
      "Requirement already satisfied: blinker in /anaconda3/lib/python3.7/site-packages (from streamlit) (1.4)\n",
      "Requirement already satisfied: tzlocal in /anaconda3/lib/python3.7/site-packages (from streamlit) (2.0.0)\n",
      "Requirement already satisfied: pandas>=0.21.0 in /anaconda3/lib/python3.7/site-packages (from streamlit) (0.24.2)\n",
      "Requirement already satisfied: base58 in /anaconda3/lib/python3.7/site-packages (from streamlit) (1.0.3)\n",
      "Requirement already satisfied: decorator>=3.4.0 in /anaconda3/lib/python3.7/site-packages (from validators->streamlit) (4.4.0)\n",
      "Requirement already satisfied: six>=1.4.0 in /anaconda3/lib/python3.7/site-packages (from validators->streamlit) (1.12.0)\n",
      "Requirement already satisfied: pathtools>=0.1.1 in /anaconda3/lib/python3.7/site-packages (from watchdog->streamlit) (0.1.2)\n",
      "Requirement already satisfied: PyYAML>=3.10 in /anaconda3/lib/python3.7/site-packages (from watchdog->streamlit) (5.1.1)\n",
      "Requirement already satisfied: argh>=0.24.1 in /anaconda3/lib/python3.7/site-packages (from watchdog->streamlit) (0.26.2)\n",
      "Requirement already satisfied: s3transfer<0.3.0,>=0.2.0 in /anaconda3/lib/python3.7/site-packages (from boto3->streamlit) (0.2.1)\n",
      "Requirement already satisfied: jmespath<1.0.0,>=0.7.1 in /anaconda3/lib/python3.7/site-packages (from boto3->streamlit) (0.9.4)\n",
      "Requirement already satisfied: certifi>=2017.4.17 in /anaconda3/lib/python3.7/site-packages (from requests->streamlit) (2019.6.16)\n",
      "Requirement already satisfied: idna<2.9,>=2.5 in /anaconda3/lib/python3.7/site-packages (from requests->streamlit) (2.8)\n",
      "Requirement already satisfied: chardet<3.1.0,>=3.0.2 in /anaconda3/lib/python3.7/site-packages (from requests->streamlit) (3.0.4)\n",
      "Requirement already satisfied: urllib3!=1.25.0,!=1.25.1,<1.26,>=1.21.1 in /anaconda3/lib/python3.7/site-packages (from requests->streamlit) (1.24.2)\n",
      "Requirement already satisfied: setuptools in /anaconda3/lib/python3.7/site-packages (from protobuf>=3.6.0->streamlit) (41.0.1)\n",
      "Requirement already satisfied: python-dateutil<2.8.1,>=2.1; python_version >= \"2.7\" in /anaconda3/lib/python3.7/site-packages (from botocore->streamlit) (2.8.0)\n",
      "Requirement already satisfied: docutils<0.16,>=0.10 in /anaconda3/lib/python3.7/site-packages (from botocore->streamlit) (0.14)\n",
      "Requirement already satisfied: entrypoints in /anaconda3/lib/python3.7/site-packages (from altair>=3.2.0->streamlit) (0.3)\n",
      "Requirement already satisfied: toolz in /anaconda3/lib/python3.7/site-packages (from altair>=3.2.0->streamlit) (0.10.0)\n",
      "Requirement already satisfied: jsonschema in /anaconda3/lib/python3.7/site-packages (from altair>=3.2.0->streamlit) (3.0.1)\n",
      "Requirement already satisfied: jinja2 in /anaconda3/lib/python3.7/site-packages (from altair>=3.2.0->streamlit) (2.10.1)\n",
      "Requirement already satisfied: pytz in /anaconda3/lib/python3.7/site-packages (from tzlocal->streamlit) (2019.1)\n",
      "Requirement already satisfied: attrs>=17.4.0 in /anaconda3/lib/python3.7/site-packages (from jsonschema->altair>=3.2.0->streamlit) (19.1.0)\n",
      "Requirement already satisfied: pyrsistent>=0.14.0 in /anaconda3/lib/python3.7/site-packages (from jsonschema->altair>=3.2.0->streamlit) (0.14.11)\n",
      "Requirement already satisfied: MarkupSafe>=0.23 in /anaconda3/lib/python3.7/site-packages (from jinja2->altair>=3.2.0->streamlit) (1.1.1)\n"
     ]
    }
   ],
   "source": [
    "## streamlit\n",
    "\n",
    "!pip install streamlit"
   ]
  },
  {
   "cell_type": "code",
   "execution_count": 2,
   "metadata": {},
   "outputs": [
    {
     "name": "stdout",
     "output_type": "stream",
     "text": [
      "Overwriting web01.py\n"
     ]
    }
   ],
   "source": [
    "%%writefile web01.py\n",
    "import pandas as pd\n",
    "df = pd.DataFrame({\"A\": [33,99,88],\n",
    "                 \"B\":[94,87,1000]})\n",
    "df"
   ]
  },
  {
   "cell_type": "code",
   "execution_count": 3,
   "metadata": {},
   "outputs": [
    {
     "name": "stdout",
     "output_type": "stream",
     "text": [
      "0911 Import matplotlib.ipynb\r\n",
      "0918上課markdown, while迴圈,plot簡易畫圖,interact功能.ipynb\r\n",
      "0925上課List,For迴圈.ipynb\r\n",
      "1.jpeg\r\n",
      "1002上課random使用.ipynb\r\n",
      "1009上課Map,Lambda,Print格式化,Display.ipynb\r\n",
      "1011數據分析moocs.ipynb\r\n",
      "1016上課Class,csv檔案存取.ipynb\r\n",
      "1023上課(Array, Sympy).ipynb\r\n",
      "1027練習.ipynb\r\n",
      "1030 Pandas.ipynb\r\n",
      "1113 機器學習(線性迴歸）.ipynb\r\n",
      "1120 圖形辨識.ipynb\r\n",
      "1127上課.ipynb\r\n",
      "2.jpg\r\n",
      "3.jpeg\r\n",
      "4.jpeg\r\n",
      "5.jpeg\r\n",
      "6.jpeg\r\n",
      "Copy of ITF總表.xlsx\r\n",
      "\u001b[34mDjango Project\u001b[m\u001b[m/\r\n",
      "IntoTheWild.jpg\r\n",
      "Iris Flower預測作業.ipynb\r\n",
      "\u001b[34mKKday Project\u001b[m\u001b[m/\r\n",
      "Pandas (延伸).ipynb\r\n",
      "Python 網頁.ipynb\r\n",
      "READ.md\r\n",
      "Untitled.ipynb\r\n",
      "client_secret.json\r\n",
      "difference.xlsx\r\n",
      "july_id.csv\r\n",
      "mydic.csv\r\n",
      "newdic.pickle\r\n",
      "poem.py\r\n",
      "test.txt\r\n",
      "web01.py\r\n",
      "web02.py\r\n",
      "\u001b[34m作業\u001b[m\u001b[m/\r\n",
      "使用IPywidgets(總整理）.ipynb\r\n",
      "線性迴歸.ipynb\r\n",
      "機器學習：SVM & Kmeans.ipynb\r\n"
     ]
    }
   ],
   "source": [
    "%ls"
   ]
  },
  {
   "cell_type": "code",
   "execution_count": 4,
   "metadata": {},
   "outputs": [
    {
     "name": "stdout",
     "output_type": "stream",
     "text": [
      "\u001b[0m\n",
      "\u001b[34m\u001b[1m  You can now view your Streamlit app in your browser.\u001b[0m\n",
      "\u001b[0m\n",
      "\u001b[34m  Local URL: \u001b[0m\u001b[1mhttp://localhost:8501\u001b[0m\n",
      "\u001b[34m  Network URL: \u001b[0m\u001b[1mhttp://10.232.79.218:8501\u001b[0m\n",
      "\u001b[0m\n",
      "^C\n",
      "\u001b[34m  Stopping...\u001b[0m\n"
     ]
    }
   ],
   "source": [
    "!streamlit run web01.py"
   ]
  },
  {
   "cell_type": "code",
   "execution_count": 16,
   "metadata": {},
   "outputs": [
    {
     "name": "stdout",
     "output_type": "stream",
     "text": [
      "Overwriting web03.py\n"
     ]
    }
   ],
   "source": [
    "%%writefile web03.py\n",
    "import streamlit as st\n",
    "import numpy as np \n",
    "import pandas as pd \n",
    "import matplotlib.pyplot as plt \n",
    "\n",
    "st.title(\"my plot web\")\n",
    "st.markdown(r\"畫一個 ＄\\dfrac{\\sin(x)}{x}$\") #markdown格式有誤\n",
    "x = np.linspace(-10,10,200)\n",
    "y = np.sinc(x)\n",
    "plt.plot(x,y)\n",
    "st.pyplot()"
   ]
  },
  {
   "cell_type": "code",
   "execution_count": 17,
   "metadata": {},
   "outputs": [
    {
     "name": "stdout",
     "output_type": "stream",
     "text": [
      "\u001b[0m\n",
      "\u001b[34m\u001b[1m  You can now view your Streamlit app in your browser.\u001b[0m\n",
      "\u001b[0m\n",
      "\u001b[34m  Local URL: \u001b[0m\u001b[1mhttp://localhost:8501\u001b[0m\n",
      "\u001b[34m  Network URL: \u001b[0m\u001b[1mhttp://10.232.79.218:8501\u001b[0m\n",
      "\u001b[0m\n",
      "^C\n",
      "\u001b[34m  Stopping...\u001b[0m\n"
     ]
    }
   ],
   "source": [
    "!streamlit run web03.py"
   ]
  },
  {
   "cell_type": "code",
   "execution_count": 18,
   "metadata": {},
   "outputs": [
    {
     "name": "stdout",
     "output_type": "stream",
     "text": [
      "Writing web05.py\n"
     ]
    }
   ],
   "source": [
    "%%writefile web05.py\n",
    "import streamlit as st\n",
    "import numpy as np \n",
    "import pandas as pd \n",
    "import matplotlib.pyplot as plt \n",
    "\n",
    "city = st.selectbox(\"居住地\",[\"台北市\",\n",
    "                           \"台中市\",\n",
    "                           \"高雄市\",\n",
    "                           \"台南市\"])\n",
    "\n",
    "st.write(f\"你選擇了{city}!\")"
   ]
  },
  {
   "cell_type": "code",
   "execution_count": 19,
   "metadata": {},
   "outputs": [
    {
     "name": "stdout",
     "output_type": "stream",
     "text": [
      "\u001b[0m\n",
      "\u001b[34m\u001b[1m  You can now view your Streamlit app in your browser.\u001b[0m\n",
      "\u001b[0m\n",
      "\u001b[34m  Local URL: \u001b[0m\u001b[1mhttp://localhost:8501\u001b[0m\n",
      "\u001b[34m  Network URL: \u001b[0m\u001b[1mhttp://10.232.79.218:8501\u001b[0m\n",
      "\u001b[0m\n",
      "^C\n",
      "\u001b[34m  Stopping...\u001b[0m\n"
     ]
    }
   ],
   "source": [
    "!streamlit run web05.py"
   ]
  },
  {
   "cell_type": "code",
   "execution_count": 24,
   "metadata": {},
   "outputs": [
    {
     "name": "stdout",
     "output_type": "stream",
     "text": [
      "Overwriting web06.py\n"
     ]
    }
   ],
   "source": [
    "%%writefile web06.py\n",
    "import streamlit as st\n",
    "import numpy as np \n",
    "import pandas as pd \n",
    "import matplotlib.pyplot as plt \n",
    "\n",
    "coffee = st.slider(\"咖啡粉量\",\n",
    "                   10.0, #最小值\n",
    "                   45.0, #最大值\n",
    "                   20.0, #default數值\n",
    "                   0.5) #每次跳的格數\n",
    "water = 15*coffee\n",
    "st.write(f\"咖啡粉{coffee}克, 請使用{water}g的水\")"
   ]
  },
  {
   "cell_type": "code",
   "execution_count": 25,
   "metadata": {},
   "outputs": [
    {
     "name": "stdout",
     "output_type": "stream",
     "text": [
      "\u001b[0m\n",
      "\u001b[34m\u001b[1m  You can now view your Streamlit app in your browser.\u001b[0m\n",
      "\u001b[0m\n",
      "\u001b[34m  Local URL: \u001b[0m\u001b[1mhttp://localhost:8501\u001b[0m\n",
      "\u001b[34m  Network URL: \u001b[0m\u001b[1mhttp://10.232.79.218:8501\u001b[0m\n",
      "\u001b[0m\n",
      "^C\n",
      "\u001b[34m  Stopping...\u001b[0m\n"
     ]
    }
   ],
   "source": [
    "!streamlit run web06.py"
   ]
  },
  {
   "cell_type": "code",
   "execution_count": 26,
   "metadata": {},
   "outputs": [
    {
     "name": "stdout",
     "output_type": "stream",
     "text": [
      "Writing web07.py\n"
     ]
    }
   ],
   "source": [
    "%%writefile web07.py\n",
    "import streamlit as st\n",
    "import numpy as np \n",
    "import pandas as pd \n",
    "import matplotlib.pyplot as plt \n",
    "\n",
    "# 經緯度：果夫樓的經緯度\n",
    "map_data = pd.DataFrame(\n",
    "            np.random.randn(150,2)/[100,100] + [24.986867, 121.576216],\n",
    "            columns = [\"lat\",\"lon\"])\n",
    "\n",
    "st.map(map_data)"
   ]
  },
  {
   "cell_type": "code",
   "execution_count": null,
   "metadata": {},
   "outputs": [
    {
     "name": "stdout",
     "output_type": "stream",
     "text": [
      "\u001b[0m\r\n",
      "\u001b[34m\u001b[1m  You can now view your Streamlit app in your browser.\u001b[0m\r\n",
      "\u001b[0m\r\n",
      "\u001b[34m  Local URL: \u001b[0m\u001b[1mhttp://localhost:8501\u001b[0m\r\n",
      "\u001b[34m  Network URL: \u001b[0m\u001b[1mhttp://10.232.79.218:8501\u001b[0m\r\n",
      "\u001b[0m\r\n"
     ]
    }
   ],
   "source": [
    "!streamlit run web07.py"
   ]
  },
  {
   "cell_type": "code",
   "execution_count": null,
   "metadata": {},
   "outputs": [],
   "source": []
  }
 ],
 "metadata": {
  "kernelspec": {
   "display_name": "Python 3",
   "language": "python",
   "name": "python3"
  },
  "language_info": {
   "codemirror_mode": {
    "name": "ipython",
    "version": 3
   },
   "file_extension": ".py",
   "mimetype": "text/x-python",
   "name": "python",
   "nbconvert_exporter": "python",
   "pygments_lexer": "ipython3",
   "version": "3.7.3"
  }
 },
 "nbformat": 4,
 "nbformat_minor": 2
}
